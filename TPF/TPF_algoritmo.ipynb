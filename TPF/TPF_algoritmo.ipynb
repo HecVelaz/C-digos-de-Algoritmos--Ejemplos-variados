{
  "nbformat": 4,
  "nbformat_minor": 0,
  "metadata": {
    "colab": {
      "provenance": [],
      "authorship_tag": "ABX9TyOX1rMw3B1cTsz67NvujQf7",
      "include_colab_link": true
    },
    "kernelspec": {
      "name": "python3",
      "display_name": "Python 3"
    },
    "language_info": {
      "name": "python"
    }
  },
  "cells": [
    {
      "cell_type": "markdown",
      "metadata": {
        "id": "view-in-github",
        "colab_type": "text"
      },
      "source": [
        "<a href=\"https://colab.research.google.com/github/HecVelaz/Codigos-de-Algoritmos--Ejemplos-variados/blob/main/TPF/TPF_algoritmo.ipynb\" target=\"_parent\"><img src=\"https://colab.research.google.com/assets/colab-badge.svg\" alt=\"Open In Colab\"/></a>"
      ]
    },
    {
      "cell_type": "markdown",
      "source": [
        "Considerar una red de computadoras como un grafo dirigido G = (V,A), donde cada\n",
        "V representa un nodo en la red, y A={(i,j)|(i,j) ⊂VxV,i≠j} denota el conjunto de enlaces\n",
        "entre ellos.  \n",
        "Se debe diseñar un programa en Python que permita ingresar la topología de una\n",
        "red y representarla por medio de grafos. Luego, se debe determinar entre dos nodos\n",
        "de la red la distancia mínima y las métricas de Calidad de Servicio(QoS):  \n",
        "● El ancho de banda  \n",
        "● El retardo  \n",
        "● La probabilidad de pérdida de paquetes  \n",
        "Se debe tener en cuenta que el retardo (D) es una métrica aditiva, mientras el ancho\n",
        "de banda(C) es cóncavo y la probabilidad de pérdida de paquete (L) es logarítmica,\n",
        "es decir es multiplicativa. Entonces para cualquier enlace tenemos\n",
        "\n",
        "D = d(i,j) + d(j,k) + .... + d(s,t)},  \n",
        "C = min{c(i,j) + c(j,k) + .... + c(s,t)},  \n",
        "L’ = l’(i,j) + l’(j,k) + .... + l’(s,t)},  \n",
        "L = 1 - exp(L’).  \n",
        "Entrada: La primera línea consiste en un número natural n, que indica la cantidad\n",
        "de nodos de la red. Seguidamente se ingresa el par de nodos, la distancia y las\n",
        "métricas de QoS(ancho de banda, retardo y probabilidad de pérdida de paquetes).\n",
        "Se ingresan los datos hasta que se lea -1.\n",
        "Posterior a leer la red se debe leer el origen y destino para calcular el camino más\n",
        "corto y las métricas QoS en dicho camino, se pueden ingresar varios pares de\n",
        "origen destino hasta leer -1.  \n",
        "6  \n",
        "1 2 4 10 1 0.01  \n",
        "2 3 5 8 1 0.03\n"
      ],
      "metadata": {
        "id": "3RCMd_U7kF2g"
      }
    },
    {
      "cell_type": "code",
      "execution_count": null,
      "metadata": {
        "id": "2F2J2mBOjrlw"
      },
      "outputs": [],
      "source": []
    }
  ]
}