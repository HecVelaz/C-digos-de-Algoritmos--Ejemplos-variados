{
  "nbformat": 4,
  "nbformat_minor": 0,
  "metadata": {
    "colab": {
      "provenance": [],
      "gpuType": "T4",
      "authorship_tag": "ABX9TyNEX00uEH7xvqI3M7xXkTNt",
      "include_colab_link": true
    },
    "kernelspec": {
      "name": "python3",
      "display_name": "Python 3"
    },
    "language_info": {
      "name": "python"
    },
    "accelerator": "GPU"
  },
  "cells": [
    {
      "cell_type": "markdown",
      "metadata": {
        "id": "view-in-github",
        "colab_type": "text"
      },
      "source": [
        "<a href=\"https://colab.research.google.com/github/HecVelaz/Codigos-de-Algoritmos--Ejemplos-variados/blob/main/Prediccion_de_Temperatura/codigoColab/Prediccion_de_temperatura_IA.ipynb\" target=\"_parent\"><img src=\"https://colab.research.google.com/assets/colab-badge.svg\" alt=\"Open In Colab\"/></a>"
      ]
    },
    {
      "cell_type": "markdown",
      "source": [
        "Nombre:Héctor Velázquez\n",
        "\n"
      ],
      "metadata": {
        "id": "pn4k9OFkapj9"
      }
    },
    {
      "cell_type": "code",
      "execution_count": 1,
      "metadata": {
        "id": "6ZKA9k6haWO1"
      },
      "outputs": [],
      "source": [
        "import pandas as pd\n",
        "import numpy as np\n",
        "import tensorflow as tf\n"
      ]
    },
    {
      "cell_type": "code",
      "source": [
        "pip install optuna"
      ],
      "metadata": {
        "colab": {
          "base_uri": "https://localhost:8080/"
        },
        "id": "zwWw-116a-6M",
        "outputId": "d1a75835-9eb0-4780-af14-25113bee9b8c"
      },
      "execution_count": 3,
      "outputs": [
        {
          "output_type": "stream",
          "name": "stdout",
          "text": [
            "Collecting optuna\n",
            "  Downloading optuna-3.6.0-py3-none-any.whl (379 kB)\n",
            "\u001b[2K     \u001b[90m━━━━━━━━━━━━━━━━━━━━━━━━━━━━━━━━━━━━━━━━\u001b[0m \u001b[32m379.9/379.9 kB\u001b[0m \u001b[31m2.3 MB/s\u001b[0m eta \u001b[36m0:00:00\u001b[0m\n",
            "\u001b[?25hCollecting alembic>=1.5.0 (from optuna)\n",
            "  Downloading alembic-1.13.1-py3-none-any.whl (233 kB)\n",
            "\u001b[2K     \u001b[90m━━━━━━━━━━━━━━━━━━━━━━━━━━━━━━━━━━━━━━━━\u001b[0m \u001b[32m233.4/233.4 kB\u001b[0m \u001b[31m16.4 MB/s\u001b[0m eta \u001b[36m0:00:00\u001b[0m\n",
            "\u001b[?25hCollecting colorlog (from optuna)\n",
            "  Downloading colorlog-6.8.2-py3-none-any.whl (11 kB)\n",
            "Requirement already satisfied: numpy in /usr/local/lib/python3.10/dist-packages (from optuna) (1.25.2)\n",
            "Requirement already satisfied: packaging>=20.0 in /usr/local/lib/python3.10/dist-packages (from optuna) (24.0)\n",
            "Requirement already satisfied: sqlalchemy>=1.3.0 in /usr/local/lib/python3.10/dist-packages (from optuna) (2.0.29)\n",
            "Requirement already satisfied: tqdm in /usr/local/lib/python3.10/dist-packages (from optuna) (4.66.2)\n",
            "Requirement already satisfied: PyYAML in /usr/local/lib/python3.10/dist-packages (from optuna) (6.0.1)\n",
            "Collecting Mako (from alembic>=1.5.0->optuna)\n",
            "  Downloading Mako-1.3.2-py3-none-any.whl (78 kB)\n",
            "\u001b[2K     \u001b[90m━━━━━━━━━━━━━━━━━━━━━━━━━━━━━━━━━━━━━━━━\u001b[0m \u001b[32m78.7/78.7 kB\u001b[0m \u001b[31m3.3 MB/s\u001b[0m eta \u001b[36m0:00:00\u001b[0m\n",
            "\u001b[?25hRequirement already satisfied: typing-extensions>=4 in /usr/local/lib/python3.10/dist-packages (from alembic>=1.5.0->optuna) (4.10.0)\n",
            "Requirement already satisfied: greenlet!=0.4.17 in /usr/local/lib/python3.10/dist-packages (from sqlalchemy>=1.3.0->optuna) (3.0.3)\n",
            "Requirement already satisfied: MarkupSafe>=0.9.2 in /usr/local/lib/python3.10/dist-packages (from Mako->alembic>=1.5.0->optuna) (2.1.5)\n",
            "Installing collected packages: Mako, colorlog, alembic, optuna\n",
            "Successfully installed Mako-1.3.2 alembic-1.13.1 colorlog-6.8.2 optuna-3.6.0\n"
          ]
        }
      ]
    },
    {
      "cell_type": "code",
      "source": [
        "import optuna\n"
      ],
      "metadata": {
        "id": "Oo0T2I5-bStz"
      },
      "execution_count": 4,
      "outputs": []
    },
    {
      "cell_type": "code",
      "source": [
        "from sklearn.model_selection import train_test_split\n",
        "from sklearn.preprocessing import StandardScaler\n",
        "from sklearn.metrics import accuracy_score"
      ],
      "metadata": {
        "id": "2_M6g0kkbZuX"
      },
      "execution_count": 5,
      "outputs": []
    },
    {
      "cell_type": "code",
      "source": [
        "from tensorflow.keras.models import Sequential\n",
        "from tensorflow.keras.layers import Dense\n",
        "from tensorflow.keras.optimizers import Adam\n",
        "from tensorflow.keras.losses import SparseCategoricalCrossentropy"
      ],
      "metadata": {
        "id": "cA0lEOg2beVa"
      },
      "execution_count": 6,
      "outputs": []
    },
    {
      "cell_type": "code",
      "source": [
        "tf.config.list_physical_devices('GPU')\n",
        "tf.config.experimental.enable_op_determinism()"
      ],
      "metadata": {
        "id": "oeSWhTowbn_6"
      },
      "execution_count": 7,
      "outputs": []
    },
    {
      "cell_type": "code",
      "source": [
        "from sklearn.preprocessing import MinMaxScaler\n",
        "from sklearn.metrics import precision_score, recall_score, f1_score\n",
        "SEED = 7"
      ],
      "metadata": {
        "id": "1YWb795dbpEf"
      },
      "execution_count": 8,
      "outputs": []
    },
    {
      "cell_type": "code",
      "source": [
        "# Imprimir los dispositivos físicos disponibles (GPU)\n",
        "print(tf.config.list_physical_devices('GPU'))"
      ],
      "metadata": {
        "colab": {
          "base_uri": "https://localhost:8080/"
        },
        "id": "9QTsuhG9bwgR",
        "outputId": "d764f829-51ab-49ee-869c-fd54ff88e19b"
      },
      "execution_count": 9,
      "outputs": [
        {
          "output_type": "stream",
          "name": "stdout",
          "text": [
            "[PhysicalDevice(name='/physical_device:GPU:0', device_type='GPU')]\n"
          ]
        }
      ]
    },
    {
      "cell_type": "code",
      "source": [
        "# Cargar el conjunto de datos\n",
        "dataset = pd.read_csv(\"Temp_Asu20092021.csv\")\n",
        "datos=dataset"
      ],
      "metadata": {
        "id": "IrwT5_D6b1Ah"
      },
      "execution_count": 10,
      "outputs": []
    },
    {
      "cell_type": "code",
      "source": [
        "datos.info()"
      ],
      "metadata": {
        "colab": {
          "base_uri": "https://localhost:8080/"
        },
        "id": "tVulm-c6cCHy",
        "outputId": "d5dfb6d3-aab0-4e26-f082-ac876c222807"
      },
      "execution_count": 11,
      "outputs": [
        {
          "output_type": "stream",
          "name": "stdout",
          "text": [
            "<class 'pandas.core.frame.DataFrame'>\n",
            "RangeIndex: 37984 entries, 0 to 37983\n",
            "Data columns (total 4 columns):\n",
            " #   Column       Non-Null Count  Dtype  \n",
            "---  ------       --------------  -----  \n",
            " 0   Unnamed: 0   37984 non-null  int64  \n",
            " 1   Fecha        37984 non-null  object \n",
            " 2   Temperatura  37984 non-null  float64\n",
            " 3   Humedad      37984 non-null  float64\n",
            "dtypes: float64(2), int64(1), object(1)\n",
            "memory usage: 1.2+ MB\n"
          ]
        }
      ]
    },
    {
      "cell_type": "code",
      "source": [
        "datos.head()"
      ],
      "metadata": {
        "colab": {
          "base_uri": "https://localhost:8080/",
          "height": 206
        },
        "id": "ATYvQJJ4lHf6",
        "outputId": "df2b1ffb-8410-4a28-a081-8b179f5c04e7"
      },
      "execution_count": 12,
      "outputs": [
        {
          "output_type": "execute_result",
          "data": {
            "text/plain": [
              "   Unnamed: 0                Fecha  Temperatura    Humedad\n",
              "0           0  2009-01-01 00:00:00    26.749483  69.609451\n",
              "1           1  2009-01-01 03:00:00    25.956114  78.225166\n",
              "2           2  2009-01-01 06:00:00    23.707357  93.551756\n",
              "3           3  2009-01-01 09:00:00    23.726823  93.394817\n",
              "4           4  2009-01-01 12:00:00    29.606379  72.155839"
            ],
            "text/html": [
              "\n",
              "  <div id=\"df-d44163f0-060e-4540-b054-53f3ef7710bc\" class=\"colab-df-container\">\n",
              "    <div>\n",
              "<style scoped>\n",
              "    .dataframe tbody tr th:only-of-type {\n",
              "        vertical-align: middle;\n",
              "    }\n",
              "\n",
              "    .dataframe tbody tr th {\n",
              "        vertical-align: top;\n",
              "    }\n",
              "\n",
              "    .dataframe thead th {\n",
              "        text-align: right;\n",
              "    }\n",
              "</style>\n",
              "<table border=\"1\" class=\"dataframe\">\n",
              "  <thead>\n",
              "    <tr style=\"text-align: right;\">\n",
              "      <th></th>\n",
              "      <th>Unnamed: 0</th>\n",
              "      <th>Fecha</th>\n",
              "      <th>Temperatura</th>\n",
              "      <th>Humedad</th>\n",
              "    </tr>\n",
              "  </thead>\n",
              "  <tbody>\n",
              "    <tr>\n",
              "      <th>0</th>\n",
              "      <td>0</td>\n",
              "      <td>2009-01-01 00:00:00</td>\n",
              "      <td>26.749483</td>\n",
              "      <td>69.609451</td>\n",
              "    </tr>\n",
              "    <tr>\n",
              "      <th>1</th>\n",
              "      <td>1</td>\n",
              "      <td>2009-01-01 03:00:00</td>\n",
              "      <td>25.956114</td>\n",
              "      <td>78.225166</td>\n",
              "    </tr>\n",
              "    <tr>\n",
              "      <th>2</th>\n",
              "      <td>2</td>\n",
              "      <td>2009-01-01 06:00:00</td>\n",
              "      <td>23.707357</td>\n",
              "      <td>93.551756</td>\n",
              "    </tr>\n",
              "    <tr>\n",
              "      <th>3</th>\n",
              "      <td>3</td>\n",
              "      <td>2009-01-01 09:00:00</td>\n",
              "      <td>23.726823</td>\n",
              "      <td>93.394817</td>\n",
              "    </tr>\n",
              "    <tr>\n",
              "      <th>4</th>\n",
              "      <td>4</td>\n",
              "      <td>2009-01-01 12:00:00</td>\n",
              "      <td>29.606379</td>\n",
              "      <td>72.155839</td>\n",
              "    </tr>\n",
              "  </tbody>\n",
              "</table>\n",
              "</div>\n",
              "    <div class=\"colab-df-buttons\">\n",
              "\n",
              "  <div class=\"colab-df-container\">\n",
              "    <button class=\"colab-df-convert\" onclick=\"convertToInteractive('df-d44163f0-060e-4540-b054-53f3ef7710bc')\"\n",
              "            title=\"Convert this dataframe to an interactive table.\"\n",
              "            style=\"display:none;\">\n",
              "\n",
              "  <svg xmlns=\"http://www.w3.org/2000/svg\" height=\"24px\" viewBox=\"0 -960 960 960\">\n",
              "    <path d=\"M120-120v-720h720v720H120Zm60-500h600v-160H180v160Zm220 220h160v-160H400v160Zm0 220h160v-160H400v160ZM180-400h160v-160H180v160Zm440 0h160v-160H620v160ZM180-180h160v-160H180v160Zm440 0h160v-160H620v160Z\"/>\n",
              "  </svg>\n",
              "    </button>\n",
              "\n",
              "  <style>\n",
              "    .colab-df-container {\n",
              "      display:flex;\n",
              "      gap: 12px;\n",
              "    }\n",
              "\n",
              "    .colab-df-convert {\n",
              "      background-color: #E8F0FE;\n",
              "      border: none;\n",
              "      border-radius: 50%;\n",
              "      cursor: pointer;\n",
              "      display: none;\n",
              "      fill: #1967D2;\n",
              "      height: 32px;\n",
              "      padding: 0 0 0 0;\n",
              "      width: 32px;\n",
              "    }\n",
              "\n",
              "    .colab-df-convert:hover {\n",
              "      background-color: #E2EBFA;\n",
              "      box-shadow: 0px 1px 2px rgba(60, 64, 67, 0.3), 0px 1px 3px 1px rgba(60, 64, 67, 0.15);\n",
              "      fill: #174EA6;\n",
              "    }\n",
              "\n",
              "    .colab-df-buttons div {\n",
              "      margin-bottom: 4px;\n",
              "    }\n",
              "\n",
              "    [theme=dark] .colab-df-convert {\n",
              "      background-color: #3B4455;\n",
              "      fill: #D2E3FC;\n",
              "    }\n",
              "\n",
              "    [theme=dark] .colab-df-convert:hover {\n",
              "      background-color: #434B5C;\n",
              "      box-shadow: 0px 1px 3px 1px rgba(0, 0, 0, 0.15);\n",
              "      filter: drop-shadow(0px 1px 2px rgba(0, 0, 0, 0.3));\n",
              "      fill: #FFFFFF;\n",
              "    }\n",
              "  </style>\n",
              "\n",
              "    <script>\n",
              "      const buttonEl =\n",
              "        document.querySelector('#df-d44163f0-060e-4540-b054-53f3ef7710bc button.colab-df-convert');\n",
              "      buttonEl.style.display =\n",
              "        google.colab.kernel.accessAllowed ? 'block' : 'none';\n",
              "\n",
              "      async function convertToInteractive(key) {\n",
              "        const element = document.querySelector('#df-d44163f0-060e-4540-b054-53f3ef7710bc');\n",
              "        const dataTable =\n",
              "          await google.colab.kernel.invokeFunction('convertToInteractive',\n",
              "                                                    [key], {});\n",
              "        if (!dataTable) return;\n",
              "\n",
              "        const docLinkHtml = 'Like what you see? Visit the ' +\n",
              "          '<a target=\"_blank\" href=https://colab.research.google.com/notebooks/data_table.ipynb>data table notebook</a>'\n",
              "          + ' to learn more about interactive tables.';\n",
              "        element.innerHTML = '';\n",
              "        dataTable['output_type'] = 'display_data';\n",
              "        await google.colab.output.renderOutput(dataTable, element);\n",
              "        const docLink = document.createElement('div');\n",
              "        docLink.innerHTML = docLinkHtml;\n",
              "        element.appendChild(docLink);\n",
              "      }\n",
              "    </script>\n",
              "  </div>\n",
              "\n",
              "\n",
              "<div id=\"df-89f97a5b-c1ce-40d1-9b0d-c8e996f6bef3\">\n",
              "  <button class=\"colab-df-quickchart\" onclick=\"quickchart('df-89f97a5b-c1ce-40d1-9b0d-c8e996f6bef3')\"\n",
              "            title=\"Suggest charts\"\n",
              "            style=\"display:none;\">\n",
              "\n",
              "<svg xmlns=\"http://www.w3.org/2000/svg\" height=\"24px\"viewBox=\"0 0 24 24\"\n",
              "     width=\"24px\">\n",
              "    <g>\n",
              "        <path d=\"M19 3H5c-1.1 0-2 .9-2 2v14c0 1.1.9 2 2 2h14c1.1 0 2-.9 2-2V5c0-1.1-.9-2-2-2zM9 17H7v-7h2v7zm4 0h-2V7h2v10zm4 0h-2v-4h2v4z\"/>\n",
              "    </g>\n",
              "</svg>\n",
              "  </button>\n",
              "\n",
              "<style>\n",
              "  .colab-df-quickchart {\n",
              "      --bg-color: #E8F0FE;\n",
              "      --fill-color: #1967D2;\n",
              "      --hover-bg-color: #E2EBFA;\n",
              "      --hover-fill-color: #174EA6;\n",
              "      --disabled-fill-color: #AAA;\n",
              "      --disabled-bg-color: #DDD;\n",
              "  }\n",
              "\n",
              "  [theme=dark] .colab-df-quickchart {\n",
              "      --bg-color: #3B4455;\n",
              "      --fill-color: #D2E3FC;\n",
              "      --hover-bg-color: #434B5C;\n",
              "      --hover-fill-color: #FFFFFF;\n",
              "      --disabled-bg-color: #3B4455;\n",
              "      --disabled-fill-color: #666;\n",
              "  }\n",
              "\n",
              "  .colab-df-quickchart {\n",
              "    background-color: var(--bg-color);\n",
              "    border: none;\n",
              "    border-radius: 50%;\n",
              "    cursor: pointer;\n",
              "    display: none;\n",
              "    fill: var(--fill-color);\n",
              "    height: 32px;\n",
              "    padding: 0;\n",
              "    width: 32px;\n",
              "  }\n",
              "\n",
              "  .colab-df-quickchart:hover {\n",
              "    background-color: var(--hover-bg-color);\n",
              "    box-shadow: 0 1px 2px rgba(60, 64, 67, 0.3), 0 1px 3px 1px rgba(60, 64, 67, 0.15);\n",
              "    fill: var(--button-hover-fill-color);\n",
              "  }\n",
              "\n",
              "  .colab-df-quickchart-complete:disabled,\n",
              "  .colab-df-quickchart-complete:disabled:hover {\n",
              "    background-color: var(--disabled-bg-color);\n",
              "    fill: var(--disabled-fill-color);\n",
              "    box-shadow: none;\n",
              "  }\n",
              "\n",
              "  .colab-df-spinner {\n",
              "    border: 2px solid var(--fill-color);\n",
              "    border-color: transparent;\n",
              "    border-bottom-color: var(--fill-color);\n",
              "    animation:\n",
              "      spin 1s steps(1) infinite;\n",
              "  }\n",
              "\n",
              "  @keyframes spin {\n",
              "    0% {\n",
              "      border-color: transparent;\n",
              "      border-bottom-color: var(--fill-color);\n",
              "      border-left-color: var(--fill-color);\n",
              "    }\n",
              "    20% {\n",
              "      border-color: transparent;\n",
              "      border-left-color: var(--fill-color);\n",
              "      border-top-color: var(--fill-color);\n",
              "    }\n",
              "    30% {\n",
              "      border-color: transparent;\n",
              "      border-left-color: var(--fill-color);\n",
              "      border-top-color: var(--fill-color);\n",
              "      border-right-color: var(--fill-color);\n",
              "    }\n",
              "    40% {\n",
              "      border-color: transparent;\n",
              "      border-right-color: var(--fill-color);\n",
              "      border-top-color: var(--fill-color);\n",
              "    }\n",
              "    60% {\n",
              "      border-color: transparent;\n",
              "      border-right-color: var(--fill-color);\n",
              "    }\n",
              "    80% {\n",
              "      border-color: transparent;\n",
              "      border-right-color: var(--fill-color);\n",
              "      border-bottom-color: var(--fill-color);\n",
              "    }\n",
              "    90% {\n",
              "      border-color: transparent;\n",
              "      border-bottom-color: var(--fill-color);\n",
              "    }\n",
              "  }\n",
              "</style>\n",
              "\n",
              "  <script>\n",
              "    async function quickchart(key) {\n",
              "      const quickchartButtonEl =\n",
              "        document.querySelector('#' + key + ' button');\n",
              "      quickchartButtonEl.disabled = true;  // To prevent multiple clicks.\n",
              "      quickchartButtonEl.classList.add('colab-df-spinner');\n",
              "      try {\n",
              "        const charts = await google.colab.kernel.invokeFunction(\n",
              "            'suggestCharts', [key], {});\n",
              "      } catch (error) {\n",
              "        console.error('Error during call to suggestCharts:', error);\n",
              "      }\n",
              "      quickchartButtonEl.classList.remove('colab-df-spinner');\n",
              "      quickchartButtonEl.classList.add('colab-df-quickchart-complete');\n",
              "    }\n",
              "    (() => {\n",
              "      let quickchartButtonEl =\n",
              "        document.querySelector('#df-89f97a5b-c1ce-40d1-9b0d-c8e996f6bef3 button');\n",
              "      quickchartButtonEl.style.display =\n",
              "        google.colab.kernel.accessAllowed ? 'block' : 'none';\n",
              "    })();\n",
              "  </script>\n",
              "</div>\n",
              "    </div>\n",
              "  </div>\n"
            ],
            "application/vnd.google.colaboratory.intrinsic+json": {
              "type": "dataframe",
              "variable_name": "datos",
              "summary": "{\n  \"name\": \"datos\",\n  \"rows\": 37984,\n  \"fields\": [\n    {\n      \"column\": \"Unnamed: 0\",\n      \"properties\": {\n        \"dtype\": \"number\",\n        \"std\": 10965,\n        \"min\": 0,\n        \"max\": 37983,\n        \"num_unique_values\": 37984,\n        \"samples\": [\n          30304,\n          37621,\n          5697\n        ],\n        \"semantic_type\": \"\",\n        \"description\": \"\"\n      }\n    },\n    {\n      \"column\": \"Fecha\",\n      \"properties\": {\n        \"dtype\": \"object\",\n        \"num_unique_values\": 37984,\n        \"samples\": [\n          \"2019-05-17 00:00:00\",\n          \"2021-11-16 15:00:00\",\n          \"2010-12-14 03:00:00\"\n        ],\n        \"semantic_type\": \"\",\n        \"description\": \"\"\n      }\n    },\n    {\n      \"column\": \"Temperatura\",\n      \"properties\": {\n        \"dtype\": \"number\",\n        \"std\": 7.010673790075698,\n        \"min\": 0.8165542059050495,\n        \"max\": 45.40800013976252,\n        \"num_unique_values\": 37618,\n        \"samples\": [\n          13.441419161810018,\n          25.926118955905,\n          19.608170161809998\n        ],\n        \"semantic_type\": \"\",\n        \"description\": \"\"\n      }\n    },\n    {\n      \"column\": \"Humedad\",\n      \"properties\": {\n        \"dtype\": \"number\",\n        \"std\": 21.241158788568338,\n        \"min\": 11.362540000000005,\n        \"max\": 113.5935457070601,\n        \"num_unique_values\": 36296,\n        \"samples\": [\n          96.85068926457,\n          30.69162708818997,\n          68.90760061732992\n        ],\n        \"semantic_type\": \"\",\n        \"description\": \"\"\n      }\n    }\n  ]\n}"
            }
          },
          "metadata": {},
          "execution_count": 12
        }
      ]
    },
    {
      "cell_type": "code",
      "source": [
        "valores_faltantes_Fecha = datos['Fecha'].isnull().sum()\n",
        "valores_faltantes_Fecha"
      ],
      "metadata": {
        "colab": {
          "base_uri": "https://localhost:8080/"
        },
        "id": "XMNNmQ4rc0s9",
        "outputId": "b6e6da4a-2a3f-4c43-c2a8-34ee218a9753"
      },
      "execution_count": null,
      "outputs": [
        {
          "output_type": "execute_result",
          "data": {
            "text/plain": [
              "0"
            ]
          },
          "metadata": {},
          "execution_count": 232
        }
      ]
    },
    {
      "cell_type": "code",
      "source": [
        "valores_faltantes_Temperatura = datos['Temperatura'].isnull().sum()\n",
        "valores_faltantes_Temperatura"
      ],
      "metadata": {
        "colab": {
          "base_uri": "https://localhost:8080/"
        },
        "id": "Dv-9opi0dAHU",
        "outputId": "832f0c02-01b1-496e-9fa4-b1a1315bd947"
      },
      "execution_count": null,
      "outputs": [
        {
          "output_type": "execute_result",
          "data": {
            "text/plain": [
              "0"
            ]
          },
          "metadata": {},
          "execution_count": 233
        }
      ]
    },
    {
      "cell_type": "code",
      "source": [
        "valores_faltantes_Humedad = datos['Humedad'].isnull().sum()\n",
        "valores_faltantes_Humedad"
      ],
      "metadata": {
        "colab": {
          "base_uri": "https://localhost:8080/"
        },
        "id": "tBCd0NLedIJA",
        "outputId": "c0ae754f-b47f-47bc-b647-72a10c78bd45"
      },
      "execution_count": null,
      "outputs": [
        {
          "output_type": "execute_result",
          "data": {
            "text/plain": [
              "0"
            ]
          },
          "metadata": {},
          "execution_count": 46
        }
      ]
    },
    {
      "cell_type": "markdown",
      "source": [
        "No hay valores faltantes en las columnas de fecha, temperatura y humedad"
      ],
      "metadata": {
        "id": "D61Oj1QRdRNN"
      }
    },
    {
      "cell_type": "code",
      "source": [
        "valores_faltantes_Fecha = datos['Fecha'].isna().sum()\n",
        "valores_faltantes_Fecha"
      ],
      "metadata": {
        "colab": {
          "base_uri": "https://localhost:8080/"
        },
        "id": "dU6iu9Xud5dy",
        "outputId": "079062c7-0288-456c-f891-ff99b94c5f99"
      },
      "execution_count": null,
      "outputs": [
        {
          "output_type": "execute_result",
          "data": {
            "text/plain": [
              "0"
            ]
          },
          "metadata": {},
          "execution_count": 47
        }
      ]
    },
    {
      "cell_type": "code",
      "source": [
        "valores_faltantes_Temperatura = datos['Temperatura'].isna().sum()\n",
        "valores_faltantes_Temperatura"
      ],
      "metadata": {
        "colab": {
          "base_uri": "https://localhost:8080/"
        },
        "id": "TQDZC51hd7oQ",
        "outputId": "e8bf73aa-c486-4f84-c634-f6566e3584c0"
      },
      "execution_count": null,
      "outputs": [
        {
          "output_type": "execute_result",
          "data": {
            "text/plain": [
              "0"
            ]
          },
          "metadata": {},
          "execution_count": 48
        }
      ]
    },
    {
      "cell_type": "code",
      "source": [
        "valores_faltantes_Humedad = datos['Humedad'].isna().sum()\n",
        "valores_faltantes_Humedad"
      ],
      "metadata": {
        "colab": {
          "base_uri": "https://localhost:8080/"
        },
        "id": "KxyrFn1hd_yz",
        "outputId": "848b2fb9-f300-4622-d0da-a040190db67d"
      },
      "execution_count": null,
      "outputs": [
        {
          "output_type": "execute_result",
          "data": {
            "text/plain": [
              "0"
            ]
          },
          "metadata": {},
          "execution_count": 49
        }
      ]
    },
    {
      "cell_type": "code",
      "source": [
        "datos['Fecha'] = pd.to_datetime(datos['Fecha'])\n",
        "\n"
      ],
      "metadata": {
        "id": "Pj9THy4Cevey"
      },
      "execution_count": 13,
      "outputs": []
    },
    {
      "cell_type": "code",
      "source": [
        "datos.set_index('Fecha', inplace=True)\n"
      ],
      "metadata": {
        "id": "wLXaiinJsBHC"
      },
      "execution_count": 14,
      "outputs": []
    },
    {
      "cell_type": "code",
      "source": [
        "datos = datos[datos.index.year >= 2019]"
      ],
      "metadata": {
        "id": "YspW52T8ufIR"
      },
      "execution_count": 15,
      "outputs": []
    },
    {
      "cell_type": "code",
      "source": [
        "datos.dropna(inplace=True)"
      ],
      "metadata": {
        "colab": {
          "base_uri": "https://localhost:8080/"
        },
        "id": "5iRWmYNpuv5j",
        "outputId": "791ca598-afec-4805-e832-d8cbabacce74"
      },
      "execution_count": 16,
      "outputs": [
        {
          "output_type": "stream",
          "name": "stderr",
          "text": [
            "<ipython-input-16-8df6119a9e81>:1: SettingWithCopyWarning: \n",
            "A value is trying to be set on a copy of a slice from a DataFrame\n",
            "\n",
            "See the caveats in the documentation: https://pandas.pydata.org/pandas-docs/stable/user_guide/indexing.html#returning-a-view-versus-a-copy\n",
            "  datos.dropna(inplace=True)\n"
          ]
        }
      ]
    },
    {
      "cell_type": "code",
      "source": [
        "datos_interpolados = datos.resample('1H').interpolate(method='spline', order=3)\n",
        "datos_interpolados.dropna(inplace=True)"
      ],
      "metadata": {
        "id": "m2oTw6z8u2YQ"
      },
      "execution_count": 17,
      "outputs": []
    },
    {
      "cell_type": "code",
      "source": [
        "# CALCULAR EL MÁXIMO DE CADA DÍA\n",
        "max_temperaturas_diarias = datos_interpolados.resample('D').max()"
      ],
      "metadata": {
        "id": "xfE0AVovvCQ3"
      },
      "execution_count": 18,
      "outputs": []
    },
    {
      "cell_type": "code",
      "source": [
        "# Aplicar corte de cuartil a las temperaturas máximas diarias\n",
        "cuartiles = max_temperaturas_diarias['Temperatura'].quantile([0.25, 0.5, 0.75])"
      ],
      "metadata": {
        "id": "d3hzq0pUvGfE"
      },
      "execution_count": 19,
      "outputs": []
    },
    {
      "cell_type": "code",
      "source": [
        "# Definir categorías basadas en los cuartiles\n",
        "umbral_frio = cuartiles[0.25]\n",
        "umbral_bueno = cuartiles[0.5]\n",
        "umbral_caliente = cuartiles[0.75]\n",
        "print(cuartiles)\n",
        "datos_interpolados['Max_Temperatura_Dia'] = datos_interpolados.groupby(datos_interpolados.index.date)['Temperatura'].transform('max')\n"
      ],
      "metadata": {
        "colab": {
          "base_uri": "https://localhost:8080/"
        },
        "id": "qn-lyWTovciU",
        "outputId": "c83911fe-bb96-46d3-b79b-c1420650e0da"
      },
      "execution_count": 20,
      "outputs": [
        {
          "output_type": "stream",
          "name": "stdout",
          "text": [
            "0.25    27.066809\n",
            "0.50    31.893574\n",
            "0.75    36.407532\n",
            "Name: Temperatura, dtype: float64\n"
          ]
        }
      ]
    },
    {
      "cell_type": "code",
      "source": [
        "# Asignar cada observación de temperatura a su categoría correspondiente\n",
        "datos_interpolados['Categoria_Temperatura'] = pd.cut(datos_interpolados['Max_Temperatura_Dia'], bins=[-float('inf'), umbral_frio, umbral_bueno, umbral_caliente, float('inf')],\n",
        "                                      labels=['Frío', 'Bueno', 'Caliente', 'Muy Caliente'])"
      ],
      "metadata": {
        "id": "VvHPFx2PvgXn"
      },
      "execution_count": 21,
      "outputs": []
    },
    {
      "cell_type": "code",
      "source": [
        "# Desplazar para obtener la temperatura del siguiente día\n",
        "datos_interpolados['Temperatura_Siguiente_Dia'] = datos_interpolados['Categoria_Temperatura'].shift(-24)"
      ],
      "metadata": {
        "id": "K1A_VkEGvowi"
      },
      "execution_count": 22,
      "outputs": []
    },
    {
      "cell_type": "code",
      "source": [
        "# USAR ONE HOT ENCODING\n",
        "datos_codificados = pd.get_dummies(datos_interpolados, columns=['Categoria_Temperatura','Temperatura_Siguiente_Dia'])\n",
        "\n"
      ],
      "metadata": {
        "id": "Y03DgzGxwrPM"
      },
      "execution_count": 23,
      "outputs": []
    },
    {
      "cell_type": "code",
      "source": [
        "datos_codificados.head()"
      ],
      "metadata": {
        "colab": {
          "base_uri": "https://localhost:8080/",
          "height": 448
        },
        "id": "TOJo6IOFPSbf",
        "outputId": "69384a5b-5193-4896-fef4-59d62e8ac9db"
      },
      "execution_count": 25,
      "outputs": [
        {
          "output_type": "execute_result",
          "data": {
            "text/plain": [
              "                       Unnamed: 0  Temperatura    Humedad  \\\n",
              "Fecha                                                       \n",
              "2019-01-01 00:00:00  29216.000000    28.260936  66.311373   \n",
              "2019-01-01 01:00:00  29216.333333    28.223146  66.523607   \n",
              "2019-01-01 02:00:00  29216.666667    27.908703  67.385359   \n",
              "2019-01-01 03:00:00  29217.000000    27.051418  68.882454   \n",
              "2019-01-01 04:00:00  29217.333333    26.729742  70.296842   \n",
              "\n",
              "                     Max_Temperatura_Dia  Categoria_Temperatura_Frío  \\\n",
              "Fecha                                                                  \n",
              "2019-01-01 00:00:00            37.639718                           0   \n",
              "2019-01-01 01:00:00            37.639718                           0   \n",
              "2019-01-01 02:00:00            37.639718                           0   \n",
              "2019-01-01 03:00:00            37.639718                           0   \n",
              "2019-01-01 04:00:00            37.639718                           0   \n",
              "\n",
              "                     Categoria_Temperatura_Bueno  \\\n",
              "Fecha                                              \n",
              "2019-01-01 00:00:00                            0   \n",
              "2019-01-01 01:00:00                            0   \n",
              "2019-01-01 02:00:00                            0   \n",
              "2019-01-01 03:00:00                            0   \n",
              "2019-01-01 04:00:00                            0   \n",
              "\n",
              "                     Categoria_Temperatura_Caliente  \\\n",
              "Fecha                                                 \n",
              "2019-01-01 00:00:00                               0   \n",
              "2019-01-01 01:00:00                               0   \n",
              "2019-01-01 02:00:00                               0   \n",
              "2019-01-01 03:00:00                               0   \n",
              "2019-01-01 04:00:00                               0   \n",
              "\n",
              "                     Categoria_Temperatura_Muy Caliente  \\\n",
              "Fecha                                                     \n",
              "2019-01-01 00:00:00                                   1   \n",
              "2019-01-01 01:00:00                                   1   \n",
              "2019-01-01 02:00:00                                   1   \n",
              "2019-01-01 03:00:00                                   1   \n",
              "2019-01-01 04:00:00                                   1   \n",
              "\n",
              "                     Temperatura_Siguiente_Dia_Frío  \\\n",
              "Fecha                                                 \n",
              "2019-01-01 00:00:00                               0   \n",
              "2019-01-01 01:00:00                               0   \n",
              "2019-01-01 02:00:00                               0   \n",
              "2019-01-01 03:00:00                               0   \n",
              "2019-01-01 04:00:00                               0   \n",
              "\n",
              "                     Temperatura_Siguiente_Dia_Bueno  \\\n",
              "Fecha                                                  \n",
              "2019-01-01 00:00:00                                0   \n",
              "2019-01-01 01:00:00                                0   \n",
              "2019-01-01 02:00:00                                0   \n",
              "2019-01-01 03:00:00                                0   \n",
              "2019-01-01 04:00:00                                0   \n",
              "\n",
              "                     Temperatura_Siguiente_Dia_Caliente  \\\n",
              "Fecha                                                     \n",
              "2019-01-01 00:00:00                                   0   \n",
              "2019-01-01 01:00:00                                   0   \n",
              "2019-01-01 02:00:00                                   0   \n",
              "2019-01-01 03:00:00                                   0   \n",
              "2019-01-01 04:00:00                                   0   \n",
              "\n",
              "                     Temperatura_Siguiente_Dia_Muy Caliente  \n",
              "Fecha                                                        \n",
              "2019-01-01 00:00:00                                       1  \n",
              "2019-01-01 01:00:00                                       1  \n",
              "2019-01-01 02:00:00                                       1  \n",
              "2019-01-01 03:00:00                                       1  \n",
              "2019-01-01 04:00:00                                       1  "
            ],
            "text/html": [
              "\n",
              "  <div id=\"df-37da14a5-2c58-465f-94f2-e1fa4d83b34c\" class=\"colab-df-container\">\n",
              "    <div>\n",
              "<style scoped>\n",
              "    .dataframe tbody tr th:only-of-type {\n",
              "        vertical-align: middle;\n",
              "    }\n",
              "\n",
              "    .dataframe tbody tr th {\n",
              "        vertical-align: top;\n",
              "    }\n",
              "\n",
              "    .dataframe thead th {\n",
              "        text-align: right;\n",
              "    }\n",
              "</style>\n",
              "<table border=\"1\" class=\"dataframe\">\n",
              "  <thead>\n",
              "    <tr style=\"text-align: right;\">\n",
              "      <th></th>\n",
              "      <th>Unnamed: 0</th>\n",
              "      <th>Temperatura</th>\n",
              "      <th>Humedad</th>\n",
              "      <th>Max_Temperatura_Dia</th>\n",
              "      <th>Categoria_Temperatura_Frío</th>\n",
              "      <th>Categoria_Temperatura_Bueno</th>\n",
              "      <th>Categoria_Temperatura_Caliente</th>\n",
              "      <th>Categoria_Temperatura_Muy Caliente</th>\n",
              "      <th>Temperatura_Siguiente_Dia_Frío</th>\n",
              "      <th>Temperatura_Siguiente_Dia_Bueno</th>\n",
              "      <th>Temperatura_Siguiente_Dia_Caliente</th>\n",
              "      <th>Temperatura_Siguiente_Dia_Muy Caliente</th>\n",
              "    </tr>\n",
              "    <tr>\n",
              "      <th>Fecha</th>\n",
              "      <th></th>\n",
              "      <th></th>\n",
              "      <th></th>\n",
              "      <th></th>\n",
              "      <th></th>\n",
              "      <th></th>\n",
              "      <th></th>\n",
              "      <th></th>\n",
              "      <th></th>\n",
              "      <th></th>\n",
              "      <th></th>\n",
              "      <th></th>\n",
              "    </tr>\n",
              "  </thead>\n",
              "  <tbody>\n",
              "    <tr>\n",
              "      <th>2019-01-01 00:00:00</th>\n",
              "      <td>29216.000000</td>\n",
              "      <td>28.260936</td>\n",
              "      <td>66.311373</td>\n",
              "      <td>37.639718</td>\n",
              "      <td>0</td>\n",
              "      <td>0</td>\n",
              "      <td>0</td>\n",
              "      <td>1</td>\n",
              "      <td>0</td>\n",
              "      <td>0</td>\n",
              "      <td>0</td>\n",
              "      <td>1</td>\n",
              "    </tr>\n",
              "    <tr>\n",
              "      <th>2019-01-01 01:00:00</th>\n",
              "      <td>29216.333333</td>\n",
              "      <td>28.223146</td>\n",
              "      <td>66.523607</td>\n",
              "      <td>37.639718</td>\n",
              "      <td>0</td>\n",
              "      <td>0</td>\n",
              "      <td>0</td>\n",
              "      <td>1</td>\n",
              "      <td>0</td>\n",
              "      <td>0</td>\n",
              "      <td>0</td>\n",
              "      <td>1</td>\n",
              "    </tr>\n",
              "    <tr>\n",
              "      <th>2019-01-01 02:00:00</th>\n",
              "      <td>29216.666667</td>\n",
              "      <td>27.908703</td>\n",
              "      <td>67.385359</td>\n",
              "      <td>37.639718</td>\n",
              "      <td>0</td>\n",
              "      <td>0</td>\n",
              "      <td>0</td>\n",
              "      <td>1</td>\n",
              "      <td>0</td>\n",
              "      <td>0</td>\n",
              "      <td>0</td>\n",
              "      <td>1</td>\n",
              "    </tr>\n",
              "    <tr>\n",
              "      <th>2019-01-01 03:00:00</th>\n",
              "      <td>29217.000000</td>\n",
              "      <td>27.051418</td>\n",
              "      <td>68.882454</td>\n",
              "      <td>37.639718</td>\n",
              "      <td>0</td>\n",
              "      <td>0</td>\n",
              "      <td>0</td>\n",
              "      <td>1</td>\n",
              "      <td>0</td>\n",
              "      <td>0</td>\n",
              "      <td>0</td>\n",
              "      <td>1</td>\n",
              "    </tr>\n",
              "    <tr>\n",
              "      <th>2019-01-01 04:00:00</th>\n",
              "      <td>29217.333333</td>\n",
              "      <td>26.729742</td>\n",
              "      <td>70.296842</td>\n",
              "      <td>37.639718</td>\n",
              "      <td>0</td>\n",
              "      <td>0</td>\n",
              "      <td>0</td>\n",
              "      <td>1</td>\n",
              "      <td>0</td>\n",
              "      <td>0</td>\n",
              "      <td>0</td>\n",
              "      <td>1</td>\n",
              "    </tr>\n",
              "  </tbody>\n",
              "</table>\n",
              "</div>\n",
              "    <div class=\"colab-df-buttons\">\n",
              "\n",
              "  <div class=\"colab-df-container\">\n",
              "    <button class=\"colab-df-convert\" onclick=\"convertToInteractive('df-37da14a5-2c58-465f-94f2-e1fa4d83b34c')\"\n",
              "            title=\"Convert this dataframe to an interactive table.\"\n",
              "            style=\"display:none;\">\n",
              "\n",
              "  <svg xmlns=\"http://www.w3.org/2000/svg\" height=\"24px\" viewBox=\"0 -960 960 960\">\n",
              "    <path d=\"M120-120v-720h720v720H120Zm60-500h600v-160H180v160Zm220 220h160v-160H400v160Zm0 220h160v-160H400v160ZM180-400h160v-160H180v160Zm440 0h160v-160H620v160ZM180-180h160v-160H180v160Zm440 0h160v-160H620v160Z\"/>\n",
              "  </svg>\n",
              "    </button>\n",
              "\n",
              "  <style>\n",
              "    .colab-df-container {\n",
              "      display:flex;\n",
              "      gap: 12px;\n",
              "    }\n",
              "\n",
              "    .colab-df-convert {\n",
              "      background-color: #E8F0FE;\n",
              "      border: none;\n",
              "      border-radius: 50%;\n",
              "      cursor: pointer;\n",
              "      display: none;\n",
              "      fill: #1967D2;\n",
              "      height: 32px;\n",
              "      padding: 0 0 0 0;\n",
              "      width: 32px;\n",
              "    }\n",
              "\n",
              "    .colab-df-convert:hover {\n",
              "      background-color: #E2EBFA;\n",
              "      box-shadow: 0px 1px 2px rgba(60, 64, 67, 0.3), 0px 1px 3px 1px rgba(60, 64, 67, 0.15);\n",
              "      fill: #174EA6;\n",
              "    }\n",
              "\n",
              "    .colab-df-buttons div {\n",
              "      margin-bottom: 4px;\n",
              "    }\n",
              "\n",
              "    [theme=dark] .colab-df-convert {\n",
              "      background-color: #3B4455;\n",
              "      fill: #D2E3FC;\n",
              "    }\n",
              "\n",
              "    [theme=dark] .colab-df-convert:hover {\n",
              "      background-color: #434B5C;\n",
              "      box-shadow: 0px 1px 3px 1px rgba(0, 0, 0, 0.15);\n",
              "      filter: drop-shadow(0px 1px 2px rgba(0, 0, 0, 0.3));\n",
              "      fill: #FFFFFF;\n",
              "    }\n",
              "  </style>\n",
              "\n",
              "    <script>\n",
              "      const buttonEl =\n",
              "        document.querySelector('#df-37da14a5-2c58-465f-94f2-e1fa4d83b34c button.colab-df-convert');\n",
              "      buttonEl.style.display =\n",
              "        google.colab.kernel.accessAllowed ? 'block' : 'none';\n",
              "\n",
              "      async function convertToInteractive(key) {\n",
              "        const element = document.querySelector('#df-37da14a5-2c58-465f-94f2-e1fa4d83b34c');\n",
              "        const dataTable =\n",
              "          await google.colab.kernel.invokeFunction('convertToInteractive',\n",
              "                                                    [key], {});\n",
              "        if (!dataTable) return;\n",
              "\n",
              "        const docLinkHtml = 'Like what you see? Visit the ' +\n",
              "          '<a target=\"_blank\" href=https://colab.research.google.com/notebooks/data_table.ipynb>data table notebook</a>'\n",
              "          + ' to learn more about interactive tables.';\n",
              "        element.innerHTML = '';\n",
              "        dataTable['output_type'] = 'display_data';\n",
              "        await google.colab.output.renderOutput(dataTable, element);\n",
              "        const docLink = document.createElement('div');\n",
              "        docLink.innerHTML = docLinkHtml;\n",
              "        element.appendChild(docLink);\n",
              "      }\n",
              "    </script>\n",
              "  </div>\n",
              "\n",
              "\n",
              "<div id=\"df-a2bc5a74-a5dc-4ae3-be89-1da97e18d868\">\n",
              "  <button class=\"colab-df-quickchart\" onclick=\"quickchart('df-a2bc5a74-a5dc-4ae3-be89-1da97e18d868')\"\n",
              "            title=\"Suggest charts\"\n",
              "            style=\"display:none;\">\n",
              "\n",
              "<svg xmlns=\"http://www.w3.org/2000/svg\" height=\"24px\"viewBox=\"0 0 24 24\"\n",
              "     width=\"24px\">\n",
              "    <g>\n",
              "        <path d=\"M19 3H5c-1.1 0-2 .9-2 2v14c0 1.1.9 2 2 2h14c1.1 0 2-.9 2-2V5c0-1.1-.9-2-2-2zM9 17H7v-7h2v7zm4 0h-2V7h2v10zm4 0h-2v-4h2v4z\"/>\n",
              "    </g>\n",
              "</svg>\n",
              "  </button>\n",
              "\n",
              "<style>\n",
              "  .colab-df-quickchart {\n",
              "      --bg-color: #E8F0FE;\n",
              "      --fill-color: #1967D2;\n",
              "      --hover-bg-color: #E2EBFA;\n",
              "      --hover-fill-color: #174EA6;\n",
              "      --disabled-fill-color: #AAA;\n",
              "      --disabled-bg-color: #DDD;\n",
              "  }\n",
              "\n",
              "  [theme=dark] .colab-df-quickchart {\n",
              "      --bg-color: #3B4455;\n",
              "      --fill-color: #D2E3FC;\n",
              "      --hover-bg-color: #434B5C;\n",
              "      --hover-fill-color: #FFFFFF;\n",
              "      --disabled-bg-color: #3B4455;\n",
              "      --disabled-fill-color: #666;\n",
              "  }\n",
              "\n",
              "  .colab-df-quickchart {\n",
              "    background-color: var(--bg-color);\n",
              "    border: none;\n",
              "    border-radius: 50%;\n",
              "    cursor: pointer;\n",
              "    display: none;\n",
              "    fill: var(--fill-color);\n",
              "    height: 32px;\n",
              "    padding: 0;\n",
              "    width: 32px;\n",
              "  }\n",
              "\n",
              "  .colab-df-quickchart:hover {\n",
              "    background-color: var(--hover-bg-color);\n",
              "    box-shadow: 0 1px 2px rgba(60, 64, 67, 0.3), 0 1px 3px 1px rgba(60, 64, 67, 0.15);\n",
              "    fill: var(--button-hover-fill-color);\n",
              "  }\n",
              "\n",
              "  .colab-df-quickchart-complete:disabled,\n",
              "  .colab-df-quickchart-complete:disabled:hover {\n",
              "    background-color: var(--disabled-bg-color);\n",
              "    fill: var(--disabled-fill-color);\n",
              "    box-shadow: none;\n",
              "  }\n",
              "\n",
              "  .colab-df-spinner {\n",
              "    border: 2px solid var(--fill-color);\n",
              "    border-color: transparent;\n",
              "    border-bottom-color: var(--fill-color);\n",
              "    animation:\n",
              "      spin 1s steps(1) infinite;\n",
              "  }\n",
              "\n",
              "  @keyframes spin {\n",
              "    0% {\n",
              "      border-color: transparent;\n",
              "      border-bottom-color: var(--fill-color);\n",
              "      border-left-color: var(--fill-color);\n",
              "    }\n",
              "    20% {\n",
              "      border-color: transparent;\n",
              "      border-left-color: var(--fill-color);\n",
              "      border-top-color: var(--fill-color);\n",
              "    }\n",
              "    30% {\n",
              "      border-color: transparent;\n",
              "      border-left-color: var(--fill-color);\n",
              "      border-top-color: var(--fill-color);\n",
              "      border-right-color: var(--fill-color);\n",
              "    }\n",
              "    40% {\n",
              "      border-color: transparent;\n",
              "      border-right-color: var(--fill-color);\n",
              "      border-top-color: var(--fill-color);\n",
              "    }\n",
              "    60% {\n",
              "      border-color: transparent;\n",
              "      border-right-color: var(--fill-color);\n",
              "    }\n",
              "    80% {\n",
              "      border-color: transparent;\n",
              "      border-right-color: var(--fill-color);\n",
              "      border-bottom-color: var(--fill-color);\n",
              "    }\n",
              "    90% {\n",
              "      border-color: transparent;\n",
              "      border-bottom-color: var(--fill-color);\n",
              "    }\n",
              "  }\n",
              "</style>\n",
              "\n",
              "  <script>\n",
              "    async function quickchart(key) {\n",
              "      const quickchartButtonEl =\n",
              "        document.querySelector('#' + key + ' button');\n",
              "      quickchartButtonEl.disabled = true;  // To prevent multiple clicks.\n",
              "      quickchartButtonEl.classList.add('colab-df-spinner');\n",
              "      try {\n",
              "        const charts = await google.colab.kernel.invokeFunction(\n",
              "            'suggestCharts', [key], {});\n",
              "      } catch (error) {\n",
              "        console.error('Error during call to suggestCharts:', error);\n",
              "      }\n",
              "      quickchartButtonEl.classList.remove('colab-df-spinner');\n",
              "      quickchartButtonEl.classList.add('colab-df-quickchart-complete');\n",
              "    }\n",
              "    (() => {\n",
              "      let quickchartButtonEl =\n",
              "        document.querySelector('#df-a2bc5a74-a5dc-4ae3-be89-1da97e18d868 button');\n",
              "      quickchartButtonEl.style.display =\n",
              "        google.colab.kernel.accessAllowed ? 'block' : 'none';\n",
              "    })();\n",
              "  </script>\n",
              "</div>\n",
              "    </div>\n",
              "  </div>\n"
            ],
            "application/vnd.google.colaboratory.intrinsic+json": {
              "type": "dataframe",
              "variable_name": "datos_codificados",
              "summary": "{\n  \"name\": \"datos_codificados\",\n  \"rows\": 26302,\n  \"fields\": [\n    {\n      \"column\": \"Fecha\",\n      \"properties\": {\n        \"dtype\": \"date\",\n        \"min\": \"2019-01-01 00:00:00\",\n        \"max\": \"2021-12-31 21:00:00\",\n        \"num_unique_values\": 26302,\n        \"samples\": [\n          \"2021-05-26 23:00:00\",\n          \"2021-01-24 19:00:00\",\n          \"2019-04-25 16:00:00\"\n        ],\n        \"semantic_type\": \"\",\n        \"description\": \"\"\n      }\n    },\n    {\n      \"column\": \"Unnamed: 0\",\n      \"properties\": {\n        \"dtype\": \"number\",\n        \"std\": 2530.9592421019465,\n        \"min\": 29216.0,\n        \"max\": 37983.0,\n        \"num_unique_values\": 26302,\n        \"samples\": [\n          36231.66666666693,\n          35254.33333333379,\n          30133.333333336657\n        ],\n        \"semantic_type\": \"\",\n        \"description\": \"\"\n      }\n    },\n    {\n      \"column\": \"Temperatura\",\n      \"properties\": {\n        \"dtype\": \"number\",\n        \"std\": 7.317672833787771,\n        \"min\": 1.0523144945650535,\n        \"max\": 45.40800013976252,\n        \"num_unique_values\": 26302,\n        \"samples\": [\n          21.414431863858145,\n          31.02438001654115,\n          29.728501045460366\n        ],\n        \"semantic_type\": \"\",\n        \"description\": \"\"\n      }\n    },\n    {\n      \"column\": \"Humedad\",\n      \"properties\": {\n        \"dtype\": \"number\",\n        \"std\": 21.587468181077476,\n        \"min\": 10.851397342012278,\n        \"max\": 109.40843888344008,\n        \"num_unique_values\": 26282,\n        \"samples\": [\n          88.87546017637997,\n          77.74366085892296,\n          80.89824494597951\n        ],\n        \"semantic_type\": \"\",\n        \"description\": \"\"\n      }\n    },\n    {\n      \"column\": \"Max_Temperatura_Dia\",\n      \"properties\": {\n        \"dtype\": \"number\",\n        \"std\": 6.629588402600486,\n        \"min\": 10.552794144543492,\n        \"max\": 45.40800013976252,\n        \"num_unique_values\": 1096,\n        \"samples\": [\n          36.79263512480753,\n          32.48751899999996,\n          28.72863147795249\n        ],\n        \"semantic_type\": \"\",\n        \"description\": \"\"\n      }\n    },\n    {\n      \"column\": \"Categoria_Temperatura_Fr\\u00edo\",\n      \"properties\": {\n        \"dtype\": \"uint8\",\n        \"num_unique_values\": 2,\n        \"samples\": [\n          1,\n          0\n        ],\n        \"semantic_type\": \"\",\n        \"description\": \"\"\n      }\n    },\n    {\n      \"column\": \"Categoria_Temperatura_Bueno\",\n      \"properties\": {\n        \"dtype\": \"uint8\",\n        \"num_unique_values\": 2,\n        \"samples\": [\n          1,\n          0\n        ],\n        \"semantic_type\": \"\",\n        \"description\": \"\"\n      }\n    },\n    {\n      \"column\": \"Categoria_Temperatura_Caliente\",\n      \"properties\": {\n        \"dtype\": \"uint8\",\n        \"num_unique_values\": 2,\n        \"samples\": [\n          1,\n          0\n        ],\n        \"semantic_type\": \"\",\n        \"description\": \"\"\n      }\n    },\n    {\n      \"column\": \"Categoria_Temperatura_Muy Caliente\",\n      \"properties\": {\n        \"dtype\": \"uint8\",\n        \"num_unique_values\": 2,\n        \"samples\": [\n          0,\n          1\n        ],\n        \"semantic_type\": \"\",\n        \"description\": \"\"\n      }\n    },\n    {\n      \"column\": \"Temperatura_Siguiente_Dia_Fr\\u00edo\",\n      \"properties\": {\n        \"dtype\": \"uint8\",\n        \"num_unique_values\": 2,\n        \"samples\": [\n          1,\n          0\n        ],\n        \"semantic_type\": \"\",\n        \"description\": \"\"\n      }\n    },\n    {\n      \"column\": \"Temperatura_Siguiente_Dia_Bueno\",\n      \"properties\": {\n        \"dtype\": \"uint8\",\n        \"num_unique_values\": 2,\n        \"samples\": [\n          1,\n          0\n        ],\n        \"semantic_type\": \"\",\n        \"description\": \"\"\n      }\n    },\n    {\n      \"column\": \"Temperatura_Siguiente_Dia_Caliente\",\n      \"properties\": {\n        \"dtype\": \"uint8\",\n        \"num_unique_values\": 2,\n        \"samples\": [\n          1,\n          0\n        ],\n        \"semantic_type\": \"\",\n        \"description\": \"\"\n      }\n    },\n    {\n      \"column\": \"Temperatura_Siguiente_Dia_Muy Caliente\",\n      \"properties\": {\n        \"dtype\": \"uint8\",\n        \"num_unique_values\": 2,\n        \"samples\": [\n          0,\n          1\n        ],\n        \"semantic_type\": \"\",\n        \"description\": \"\"\n      }\n    }\n  ]\n}"
            }
          },
          "metadata": {},
          "execution_count": 25
        }
      ]
    },
    {
      "cell_type": "code",
      "source": [
        "# Definir características y variable objetivo\n",
        "X = datos_codificados.iloc[:,[2,3,4,7]]  # Puedes probar diferentes combinaciones de características\n",
        "y = datos_codificados.iloc[:,[8,11]]"
      ],
      "metadata": {
        "id": "5ZEQRqI0wyH1"
      },
      "execution_count": 26,
      "outputs": []
    },
    {
      "cell_type": "code",
      "source": [
        "X.head()"
      ],
      "metadata": {
        "colab": {
          "base_uri": "https://localhost:8080/",
          "height": 237
        },
        "id": "E5t8TBZ9L92u",
        "outputId": "54572308-e68e-47ed-e9e7-5e9cea4af7f5"
      },
      "execution_count": 27,
      "outputs": [
        {
          "output_type": "execute_result",
          "data": {
            "text/plain": [
              "                       Humedad  Max_Temperatura_Dia  \\\n",
              "Fecha                                                 \n",
              "2019-01-01 00:00:00  66.311373            37.639718   \n",
              "2019-01-01 01:00:00  66.523607            37.639718   \n",
              "2019-01-01 02:00:00  67.385359            37.639718   \n",
              "2019-01-01 03:00:00  68.882454            37.639718   \n",
              "2019-01-01 04:00:00  70.296842            37.639718   \n",
              "\n",
              "                     Categoria_Temperatura_Frío  \\\n",
              "Fecha                                             \n",
              "2019-01-01 00:00:00                           0   \n",
              "2019-01-01 01:00:00                           0   \n",
              "2019-01-01 02:00:00                           0   \n",
              "2019-01-01 03:00:00                           0   \n",
              "2019-01-01 04:00:00                           0   \n",
              "\n",
              "                     Categoria_Temperatura_Muy Caliente  \n",
              "Fecha                                                    \n",
              "2019-01-01 00:00:00                                   1  \n",
              "2019-01-01 01:00:00                                   1  \n",
              "2019-01-01 02:00:00                                   1  \n",
              "2019-01-01 03:00:00                                   1  \n",
              "2019-01-01 04:00:00                                   1  "
            ],
            "text/html": [
              "\n",
              "  <div id=\"df-840e99df-1e4c-42d5-ac74-582a61d4c2b9\" class=\"colab-df-container\">\n",
              "    <div>\n",
              "<style scoped>\n",
              "    .dataframe tbody tr th:only-of-type {\n",
              "        vertical-align: middle;\n",
              "    }\n",
              "\n",
              "    .dataframe tbody tr th {\n",
              "        vertical-align: top;\n",
              "    }\n",
              "\n",
              "    .dataframe thead th {\n",
              "        text-align: right;\n",
              "    }\n",
              "</style>\n",
              "<table border=\"1\" class=\"dataframe\">\n",
              "  <thead>\n",
              "    <tr style=\"text-align: right;\">\n",
              "      <th></th>\n",
              "      <th>Humedad</th>\n",
              "      <th>Max_Temperatura_Dia</th>\n",
              "      <th>Categoria_Temperatura_Frío</th>\n",
              "      <th>Categoria_Temperatura_Muy Caliente</th>\n",
              "    </tr>\n",
              "    <tr>\n",
              "      <th>Fecha</th>\n",
              "      <th></th>\n",
              "      <th></th>\n",
              "      <th></th>\n",
              "      <th></th>\n",
              "    </tr>\n",
              "  </thead>\n",
              "  <tbody>\n",
              "    <tr>\n",
              "      <th>2019-01-01 00:00:00</th>\n",
              "      <td>66.311373</td>\n",
              "      <td>37.639718</td>\n",
              "      <td>0</td>\n",
              "      <td>1</td>\n",
              "    </tr>\n",
              "    <tr>\n",
              "      <th>2019-01-01 01:00:00</th>\n",
              "      <td>66.523607</td>\n",
              "      <td>37.639718</td>\n",
              "      <td>0</td>\n",
              "      <td>1</td>\n",
              "    </tr>\n",
              "    <tr>\n",
              "      <th>2019-01-01 02:00:00</th>\n",
              "      <td>67.385359</td>\n",
              "      <td>37.639718</td>\n",
              "      <td>0</td>\n",
              "      <td>1</td>\n",
              "    </tr>\n",
              "    <tr>\n",
              "      <th>2019-01-01 03:00:00</th>\n",
              "      <td>68.882454</td>\n",
              "      <td>37.639718</td>\n",
              "      <td>0</td>\n",
              "      <td>1</td>\n",
              "    </tr>\n",
              "    <tr>\n",
              "      <th>2019-01-01 04:00:00</th>\n",
              "      <td>70.296842</td>\n",
              "      <td>37.639718</td>\n",
              "      <td>0</td>\n",
              "      <td>1</td>\n",
              "    </tr>\n",
              "  </tbody>\n",
              "</table>\n",
              "</div>\n",
              "    <div class=\"colab-df-buttons\">\n",
              "\n",
              "  <div class=\"colab-df-container\">\n",
              "    <button class=\"colab-df-convert\" onclick=\"convertToInteractive('df-840e99df-1e4c-42d5-ac74-582a61d4c2b9')\"\n",
              "            title=\"Convert this dataframe to an interactive table.\"\n",
              "            style=\"display:none;\">\n",
              "\n",
              "  <svg xmlns=\"http://www.w3.org/2000/svg\" height=\"24px\" viewBox=\"0 -960 960 960\">\n",
              "    <path d=\"M120-120v-720h720v720H120Zm60-500h600v-160H180v160Zm220 220h160v-160H400v160Zm0 220h160v-160H400v160ZM180-400h160v-160H180v160Zm440 0h160v-160H620v160ZM180-180h160v-160H180v160Zm440 0h160v-160H620v160Z\"/>\n",
              "  </svg>\n",
              "    </button>\n",
              "\n",
              "  <style>\n",
              "    .colab-df-container {\n",
              "      display:flex;\n",
              "      gap: 12px;\n",
              "    }\n",
              "\n",
              "    .colab-df-convert {\n",
              "      background-color: #E8F0FE;\n",
              "      border: none;\n",
              "      border-radius: 50%;\n",
              "      cursor: pointer;\n",
              "      display: none;\n",
              "      fill: #1967D2;\n",
              "      height: 32px;\n",
              "      padding: 0 0 0 0;\n",
              "      width: 32px;\n",
              "    }\n",
              "\n",
              "    .colab-df-convert:hover {\n",
              "      background-color: #E2EBFA;\n",
              "      box-shadow: 0px 1px 2px rgba(60, 64, 67, 0.3), 0px 1px 3px 1px rgba(60, 64, 67, 0.15);\n",
              "      fill: #174EA6;\n",
              "    }\n",
              "\n",
              "    .colab-df-buttons div {\n",
              "      margin-bottom: 4px;\n",
              "    }\n",
              "\n",
              "    [theme=dark] .colab-df-convert {\n",
              "      background-color: #3B4455;\n",
              "      fill: #D2E3FC;\n",
              "    }\n",
              "\n",
              "    [theme=dark] .colab-df-convert:hover {\n",
              "      background-color: #434B5C;\n",
              "      box-shadow: 0px 1px 3px 1px rgba(0, 0, 0, 0.15);\n",
              "      filter: drop-shadow(0px 1px 2px rgba(0, 0, 0, 0.3));\n",
              "      fill: #FFFFFF;\n",
              "    }\n",
              "  </style>\n",
              "\n",
              "    <script>\n",
              "      const buttonEl =\n",
              "        document.querySelector('#df-840e99df-1e4c-42d5-ac74-582a61d4c2b9 button.colab-df-convert');\n",
              "      buttonEl.style.display =\n",
              "        google.colab.kernel.accessAllowed ? 'block' : 'none';\n",
              "\n",
              "      async function convertToInteractive(key) {\n",
              "        const element = document.querySelector('#df-840e99df-1e4c-42d5-ac74-582a61d4c2b9');\n",
              "        const dataTable =\n",
              "          await google.colab.kernel.invokeFunction('convertToInteractive',\n",
              "                                                    [key], {});\n",
              "        if (!dataTable) return;\n",
              "\n",
              "        const docLinkHtml = 'Like what you see? Visit the ' +\n",
              "          '<a target=\"_blank\" href=https://colab.research.google.com/notebooks/data_table.ipynb>data table notebook</a>'\n",
              "          + ' to learn more about interactive tables.';\n",
              "        element.innerHTML = '';\n",
              "        dataTable['output_type'] = 'display_data';\n",
              "        await google.colab.output.renderOutput(dataTable, element);\n",
              "        const docLink = document.createElement('div');\n",
              "        docLink.innerHTML = docLinkHtml;\n",
              "        element.appendChild(docLink);\n",
              "      }\n",
              "    </script>\n",
              "  </div>\n",
              "\n",
              "\n",
              "<div id=\"df-a560dfb1-59fe-4682-8145-8dd50a9ea90a\">\n",
              "  <button class=\"colab-df-quickchart\" onclick=\"quickchart('df-a560dfb1-59fe-4682-8145-8dd50a9ea90a')\"\n",
              "            title=\"Suggest charts\"\n",
              "            style=\"display:none;\">\n",
              "\n",
              "<svg xmlns=\"http://www.w3.org/2000/svg\" height=\"24px\"viewBox=\"0 0 24 24\"\n",
              "     width=\"24px\">\n",
              "    <g>\n",
              "        <path d=\"M19 3H5c-1.1 0-2 .9-2 2v14c0 1.1.9 2 2 2h14c1.1 0 2-.9 2-2V5c0-1.1-.9-2-2-2zM9 17H7v-7h2v7zm4 0h-2V7h2v10zm4 0h-2v-4h2v4z\"/>\n",
              "    </g>\n",
              "</svg>\n",
              "  </button>\n",
              "\n",
              "<style>\n",
              "  .colab-df-quickchart {\n",
              "      --bg-color: #E8F0FE;\n",
              "      --fill-color: #1967D2;\n",
              "      --hover-bg-color: #E2EBFA;\n",
              "      --hover-fill-color: #174EA6;\n",
              "      --disabled-fill-color: #AAA;\n",
              "      --disabled-bg-color: #DDD;\n",
              "  }\n",
              "\n",
              "  [theme=dark] .colab-df-quickchart {\n",
              "      --bg-color: #3B4455;\n",
              "      --fill-color: #D2E3FC;\n",
              "      --hover-bg-color: #434B5C;\n",
              "      --hover-fill-color: #FFFFFF;\n",
              "      --disabled-bg-color: #3B4455;\n",
              "      --disabled-fill-color: #666;\n",
              "  }\n",
              "\n",
              "  .colab-df-quickchart {\n",
              "    background-color: var(--bg-color);\n",
              "    border: none;\n",
              "    border-radius: 50%;\n",
              "    cursor: pointer;\n",
              "    display: none;\n",
              "    fill: var(--fill-color);\n",
              "    height: 32px;\n",
              "    padding: 0;\n",
              "    width: 32px;\n",
              "  }\n",
              "\n",
              "  .colab-df-quickchart:hover {\n",
              "    background-color: var(--hover-bg-color);\n",
              "    box-shadow: 0 1px 2px rgba(60, 64, 67, 0.3), 0 1px 3px 1px rgba(60, 64, 67, 0.15);\n",
              "    fill: var(--button-hover-fill-color);\n",
              "  }\n",
              "\n",
              "  .colab-df-quickchart-complete:disabled,\n",
              "  .colab-df-quickchart-complete:disabled:hover {\n",
              "    background-color: var(--disabled-bg-color);\n",
              "    fill: var(--disabled-fill-color);\n",
              "    box-shadow: none;\n",
              "  }\n",
              "\n",
              "  .colab-df-spinner {\n",
              "    border: 2px solid var(--fill-color);\n",
              "    border-color: transparent;\n",
              "    border-bottom-color: var(--fill-color);\n",
              "    animation:\n",
              "      spin 1s steps(1) infinite;\n",
              "  }\n",
              "\n",
              "  @keyframes spin {\n",
              "    0% {\n",
              "      border-color: transparent;\n",
              "      border-bottom-color: var(--fill-color);\n",
              "      border-left-color: var(--fill-color);\n",
              "    }\n",
              "    20% {\n",
              "      border-color: transparent;\n",
              "      border-left-color: var(--fill-color);\n",
              "      border-top-color: var(--fill-color);\n",
              "    }\n",
              "    30% {\n",
              "      border-color: transparent;\n",
              "      border-left-color: var(--fill-color);\n",
              "      border-top-color: var(--fill-color);\n",
              "      border-right-color: var(--fill-color);\n",
              "    }\n",
              "    40% {\n",
              "      border-color: transparent;\n",
              "      border-right-color: var(--fill-color);\n",
              "      border-top-color: var(--fill-color);\n",
              "    }\n",
              "    60% {\n",
              "      border-color: transparent;\n",
              "      border-right-color: var(--fill-color);\n",
              "    }\n",
              "    80% {\n",
              "      border-color: transparent;\n",
              "      border-right-color: var(--fill-color);\n",
              "      border-bottom-color: var(--fill-color);\n",
              "    }\n",
              "    90% {\n",
              "      border-color: transparent;\n",
              "      border-bottom-color: var(--fill-color);\n",
              "    }\n",
              "  }\n",
              "</style>\n",
              "\n",
              "  <script>\n",
              "    async function quickchart(key) {\n",
              "      const quickchartButtonEl =\n",
              "        document.querySelector('#' + key + ' button');\n",
              "      quickchartButtonEl.disabled = true;  // To prevent multiple clicks.\n",
              "      quickchartButtonEl.classList.add('colab-df-spinner');\n",
              "      try {\n",
              "        const charts = await google.colab.kernel.invokeFunction(\n",
              "            'suggestCharts', [key], {});\n",
              "      } catch (error) {\n",
              "        console.error('Error during call to suggestCharts:', error);\n",
              "      }\n",
              "      quickchartButtonEl.classList.remove('colab-df-spinner');\n",
              "      quickchartButtonEl.classList.add('colab-df-quickchart-complete');\n",
              "    }\n",
              "    (() => {\n",
              "      let quickchartButtonEl =\n",
              "        document.querySelector('#df-a560dfb1-59fe-4682-8145-8dd50a9ea90a button');\n",
              "      quickchartButtonEl.style.display =\n",
              "        google.colab.kernel.accessAllowed ? 'block' : 'none';\n",
              "    })();\n",
              "  </script>\n",
              "</div>\n",
              "    </div>\n",
              "  </div>\n"
            ],
            "application/vnd.google.colaboratory.intrinsic+json": {
              "type": "dataframe",
              "variable_name": "X",
              "summary": "{\n  \"name\": \"X\",\n  \"rows\": 26302,\n  \"fields\": [\n    {\n      \"column\": \"Fecha\",\n      \"properties\": {\n        \"dtype\": \"date\",\n        \"min\": \"2019-01-01 00:00:00\",\n        \"max\": \"2021-12-31 21:00:00\",\n        \"num_unique_values\": 26302,\n        \"samples\": [\n          \"2021-05-26 23:00:00\",\n          \"2021-01-24 19:00:00\",\n          \"2019-04-25 16:00:00\"\n        ],\n        \"semantic_type\": \"\",\n        \"description\": \"\"\n      }\n    },\n    {\n      \"column\": \"Humedad\",\n      \"properties\": {\n        \"dtype\": \"number\",\n        \"std\": 21.587468181077476,\n        \"min\": 10.851397342012278,\n        \"max\": 109.40843888344008,\n        \"num_unique_values\": 26282,\n        \"samples\": [\n          88.87546017637997,\n          77.74366085892296,\n          80.89824494597951\n        ],\n        \"semantic_type\": \"\",\n        \"description\": \"\"\n      }\n    },\n    {\n      \"column\": \"Max_Temperatura_Dia\",\n      \"properties\": {\n        \"dtype\": \"number\",\n        \"std\": 6.629588402600486,\n        \"min\": 10.552794144543492,\n        \"max\": 45.40800013976252,\n        \"num_unique_values\": 1096,\n        \"samples\": [\n          36.79263512480753,\n          32.48751899999996,\n          28.72863147795249\n        ],\n        \"semantic_type\": \"\",\n        \"description\": \"\"\n      }\n    },\n    {\n      \"column\": \"Categoria_Temperatura_Fr\\u00edo\",\n      \"properties\": {\n        \"dtype\": \"uint8\",\n        \"num_unique_values\": 2,\n        \"samples\": [\n          1,\n          0\n        ],\n        \"semantic_type\": \"\",\n        \"description\": \"\"\n      }\n    },\n    {\n      \"column\": \"Categoria_Temperatura_Muy Caliente\",\n      \"properties\": {\n        \"dtype\": \"uint8\",\n        \"num_unique_values\": 2,\n        \"samples\": [\n          0,\n          1\n        ],\n        \"semantic_type\": \"\",\n        \"description\": \"\"\n      }\n    }\n  ]\n}"
            }
          },
          "metadata": {},
          "execution_count": 27
        }
      ]
    },
    {
      "cell_type": "code",
      "source": [
        "y.head()"
      ],
      "metadata": {
        "colab": {
          "base_uri": "https://localhost:8080/",
          "height": 237
        },
        "id": "pSqiG4W-6jAc",
        "outputId": "13880f38-8f4a-41cb-a882-07a431351bae"
      },
      "execution_count": 28,
      "outputs": [
        {
          "output_type": "execute_result",
          "data": {
            "text/plain": [
              "                     Temperatura_Siguiente_Dia_Frío  \\\n",
              "Fecha                                                 \n",
              "2019-01-01 00:00:00                               0   \n",
              "2019-01-01 01:00:00                               0   \n",
              "2019-01-01 02:00:00                               0   \n",
              "2019-01-01 03:00:00                               0   \n",
              "2019-01-01 04:00:00                               0   \n",
              "\n",
              "                     Temperatura_Siguiente_Dia_Muy Caliente  \n",
              "Fecha                                                        \n",
              "2019-01-01 00:00:00                                       1  \n",
              "2019-01-01 01:00:00                                       1  \n",
              "2019-01-01 02:00:00                                       1  \n",
              "2019-01-01 03:00:00                                       1  \n",
              "2019-01-01 04:00:00                                       1  "
            ],
            "text/html": [
              "\n",
              "  <div id=\"df-c83eb779-940d-4450-ae7d-a52956526c4c\" class=\"colab-df-container\">\n",
              "    <div>\n",
              "<style scoped>\n",
              "    .dataframe tbody tr th:only-of-type {\n",
              "        vertical-align: middle;\n",
              "    }\n",
              "\n",
              "    .dataframe tbody tr th {\n",
              "        vertical-align: top;\n",
              "    }\n",
              "\n",
              "    .dataframe thead th {\n",
              "        text-align: right;\n",
              "    }\n",
              "</style>\n",
              "<table border=\"1\" class=\"dataframe\">\n",
              "  <thead>\n",
              "    <tr style=\"text-align: right;\">\n",
              "      <th></th>\n",
              "      <th>Temperatura_Siguiente_Dia_Frío</th>\n",
              "      <th>Temperatura_Siguiente_Dia_Muy Caliente</th>\n",
              "    </tr>\n",
              "    <tr>\n",
              "      <th>Fecha</th>\n",
              "      <th></th>\n",
              "      <th></th>\n",
              "    </tr>\n",
              "  </thead>\n",
              "  <tbody>\n",
              "    <tr>\n",
              "      <th>2019-01-01 00:00:00</th>\n",
              "      <td>0</td>\n",
              "      <td>1</td>\n",
              "    </tr>\n",
              "    <tr>\n",
              "      <th>2019-01-01 01:00:00</th>\n",
              "      <td>0</td>\n",
              "      <td>1</td>\n",
              "    </tr>\n",
              "    <tr>\n",
              "      <th>2019-01-01 02:00:00</th>\n",
              "      <td>0</td>\n",
              "      <td>1</td>\n",
              "    </tr>\n",
              "    <tr>\n",
              "      <th>2019-01-01 03:00:00</th>\n",
              "      <td>0</td>\n",
              "      <td>1</td>\n",
              "    </tr>\n",
              "    <tr>\n",
              "      <th>2019-01-01 04:00:00</th>\n",
              "      <td>0</td>\n",
              "      <td>1</td>\n",
              "    </tr>\n",
              "  </tbody>\n",
              "</table>\n",
              "</div>\n",
              "    <div class=\"colab-df-buttons\">\n",
              "\n",
              "  <div class=\"colab-df-container\">\n",
              "    <button class=\"colab-df-convert\" onclick=\"convertToInteractive('df-c83eb779-940d-4450-ae7d-a52956526c4c')\"\n",
              "            title=\"Convert this dataframe to an interactive table.\"\n",
              "            style=\"display:none;\">\n",
              "\n",
              "  <svg xmlns=\"http://www.w3.org/2000/svg\" height=\"24px\" viewBox=\"0 -960 960 960\">\n",
              "    <path d=\"M120-120v-720h720v720H120Zm60-500h600v-160H180v160Zm220 220h160v-160H400v160Zm0 220h160v-160H400v160ZM180-400h160v-160H180v160Zm440 0h160v-160H620v160ZM180-180h160v-160H180v160Zm440 0h160v-160H620v160Z\"/>\n",
              "  </svg>\n",
              "    </button>\n",
              "\n",
              "  <style>\n",
              "    .colab-df-container {\n",
              "      display:flex;\n",
              "      gap: 12px;\n",
              "    }\n",
              "\n",
              "    .colab-df-convert {\n",
              "      background-color: #E8F0FE;\n",
              "      border: none;\n",
              "      border-radius: 50%;\n",
              "      cursor: pointer;\n",
              "      display: none;\n",
              "      fill: #1967D2;\n",
              "      height: 32px;\n",
              "      padding: 0 0 0 0;\n",
              "      width: 32px;\n",
              "    }\n",
              "\n",
              "    .colab-df-convert:hover {\n",
              "      background-color: #E2EBFA;\n",
              "      box-shadow: 0px 1px 2px rgba(60, 64, 67, 0.3), 0px 1px 3px 1px rgba(60, 64, 67, 0.15);\n",
              "      fill: #174EA6;\n",
              "    }\n",
              "\n",
              "    .colab-df-buttons div {\n",
              "      margin-bottom: 4px;\n",
              "    }\n",
              "\n",
              "    [theme=dark] .colab-df-convert {\n",
              "      background-color: #3B4455;\n",
              "      fill: #D2E3FC;\n",
              "    }\n",
              "\n",
              "    [theme=dark] .colab-df-convert:hover {\n",
              "      background-color: #434B5C;\n",
              "      box-shadow: 0px 1px 3px 1px rgba(0, 0, 0, 0.15);\n",
              "      filter: drop-shadow(0px 1px 2px rgba(0, 0, 0, 0.3));\n",
              "      fill: #FFFFFF;\n",
              "    }\n",
              "  </style>\n",
              "\n",
              "    <script>\n",
              "      const buttonEl =\n",
              "        document.querySelector('#df-c83eb779-940d-4450-ae7d-a52956526c4c button.colab-df-convert');\n",
              "      buttonEl.style.display =\n",
              "        google.colab.kernel.accessAllowed ? 'block' : 'none';\n",
              "\n",
              "      async function convertToInteractive(key) {\n",
              "        const element = document.querySelector('#df-c83eb779-940d-4450-ae7d-a52956526c4c');\n",
              "        const dataTable =\n",
              "          await google.colab.kernel.invokeFunction('convertToInteractive',\n",
              "                                                    [key], {});\n",
              "        if (!dataTable) return;\n",
              "\n",
              "        const docLinkHtml = 'Like what you see? Visit the ' +\n",
              "          '<a target=\"_blank\" href=https://colab.research.google.com/notebooks/data_table.ipynb>data table notebook</a>'\n",
              "          + ' to learn more about interactive tables.';\n",
              "        element.innerHTML = '';\n",
              "        dataTable['output_type'] = 'display_data';\n",
              "        await google.colab.output.renderOutput(dataTable, element);\n",
              "        const docLink = document.createElement('div');\n",
              "        docLink.innerHTML = docLinkHtml;\n",
              "        element.appendChild(docLink);\n",
              "      }\n",
              "    </script>\n",
              "  </div>\n",
              "\n",
              "\n",
              "<div id=\"df-f033a83a-57b5-45c9-a353-aa331811cedd\">\n",
              "  <button class=\"colab-df-quickchart\" onclick=\"quickchart('df-f033a83a-57b5-45c9-a353-aa331811cedd')\"\n",
              "            title=\"Suggest charts\"\n",
              "            style=\"display:none;\">\n",
              "\n",
              "<svg xmlns=\"http://www.w3.org/2000/svg\" height=\"24px\"viewBox=\"0 0 24 24\"\n",
              "     width=\"24px\">\n",
              "    <g>\n",
              "        <path d=\"M19 3H5c-1.1 0-2 .9-2 2v14c0 1.1.9 2 2 2h14c1.1 0 2-.9 2-2V5c0-1.1-.9-2-2-2zM9 17H7v-7h2v7zm4 0h-2V7h2v10zm4 0h-2v-4h2v4z\"/>\n",
              "    </g>\n",
              "</svg>\n",
              "  </button>\n",
              "\n",
              "<style>\n",
              "  .colab-df-quickchart {\n",
              "      --bg-color: #E8F0FE;\n",
              "      --fill-color: #1967D2;\n",
              "      --hover-bg-color: #E2EBFA;\n",
              "      --hover-fill-color: #174EA6;\n",
              "      --disabled-fill-color: #AAA;\n",
              "      --disabled-bg-color: #DDD;\n",
              "  }\n",
              "\n",
              "  [theme=dark] .colab-df-quickchart {\n",
              "      --bg-color: #3B4455;\n",
              "      --fill-color: #D2E3FC;\n",
              "      --hover-bg-color: #434B5C;\n",
              "      --hover-fill-color: #FFFFFF;\n",
              "      --disabled-bg-color: #3B4455;\n",
              "      --disabled-fill-color: #666;\n",
              "  }\n",
              "\n",
              "  .colab-df-quickchart {\n",
              "    background-color: var(--bg-color);\n",
              "    border: none;\n",
              "    border-radius: 50%;\n",
              "    cursor: pointer;\n",
              "    display: none;\n",
              "    fill: var(--fill-color);\n",
              "    height: 32px;\n",
              "    padding: 0;\n",
              "    width: 32px;\n",
              "  }\n",
              "\n",
              "  .colab-df-quickchart:hover {\n",
              "    background-color: var(--hover-bg-color);\n",
              "    box-shadow: 0 1px 2px rgba(60, 64, 67, 0.3), 0 1px 3px 1px rgba(60, 64, 67, 0.15);\n",
              "    fill: var(--button-hover-fill-color);\n",
              "  }\n",
              "\n",
              "  .colab-df-quickchart-complete:disabled,\n",
              "  .colab-df-quickchart-complete:disabled:hover {\n",
              "    background-color: var(--disabled-bg-color);\n",
              "    fill: var(--disabled-fill-color);\n",
              "    box-shadow: none;\n",
              "  }\n",
              "\n",
              "  .colab-df-spinner {\n",
              "    border: 2px solid var(--fill-color);\n",
              "    border-color: transparent;\n",
              "    border-bottom-color: var(--fill-color);\n",
              "    animation:\n",
              "      spin 1s steps(1) infinite;\n",
              "  }\n",
              "\n",
              "  @keyframes spin {\n",
              "    0% {\n",
              "      border-color: transparent;\n",
              "      border-bottom-color: var(--fill-color);\n",
              "      border-left-color: var(--fill-color);\n",
              "    }\n",
              "    20% {\n",
              "      border-color: transparent;\n",
              "      border-left-color: var(--fill-color);\n",
              "      border-top-color: var(--fill-color);\n",
              "    }\n",
              "    30% {\n",
              "      border-color: transparent;\n",
              "      border-left-color: var(--fill-color);\n",
              "      border-top-color: var(--fill-color);\n",
              "      border-right-color: var(--fill-color);\n",
              "    }\n",
              "    40% {\n",
              "      border-color: transparent;\n",
              "      border-right-color: var(--fill-color);\n",
              "      border-top-color: var(--fill-color);\n",
              "    }\n",
              "    60% {\n",
              "      border-color: transparent;\n",
              "      border-right-color: var(--fill-color);\n",
              "    }\n",
              "    80% {\n",
              "      border-color: transparent;\n",
              "      border-right-color: var(--fill-color);\n",
              "      border-bottom-color: var(--fill-color);\n",
              "    }\n",
              "    90% {\n",
              "      border-color: transparent;\n",
              "      border-bottom-color: var(--fill-color);\n",
              "    }\n",
              "  }\n",
              "</style>\n",
              "\n",
              "  <script>\n",
              "    async function quickchart(key) {\n",
              "      const quickchartButtonEl =\n",
              "        document.querySelector('#' + key + ' button');\n",
              "      quickchartButtonEl.disabled = true;  // To prevent multiple clicks.\n",
              "      quickchartButtonEl.classList.add('colab-df-spinner');\n",
              "      try {\n",
              "        const charts = await google.colab.kernel.invokeFunction(\n",
              "            'suggestCharts', [key], {});\n",
              "      } catch (error) {\n",
              "        console.error('Error during call to suggestCharts:', error);\n",
              "      }\n",
              "      quickchartButtonEl.classList.remove('colab-df-spinner');\n",
              "      quickchartButtonEl.classList.add('colab-df-quickchart-complete');\n",
              "    }\n",
              "    (() => {\n",
              "      let quickchartButtonEl =\n",
              "        document.querySelector('#df-f033a83a-57b5-45c9-a353-aa331811cedd button');\n",
              "      quickchartButtonEl.style.display =\n",
              "        google.colab.kernel.accessAllowed ? 'block' : 'none';\n",
              "    })();\n",
              "  </script>\n",
              "</div>\n",
              "    </div>\n",
              "  </div>\n"
            ],
            "application/vnd.google.colaboratory.intrinsic+json": {
              "type": "dataframe",
              "variable_name": "y",
              "summary": "{\n  \"name\": \"y\",\n  \"rows\": 26302,\n  \"fields\": [\n    {\n      \"column\": \"Fecha\",\n      \"properties\": {\n        \"dtype\": \"date\",\n        \"min\": \"2019-01-01 00:00:00\",\n        \"max\": \"2021-12-31 21:00:00\",\n        \"num_unique_values\": 26302,\n        \"samples\": [\n          \"2021-05-26 23:00:00\",\n          \"2021-01-24 19:00:00\",\n          \"2019-04-25 16:00:00\"\n        ],\n        \"semantic_type\": \"\",\n        \"description\": \"\"\n      }\n    },\n    {\n      \"column\": \"Temperatura_Siguiente_Dia_Fr\\u00edo\",\n      \"properties\": {\n        \"dtype\": \"uint8\",\n        \"num_unique_values\": 2,\n        \"samples\": [\n          1,\n          0\n        ],\n        \"semantic_type\": \"\",\n        \"description\": \"\"\n      }\n    },\n    {\n      \"column\": \"Temperatura_Siguiente_Dia_Muy Caliente\",\n      \"properties\": {\n        \"dtype\": \"uint8\",\n        \"num_unique_values\": 2,\n        \"samples\": [\n          0,\n          1\n        ],\n        \"semantic_type\": \"\",\n        \"description\": \"\"\n      }\n    }\n  ]\n}"
            }
          },
          "metadata": {},
          "execution_count": 28
        }
      ]
    },
    {
      "cell_type": "code",
      "source": [
        "scaler = MinMaxScaler()\n",
        "X_escalado = scaler.fit_transform(X)\n"
      ],
      "metadata": {
        "id": "ntXXNtYfw2qU"
      },
      "execution_count": 29,
      "outputs": []
    },
    {
      "cell_type": "code",
      "source": [
        "# Dividir datos en conjuntos de entrenamiento y validación\n",
        "indices_entrenamiento = (datos_interpolados.index.year <= 2019)\n",
        "indices_validacion = ((datos_interpolados.index.year >= 2020) & (datos_interpolados.index.year <= 2020))"
      ],
      "metadata": {
        "id": "f71zrahZ1imQ"
      },
      "execution_count": 30,
      "outputs": []
    },
    {
      "cell_type": "code",
      "source": [
        "# Dividir datos en conjuntos de entrenamiento y validación\n",
        "X_entrenamiento, X_validacion = X_escalado[indices_entrenamiento], X_escalado[indices_validacion]\n",
        "y_entrenamiento, y_validacion = y[indices_entrenamiento], y[indices_validacion]"
      ],
      "metadata": {
        "id": "GifGiq1V1lBF"
      },
      "execution_count": 31,
      "outputs": []
    },
    {
      "cell_type": "code",
      "source": [
        "len_y = len(y)\n",
        "len_X_escalado = len(X_escalado)\n",
        "\n",
        "print(\"Longitud de y:\", len_y)\n",
        "print(\"Longitud de X_escalado:\", len_X_escalado)\n",
        "\n",
        "if len_y == len_X_escalado:\n",
        "    print(\"La cantidad de filas en y es igual a la cantidad de filas en X_escalado.\")\n",
        "else:\n",
        "    print(\"La cantidad de filas en y no es igual a la cantidad de filas en X_escalado.\")"
      ],
      "metadata": {
        "id": "IXYGE-1o3aCv",
        "colab": {
          "base_uri": "https://localhost:8080/"
        },
        "outputId": "b1a68e32-c4aa-4df5-e2f3-e4f6924530cf"
      },
      "execution_count": 32,
      "outputs": [
        {
          "output_type": "stream",
          "name": "stdout",
          "text": [
            "Longitud de y: 26302\n",
            "Longitud de X_escalado: 26302\n",
            "La cantidad de filas en y es igual a la cantidad de filas en X_escalado.\n"
          ]
        }
      ]
    },
    {
      "cell_type": "code",
      "source": [
        "print(X_entrenamiento.shape, X_validacion.shape)\n",
        "print(y_entrenamiento.shape, y_validacion.shape)\n"
      ],
      "metadata": {
        "colab": {
          "base_uri": "https://localhost:8080/"
        },
        "id": "eH30bnN_3bv7",
        "outputId": "df106a8f-75d3-43f0-e3c2-ffc85cf8400f"
      },
      "execution_count": 33,
      "outputs": [
        {
          "output_type": "stream",
          "name": "stdout",
          "text": [
            "(8760, 4) (8784, 4)\n",
            "(8760, 2) (8784, 2)\n"
          ]
        }
      ]
    },
    {
      "cell_type": "code",
      "source": [
        "def objetivo(trial):\n",
        "    # Definir hiperparámetros a ajustar\n",
        "    num_capas = 1\n",
        "    tf.random.set_seed(SEED)\n",
        "\n",
        "    num_unidades = trial.suggest_categorical('num_unidades', [32,64,128]) #cantidad de capas ocultas de la red\n",
        "    tasa_aprendizaje = trial.suggest_categorical('tasa_aprendizaje', [1e-2, 1e-3, 1e-4])\n",
        "\n",
        "    # Definir la arquitectura del modelo\n",
        "    modelo = Sequential()\n",
        "    modelo.add(Dense(num_unidades, activation='relu', input_shape=(X.shape[1],)))\n",
        "    for _ in range(num_capas - 1):\n",
        "        modelo.add(Dense(num_unidades, activation='relu'))\n",
        "    modelo.add(Dense(2, activation='softmax'))\n",
        "\n",
        "    # Compilar el modelo\n",
        "    modelo.compile(optimizer=Adam(learning_rate=tasa_aprendizaje),\n",
        "                  loss='categorical_crossentropy',\n",
        "                  metrics=['accuracy'])\n",
        "\n",
        "    # Entrenar el modelo\n",
        "    modelo.fit(X_entrenamiento, y_entrenamiento, validation_data=(X_validacion, y_validacion), epochs=30, batch_size=256, verbose=0, shuffle=False)\n",
        "\n",
        "    # Evaluar el modelo en el conjunto de validación\n",
        "    _, val_acc = modelo.evaluate(X_validacion, y_validacion, verbose=0)\n",
        "\n",
        "    return val_acc"
      ],
      "metadata": {
        "id": "f23GCy4g3ted"
      },
      "execution_count": 34,
      "outputs": []
    },
    {
      "cell_type": "code",
      "source": [
        "# Realizar la optimización de hiperparámetros usando Optuna\n",
        "estudio = optuna.create_study(direction='maximize')\n",
        "estudio.optimize(objetivo, n_trials=50)"
      ],
      "metadata": {
        "colab": {
          "base_uri": "https://localhost:8080/"
        },
        "id": "JA9MhP2L4bE_",
        "outputId": "45841ad5-b8de-48a7-81d3-c74e237d5a86"
      },
      "execution_count": 35,
      "outputs": [
        {
          "output_type": "stream",
          "name": "stderr",
          "text": [
            "[I 2024-03-30 21:22:35,768] A new study created in memory with name: no-name-161fa833-cb38-4164-b6bf-2cc567d66332\n",
            "[I 2024-03-30 21:22:47,494] Trial 0 finished with value: 0.6785063743591309 and parameters: {'num_unidades': 64, 'tasa_aprendizaje': 0.0001}. Best is trial 0 with value: 0.6785063743591309.\n",
            "[I 2024-03-30 21:22:55,276] Trial 1 finished with value: 0.8032786846160889 and parameters: {'num_unidades': 32, 'tasa_aprendizaje': 0.0001}. Best is trial 1 with value: 0.8032786846160889.\n",
            "[I 2024-03-30 21:23:01,388] Trial 2 finished with value: 0.7339481115341187 and parameters: {'num_unidades': 32, 'tasa_aprendizaje': 0.001}. Best is trial 1 with value: 0.8032786846160889.\n",
            "[I 2024-03-30 21:23:12,847] Trial 3 finished with value: 0.6912568211555481 and parameters: {'num_unidades': 64, 'tasa_aprendizaje': 0.001}. Best is trial 1 with value: 0.8032786846160889.\n",
            "[I 2024-03-30 21:23:24,141] Trial 4 finished with value: 0.7223360538482666 and parameters: {'num_unidades': 32, 'tasa_aprendizaje': 0.01}. Best is trial 1 with value: 0.8032786846160889.\n",
            "[I 2024-03-30 21:23:35,434] Trial 5 finished with value: 0.7249544858932495 and parameters: {'num_unidades': 32, 'tasa_aprendizaje': 0.01}. Best is trial 1 with value: 0.8032786846160889.\n",
            "[I 2024-03-30 21:23:46,712] Trial 6 finished with value: 0.7256374955177307 and parameters: {'num_unidades': 32, 'tasa_aprendizaje': 0.01}. Best is trial 1 with value: 0.8032786846160889.\n",
            "[I 2024-03-30 21:23:57,975] Trial 7 finished with value: 0.6561930775642395 and parameters: {'num_unidades': 128, 'tasa_aprendizaje': 0.0001}. Best is trial 1 with value: 0.8032786846160889.\n",
            "[I 2024-03-30 21:24:09,444] Trial 8 finished with value: 0.6897768378257751 and parameters: {'num_unidades': 128, 'tasa_aprendizaje': 0.0001}. Best is trial 1 with value: 0.8032786846160889.\n",
            "[I 2024-03-30 21:24:16,495] Trial 9 finished with value: 0.5900501012802124 and parameters: {'num_unidades': 32, 'tasa_aprendizaje': 0.0001}. Best is trial 1 with value: 0.8032786846160889.\n",
            "[I 2024-03-30 21:24:22,955] Trial 10 finished with value: 0.6631374955177307 and parameters: {'num_unidades': 64, 'tasa_aprendizaje': 0.0001}. Best is trial 1 with value: 0.8032786846160889.\n",
            "[I 2024-03-30 21:24:34,442] Trial 11 finished with value: 0.7035518884658813 and parameters: {'num_unidades': 32, 'tasa_aprendizaje': 0.001}. Best is trial 1 with value: 0.8032786846160889.\n",
            "[I 2024-03-30 21:24:41,763] Trial 12 finished with value: 0.687727689743042 and parameters: {'num_unidades': 32, 'tasa_aprendizaje': 0.001}. Best is trial 1 with value: 0.8032786846160889.\n",
            "[I 2024-03-30 21:24:48,263] Trial 13 finished with value: 0.7040072679519653 and parameters: {'num_unidades': 32, 'tasa_aprendizaje': 0.001}. Best is trial 1 with value: 0.8032786846160889.\n",
            "[I 2024-03-30 21:24:55,443] Trial 14 finished with value: 0.7096994519233704 and parameters: {'num_unidades': 32, 'tasa_aprendizaje': 0.001}. Best is trial 1 with value: 0.8032786846160889.\n",
            "[I 2024-03-30 21:25:06,767] Trial 15 finished with value: 0.7645719647407532 and parameters: {'num_unidades': 128, 'tasa_aprendizaje': 0.0001}. Best is trial 1 with value: 0.8032786846160889.\n",
            "[I 2024-03-30 21:25:18,431] Trial 16 finished with value: 0.7036657333374023 and parameters: {'num_unidades': 128, 'tasa_aprendizaje': 0.0001}. Best is trial 1 with value: 0.8032786846160889.\n",
            "[I 2024-03-30 21:25:25,293] Trial 17 finished with value: 0.6789617538452148 and parameters: {'num_unidades': 128, 'tasa_aprendizaje': 0.0001}. Best is trial 1 with value: 0.8032786846160889.\n",
            "[I 2024-03-30 21:25:32,309] Trial 18 finished with value: 0.6643897891044617 and parameters: {'num_unidades': 128, 'tasa_aprendizaje': 0.0001}. Best is trial 1 with value: 0.8032786846160889.\n",
            "[I 2024-03-30 21:25:39,629] Trial 19 finished with value: 0.7040072679519653 and parameters: {'num_unidades': 128, 'tasa_aprendizaje': 0.0001}. Best is trial 1 with value: 0.8032786846160889.\n",
            "[I 2024-03-30 21:25:45,945] Trial 20 finished with value: 0.6793032884597778 and parameters: {'num_unidades': 128, 'tasa_aprendizaje': 0.0001}. Best is trial 1 with value: 0.8032786846160889.\n",
            "[I 2024-03-30 21:25:53,215] Trial 21 finished with value: 0.6959244012832642 and parameters: {'num_unidades': 32, 'tasa_aprendizaje': 0.001}. Best is trial 1 with value: 0.8032786846160889.\n",
            "[I 2024-03-30 21:26:04,479] Trial 22 finished with value: 0.7010473608970642 and parameters: {'num_unidades': 32, 'tasa_aprendizaje': 0.001}. Best is trial 1 with value: 0.8032786846160889.\n",
            "[I 2024-03-30 21:26:15,957] Trial 23 finished with value: 0.7239298820495605 and parameters: {'num_unidades': 64, 'tasa_aprendizaje': 0.01}. Best is trial 1 with value: 0.8032786846160889.\n",
            "[I 2024-03-30 21:26:27,242] Trial 24 finished with value: 0.5087659358978271 and parameters: {'num_unidades': 32, 'tasa_aprendizaje': 0.0001}. Best is trial 1 with value: 0.8032786846160889.\n",
            "[I 2024-03-30 21:26:38,711] Trial 25 finished with value: 0.6977459192276001 and parameters: {'num_unidades': 128, 'tasa_aprendizaje': 0.001}. Best is trial 1 with value: 0.8032786846160889.\n",
            "[I 2024-03-30 21:26:45,636] Trial 26 finished with value: 0.5081967115402222 and parameters: {'num_unidades': 32, 'tasa_aprendizaje': 0.0001}. Best is trial 1 with value: 0.8032786846160889.\n",
            "[I 2024-03-30 21:26:52,580] Trial 27 finished with value: 0.5081967115402222 and parameters: {'num_unidades': 32, 'tasa_aprendizaje': 0.0001}. Best is trial 1 with value: 0.8032786846160889.\n",
            "[I 2024-03-30 21:27:04,059] Trial 28 finished with value: 0.7204007506370544 and parameters: {'num_unidades': 64, 'tasa_aprendizaje': 0.01}. Best is trial 1 with value: 0.8032786846160889.\n",
            "[I 2024-03-30 21:27:15,356] Trial 29 finished with value: 0.7005919814109802 and parameters: {'num_unidades': 128, 'tasa_aprendizaje': 0.001}. Best is trial 1 with value: 0.8032786846160889.\n",
            "[I 2024-03-30 21:27:26,646] Trial 30 finished with value: 0.6122495532035828 and parameters: {'num_unidades': 64, 'tasa_aprendizaje': 0.0001}. Best is trial 1 with value: 0.8032786846160889.\n",
            "[I 2024-03-30 21:27:37,928] Trial 31 finished with value: 0.7208561301231384 and parameters: {'num_unidades': 32, 'tasa_aprendizaje': 0.01}. Best is trial 1 with value: 0.8032786846160889.\n",
            "[I 2024-03-30 21:27:49,201] Trial 32 finished with value: 0.7233606576919556 and parameters: {'num_unidades': 32, 'tasa_aprendizaje': 0.01}. Best is trial 1 with value: 0.8032786846160889.\n",
            "[I 2024-03-30 21:28:00,470] Trial 33 finished with value: 0.7279143929481506 and parameters: {'num_unidades': 32, 'tasa_aprendizaje': 0.01}. Best is trial 1 with value: 0.8032786846160889.\n",
            "[I 2024-03-30 21:28:07,883] Trial 34 finished with value: 0.7238160371780396 and parameters: {'num_unidades': 32, 'tasa_aprendizaje': 0.01}. Best is trial 1 with value: 0.8032786846160889.\n",
            "[I 2024-03-30 21:28:20,138] Trial 35 finished with value: 0.7177823185920715 and parameters: {'num_unidades': 32, 'tasa_aprendizaje': 0.01}. Best is trial 1 with value: 0.8032786846160889.\n",
            "[I 2024-03-30 21:28:26,462] Trial 36 finished with value: 0.7103825211524963 and parameters: {'num_unidades': 32, 'tasa_aprendizaje': 0.01}. Best is trial 1 with value: 0.8032786846160889.\n",
            "[I 2024-03-30 21:28:37,954] Trial 37 finished with value: 0.6984289884567261 and parameters: {'num_unidades': 32, 'tasa_aprendizaje': 0.001}. Best is trial 1 with value: 0.8032786846160889.\n",
            "[I 2024-03-30 21:28:49,265] Trial 38 finished with value: 0.7254098653793335 and parameters: {'num_unidades': 64, 'tasa_aprendizaje': 0.01}. Best is trial 1 with value: 0.8032786846160889.\n",
            "[I 2024-03-30 21:29:00,737] Trial 39 finished with value: 0.692509114742279 and parameters: {'num_unidades': 128, 'tasa_aprendizaje': 0.0001}. Best is trial 1 with value: 0.8032786846160889.\n",
            "[I 2024-03-30 21:29:12,055] Trial 40 finished with value: 0.5081967115402222 and parameters: {'num_unidades': 32, 'tasa_aprendizaje': 0.0001}. Best is trial 1 with value: 0.8032786846160889.\n",
            "[I 2024-03-30 21:29:18,881] Trial 41 finished with value: 0.7233606576919556 and parameters: {'num_unidades': 32, 'tasa_aprendizaje': 0.01}. Best is trial 1 with value: 0.8032786846160889.\n",
            "[I 2024-03-30 21:29:30,563] Trial 42 finished with value: 0.7226775884628296 and parameters: {'num_unidades': 32, 'tasa_aprendizaje': 0.01}. Best is trial 1 with value: 0.8032786846160889.\n",
            "[I 2024-03-30 21:29:37,252] Trial 43 finished with value: 0.7229052782058716 and parameters: {'num_unidades': 32, 'tasa_aprendizaje': 0.01}. Best is trial 1 with value: 0.8032786846160889.\n",
            "[I 2024-03-30 21:29:48,732] Trial 44 finished with value: 0.7259790301322937 and parameters: {'num_unidades': 32, 'tasa_aprendizaje': 0.01}. Best is trial 1 with value: 0.8032786846160889.\n",
            "[I 2024-03-30 21:29:55,994] Trial 45 finished with value: 0.7241575717926025 and parameters: {'num_unidades': 32, 'tasa_aprendizaje': 0.01}. Best is trial 1 with value: 0.8032786846160889.\n",
            "[I 2024-03-30 21:30:07,482] Trial 46 finished with value: 0.7089025378227234 and parameters: {'num_unidades': 32, 'tasa_aprendizaje': 0.001}. Best is trial 1 with value: 0.8032786846160889.\n",
            "[I 2024-03-30 21:30:13,788] Trial 47 finished with value: 0.743397057056427 and parameters: {'num_unidades': 128, 'tasa_aprendizaje': 0.0001}. Best is trial 1 with value: 0.8032786846160889.\n",
            "[I 2024-03-30 21:30:25,089] Trial 48 finished with value: 0.6216985583305359 and parameters: {'num_unidades': 128, 'tasa_aprendizaje': 0.0001}. Best is trial 1 with value: 0.8032786846160889.\n",
            "[I 2024-03-30 21:30:36,561] Trial 49 finished with value: 0.685906171798706 and parameters: {'num_unidades': 128, 'tasa_aprendizaje': 0.0001}. Best is trial 1 with value: 0.8032786846160889.\n"
          ]
        }
      ]
    },
    {
      "cell_type": "code",
      "source": [
        "# Obtener los mejores hiperparámetros\n",
        "mejor_num_capas = 1\n",
        "mejor_num_unidades = estudio.best_params['num_unidades']\n",
        "mejor_tasa_aprendizaje = estudio.best_params['tasa_aprendizaje']"
      ],
      "metadata": {
        "id": "dLuNelu6OwiT"
      },
      "execution_count": 36,
      "outputs": []
    },
    {
      "cell_type": "code",
      "source": [
        "print(\"Mejores Hiperparámetros:\")\n",
        "print(\"Número de Capas:\", mejor_num_capas)\n",
        "print(\"Número de Unidades:\", mejor_num_unidades)\n",
        "print(\"Tasa de Aprendizaje:\", mejor_tasa_aprendizaje)"
      ],
      "metadata": {
        "colab": {
          "base_uri": "https://localhost:8080/"
        },
        "id": "8bYCpOADO3Qc",
        "outputId": "6c268361-1f34-4e20-b9fb-ffe044687950"
      },
      "execution_count": 37,
      "outputs": [
        {
          "output_type": "stream",
          "name": "stdout",
          "text": [
            "Mejores Hiperparámetros:\n",
            "Número de Capas: 1\n",
            "Número de Unidades: 32\n",
            "Tasa de Aprendizaje: 0.0001\n"
          ]
        }
      ]
    },
    {
      "cell_type": "code",
      "source": [
        "# Entrenar el modelo final usando los mejores hiperparámetros\n",
        "modelo_final = Sequential()\n",
        "modelo_final.add(Dense(mejor_num_unidades, activation='relu', input_shape=(X_entrenamiento.shape[1],)))\n",
        "for _ in range(mejor_num_capas - 1):\n",
        "    modelo_final.add(Dense(mejor_num_unidades, activation='relu'))\n",
        "modelo_final.add(Dense(2, activation='softmax'))\n",
        "\n",
        "modelo_final.compile(optimizer=tf.keras.optimizers.Adam(learning_rate=mejor_tasa_aprendizaje),\n",
        "                     loss='categorical_crossentropy',\n",
        "                     metrics=['accuracy'])"
      ],
      "metadata": {
        "id": "_f4ifal5O6HY"
      },
      "execution_count": 38,
      "outputs": []
    },
    {
      "cell_type": "code",
      "source": [
        "# Dividir datos en conjuntos de entrenamiento y prueba\n",
        "indices_entrenamiento_final = (datos_codificados.index.year < 2020)\n",
        "indices_prueba_final = (datos_codificados.index.year >= 2021)"
      ],
      "metadata": {
        "id": "ZNhT--97PHzg"
      },
      "execution_count": 39,
      "outputs": []
    },
    {
      "cell_type": "code",
      "source": [
        "# Dividir datos en conjuntos de entrenamiento y prueba\n",
        "X_entrenamiento_final, X_prueba_final = X_escalado[indices_entrenamiento_final], X_escalado[indices_prueba_final]\n",
        "y_entrenamiento_final, y_prueba_final = y[indices_entrenamiento_final], y[indices_prueba_final]\n"
      ],
      "metadata": {
        "id": "dDLHLhgwPtAc"
      },
      "execution_count": 40,
      "outputs": []
    },
    {
      "cell_type": "code",
      "source": [
        "# Entrenar modelo final\n",
        "modelo_final.fit(X_entrenamiento_final, y_entrenamiento_final, validation_data=(X_prueba_final, y_prueba_final), epochs=100, batch_size=256, verbose=1, shuffle=False)\n"
      ],
      "metadata": {
        "colab": {
          "base_uri": "https://localhost:8080/"
        },
        "id": "4kRhfJQbRNw5",
        "outputId": "616d3064-06ca-436d-ba77-dc72106f7c95"
      },
      "execution_count": 41,
      "outputs": [
        {
          "output_type": "stream",
          "name": "stdout",
          "text": [
            "Epoch 1/100\n",
            "35/35 [==============================] - 1s 12ms/step - loss: 0.3928 - accuracy: 0.7150 - val_loss: 0.3119 - val_accuracy: 0.7045\n",
            "Epoch 2/100\n",
            "35/35 [==============================] - 0s 5ms/step - loss: 0.3884 - accuracy: 0.7164 - val_loss: 0.3087 - val_accuracy: 0.7043\n",
            "Epoch 3/100\n",
            "35/35 [==============================] - 0s 6ms/step - loss: 0.3840 - accuracy: 0.7163 - val_loss: 0.3054 - val_accuracy: 0.7044\n",
            "Epoch 4/100\n",
            "35/35 [==============================] - 0s 5ms/step - loss: 0.3796 - accuracy: 0.7163 - val_loss: 0.3022 - val_accuracy: 0.7043\n",
            "Epoch 5/100\n",
            "35/35 [==============================] - 0s 5ms/step - loss: 0.3753 - accuracy: 0.7162 - val_loss: 0.2991 - val_accuracy: 0.7034\n",
            "Epoch 6/100\n",
            "35/35 [==============================] - 0s 5ms/step - loss: 0.3710 - accuracy: 0.7152 - val_loss: 0.2959 - val_accuracy: 0.7008\n",
            "Epoch 7/100\n",
            "35/35 [==============================] - 0s 5ms/step - loss: 0.3667 - accuracy: 0.7146 - val_loss: 0.2928 - val_accuracy: 0.6995\n",
            "Epoch 8/100\n",
            "35/35 [==============================] - 0s 8ms/step - loss: 0.3624 - accuracy: 0.7140 - val_loss: 0.2897 - val_accuracy: 0.6983\n",
            "Epoch 9/100\n",
            "35/35 [==============================] - 0s 7ms/step - loss: 0.3582 - accuracy: 0.7142 - val_loss: 0.2866 - val_accuracy: 0.6981\n",
            "Epoch 10/100\n",
            "35/35 [==============================] - 0s 9ms/step - loss: 0.3540 - accuracy: 0.7140 - val_loss: 0.2836 - val_accuracy: 0.6980\n",
            "Epoch 11/100\n",
            "35/35 [==============================] - 0s 7ms/step - loss: 0.3499 - accuracy: 0.7139 - val_loss: 0.2806 - val_accuracy: 0.6975\n",
            "Epoch 12/100\n",
            "35/35 [==============================] - 0s 7ms/step - loss: 0.3458 - accuracy: 0.7136 - val_loss: 0.2776 - val_accuracy: 0.6967\n",
            "Epoch 13/100\n",
            "35/35 [==============================] - 0s 7ms/step - loss: 0.3417 - accuracy: 0.7136 - val_loss: 0.2746 - val_accuracy: 0.6955\n",
            "Epoch 14/100\n",
            "35/35 [==============================] - 0s 7ms/step - loss: 0.3376 - accuracy: 0.7131 - val_loss: 0.2717 - val_accuracy: 0.6947\n",
            "Epoch 15/100\n",
            "35/35 [==============================] - 0s 9ms/step - loss: 0.3336 - accuracy: 0.7130 - val_loss: 0.2688 - val_accuracy: 0.6945\n",
            "Epoch 16/100\n",
            "35/35 [==============================] - 0s 10ms/step - loss: 0.3296 - accuracy: 0.7124 - val_loss: 0.2659 - val_accuracy: 0.6924\n",
            "Epoch 17/100\n",
            "35/35 [==============================] - 0s 5ms/step - loss: 0.3257 - accuracy: 0.7120 - val_loss: 0.2631 - val_accuracy: 0.6918\n",
            "Epoch 18/100\n",
            "35/35 [==============================] - 0s 6ms/step - loss: 0.3218 - accuracy: 0.7123 - val_loss: 0.2602 - val_accuracy: 0.6913\n",
            "Epoch 19/100\n",
            "35/35 [==============================] - 0s 5ms/step - loss: 0.3179 - accuracy: 0.7127 - val_loss: 0.2575 - val_accuracy: 0.6916\n",
            "Epoch 20/100\n",
            "35/35 [==============================] - 0s 8ms/step - loss: 0.3140 - accuracy: 0.7129 - val_loss: 0.2547 - val_accuracy: 0.6921\n",
            "Epoch 21/100\n",
            "35/35 [==============================] - 0s 5ms/step - loss: 0.3102 - accuracy: 0.7138 - val_loss: 0.2520 - val_accuracy: 0.6932\n",
            "Epoch 22/100\n",
            "35/35 [==============================] - 0s 5ms/step - loss: 0.3065 - accuracy: 0.7188 - val_loss: 0.2493 - val_accuracy: 0.7216\n",
            "Epoch 23/100\n",
            "35/35 [==============================] - 0s 5ms/step - loss: 0.3028 - accuracy: 0.7764 - val_loss: 0.2467 - val_accuracy: 0.7636\n",
            "Epoch 24/100\n",
            "35/35 [==============================] - 0s 8ms/step - loss: 0.2991 - accuracy: 0.8123 - val_loss: 0.2441 - val_accuracy: 0.7757\n",
            "Epoch 25/100\n",
            "35/35 [==============================] - 0s 5ms/step - loss: 0.2955 - accuracy: 0.8353 - val_loss: 0.2416 - val_accuracy: 0.7784\n",
            "Epoch 26/100\n",
            "35/35 [==============================] - 0s 5ms/step - loss: 0.2919 - accuracy: 0.8427 - val_loss: 0.2390 - val_accuracy: 0.7821\n",
            "Epoch 27/100\n",
            "35/35 [==============================] - 0s 5ms/step - loss: 0.2884 - accuracy: 0.8447 - val_loss: 0.2365 - val_accuracy: 0.7831\n",
            "Epoch 28/100\n",
            "35/35 [==============================] - 0s 5ms/step - loss: 0.2849 - accuracy: 0.8468 - val_loss: 0.2340 - val_accuracy: 0.7856\n",
            "Epoch 29/100\n",
            "35/35 [==============================] - 0s 5ms/step - loss: 0.2814 - accuracy: 0.8475 - val_loss: 0.2315 - val_accuracy: 0.7872\n",
            "Epoch 30/100\n",
            "35/35 [==============================] - 0s 5ms/step - loss: 0.2780 - accuracy: 0.8486 - val_loss: 0.2290 - val_accuracy: 0.7902\n",
            "Epoch 31/100\n",
            "35/35 [==============================] - 0s 5ms/step - loss: 0.2745 - accuracy: 0.8499 - val_loss: 0.2265 - val_accuracy: 0.7928\n",
            "Epoch 32/100\n",
            "35/35 [==============================] - 0s 5ms/step - loss: 0.2711 - accuracy: 0.8509 - val_loss: 0.2241 - val_accuracy: 0.7952\n",
            "Epoch 33/100\n",
            "35/35 [==============================] - 0s 8ms/step - loss: 0.2677 - accuracy: 0.8515 - val_loss: 0.2217 - val_accuracy: 0.7964\n",
            "Epoch 34/100\n",
            "35/35 [==============================] - 0s 5ms/step - loss: 0.2643 - accuracy: 0.8519 - val_loss: 0.2193 - val_accuracy: 0.7986\n",
            "Epoch 35/100\n",
            "35/35 [==============================] - 0s 5ms/step - loss: 0.2610 - accuracy: 0.8530 - val_loss: 0.2170 - val_accuracy: 0.8006\n",
            "Epoch 36/100\n",
            "35/35 [==============================] - 0s 6ms/step - loss: 0.2578 - accuracy: 0.8525 - val_loss: 0.2147 - val_accuracy: 0.8032\n",
            "Epoch 37/100\n",
            "35/35 [==============================] - 0s 5ms/step - loss: 0.2546 - accuracy: 0.8530 - val_loss: 0.2124 - val_accuracy: 0.8047\n",
            "Epoch 38/100\n",
            "35/35 [==============================] - 0s 5ms/step - loss: 0.2515 - accuracy: 0.8537 - val_loss: 0.2102 - val_accuracy: 0.8061\n",
            "Epoch 39/100\n",
            "35/35 [==============================] - 0s 5ms/step - loss: 0.2485 - accuracy: 0.8541 - val_loss: 0.2081 - val_accuracy: 0.8075\n",
            "Epoch 40/100\n",
            "35/35 [==============================] - 0s 5ms/step - loss: 0.2455 - accuracy: 0.8542 - val_loss: 0.2060 - val_accuracy: 0.8084\n",
            "Epoch 41/100\n",
            "35/35 [==============================] - 0s 5ms/step - loss: 0.2426 - accuracy: 0.8548 - val_loss: 0.2039 - val_accuracy: 0.8093\n",
            "Epoch 42/100\n",
            "35/35 [==============================] - 0s 5ms/step - loss: 0.2397 - accuracy: 0.8549 - val_loss: 0.2019 - val_accuracy: 0.8102\n",
            "Epoch 43/100\n",
            "35/35 [==============================] - 0s 5ms/step - loss: 0.2368 - accuracy: 0.8556 - val_loss: 0.1999 - val_accuracy: 0.8109\n",
            "Epoch 44/100\n",
            "35/35 [==============================] - 0s 5ms/step - loss: 0.2341 - accuracy: 0.8557 - val_loss: 0.1980 - val_accuracy: 0.8115\n",
            "Epoch 45/100\n",
            "35/35 [==============================] - 0s 5ms/step - loss: 0.2313 - accuracy: 0.8559 - val_loss: 0.1961 - val_accuracy: 0.8123\n",
            "Epoch 46/100\n",
            "35/35 [==============================] - 0s 5ms/step - loss: 0.2286 - accuracy: 0.8561 - val_loss: 0.1942 - val_accuracy: 0.8135\n",
            "Epoch 47/100\n",
            "35/35 [==============================] - 0s 5ms/step - loss: 0.2260 - accuracy: 0.8559 - val_loss: 0.1923 - val_accuracy: 0.8141\n",
            "Epoch 48/100\n",
            "35/35 [==============================] - 0s 5ms/step - loss: 0.2234 - accuracy: 0.8562 - val_loss: 0.1905 - val_accuracy: 0.8148\n",
            "Epoch 49/100\n",
            "35/35 [==============================] - 0s 5ms/step - loss: 0.2209 - accuracy: 0.8563 - val_loss: 0.1888 - val_accuracy: 0.8155\n",
            "Epoch 50/100\n",
            "35/35 [==============================] - 0s 5ms/step - loss: 0.2185 - accuracy: 0.8566 - val_loss: 0.1871 - val_accuracy: 0.8159\n",
            "Epoch 51/100\n",
            "35/35 [==============================] - 0s 5ms/step - loss: 0.2161 - accuracy: 0.8567 - val_loss: 0.1854 - val_accuracy: 0.8167\n",
            "Epoch 52/100\n",
            "35/35 [==============================] - 0s 5ms/step - loss: 0.2138 - accuracy: 0.8568 - val_loss: 0.1838 - val_accuracy: 0.8173\n",
            "Epoch 53/100\n",
            "35/35 [==============================] - 0s 5ms/step - loss: 0.2116 - accuracy: 0.8573 - val_loss: 0.1822 - val_accuracy: 0.8174\n",
            "Epoch 54/100\n",
            "35/35 [==============================] - 0s 5ms/step - loss: 0.2094 - accuracy: 0.8574 - val_loss: 0.1807 - val_accuracy: 0.8179\n",
            "Epoch 55/100\n",
            "35/35 [==============================] - 0s 5ms/step - loss: 0.2072 - accuracy: 0.8575 - val_loss: 0.1792 - val_accuracy: 0.8182\n",
            "Epoch 56/100\n",
            "35/35 [==============================] - 0s 5ms/step - loss: 0.2051 - accuracy: 0.8572 - val_loss: 0.1777 - val_accuracy: 0.8186\n",
            "Epoch 57/100\n",
            "35/35 [==============================] - 0s 5ms/step - loss: 0.2030 - accuracy: 0.8572 - val_loss: 0.1762 - val_accuracy: 0.8186\n",
            "Epoch 58/100\n",
            "35/35 [==============================] - 0s 5ms/step - loss: 0.2010 - accuracy: 0.8572 - val_loss: 0.1748 - val_accuracy: 0.8183\n",
            "Epoch 59/100\n",
            "35/35 [==============================] - 0s 5ms/step - loss: 0.1990 - accuracy: 0.8574 - val_loss: 0.1734 - val_accuracy: 0.8183\n",
            "Epoch 60/100\n",
            "35/35 [==============================] - 0s 5ms/step - loss: 0.1970 - accuracy: 0.8574 - val_loss: 0.1721 - val_accuracy: 0.8182\n",
            "Epoch 61/100\n",
            "35/35 [==============================] - 0s 5ms/step - loss: 0.1951 - accuracy: 0.8573 - val_loss: 0.1707 - val_accuracy: 0.8182\n",
            "Epoch 62/100\n",
            "35/35 [==============================] - 0s 5ms/step - loss: 0.1932 - accuracy: 0.8571 - val_loss: 0.1694 - val_accuracy: 0.8181\n",
            "Epoch 63/100\n",
            "35/35 [==============================] - 0s 7ms/step - loss: 0.1914 - accuracy: 0.8572 - val_loss: 0.1681 - val_accuracy: 0.8180\n",
            "Epoch 64/100\n",
            "35/35 [==============================] - 0s 5ms/step - loss: 0.1896 - accuracy: 0.8573 - val_loss: 0.1669 - val_accuracy: 0.8178\n",
            "Epoch 65/100\n",
            "35/35 [==============================] - 0s 5ms/step - loss: 0.1878 - accuracy: 0.8571 - val_loss: 0.1656 - val_accuracy: 0.8174\n",
            "Epoch 66/100\n",
            "35/35 [==============================] - 0s 5ms/step - loss: 0.1860 - accuracy: 0.8567 - val_loss: 0.1644 - val_accuracy: 0.8169\n",
            "Epoch 67/100\n",
            "35/35 [==============================] - 0s 5ms/step - loss: 0.1843 - accuracy: 0.8566 - val_loss: 0.1632 - val_accuracy: 0.8164\n",
            "Epoch 68/100\n",
            "35/35 [==============================] - 0s 7ms/step - loss: 0.1826 - accuracy: 0.8562 - val_loss: 0.1620 - val_accuracy: 0.8147\n",
            "Epoch 69/100\n",
            "35/35 [==============================] - 0s 9ms/step - loss: 0.1809 - accuracy: 0.8563 - val_loss: 0.1608 - val_accuracy: 0.8141\n",
            "Epoch 70/100\n",
            "35/35 [==============================] - 0s 7ms/step - loss: 0.1793 - accuracy: 0.8561 - val_loss: 0.1597 - val_accuracy: 0.8123\n",
            "Epoch 71/100\n",
            "35/35 [==============================] - 0s 7ms/step - loss: 0.1776 - accuracy: 0.8562 - val_loss: 0.1585 - val_accuracy: 0.8110\n",
            "Epoch 72/100\n",
            "35/35 [==============================] - 0s 7ms/step - loss: 0.1760 - accuracy: 0.8559 - val_loss: 0.1574 - val_accuracy: 0.8102\n",
            "Epoch 73/100\n",
            "35/35 [==============================] - 0s 7ms/step - loss: 0.1744 - accuracy: 0.8554 - val_loss: 0.1563 - val_accuracy: 0.8097\n",
            "Epoch 74/100\n",
            "35/35 [==============================] - 0s 8ms/step - loss: 0.1729 - accuracy: 0.8551 - val_loss: 0.1552 - val_accuracy: 0.8089\n",
            "Epoch 75/100\n",
            "35/35 [==============================] - 0s 7ms/step - loss: 0.1713 - accuracy: 0.8547 - val_loss: 0.1542 - val_accuracy: 0.8077\n",
            "Epoch 76/100\n",
            "35/35 [==============================] - 0s 5ms/step - loss: 0.1698 - accuracy: 0.8540 - val_loss: 0.1531 - val_accuracy: 0.8065\n",
            "Epoch 77/100\n",
            "35/35 [==============================] - 0s 5ms/step - loss: 0.1684 - accuracy: 0.8537 - val_loss: 0.1521 - val_accuracy: 0.8050\n",
            "Epoch 78/100\n",
            "35/35 [==============================] - 0s 5ms/step - loss: 0.1669 - accuracy: 0.8534 - val_loss: 0.1511 - val_accuracy: 0.8036\n",
            "Epoch 79/100\n",
            "35/35 [==============================] - 0s 5ms/step - loss: 0.1655 - accuracy: 0.8527 - val_loss: 0.1501 - val_accuracy: 0.8025\n",
            "Epoch 80/100\n",
            "35/35 [==============================] - 0s 5ms/step - loss: 0.1641 - accuracy: 0.8524 - val_loss: 0.1492 - val_accuracy: 0.8011\n",
            "Epoch 81/100\n",
            "35/35 [==============================] - 0s 5ms/step - loss: 0.1628 - accuracy: 0.8524 - val_loss: 0.1483 - val_accuracy: 0.7989\n",
            "Epoch 82/100\n",
            "35/35 [==============================] - 0s 5ms/step - loss: 0.1614 - accuracy: 0.8525 - val_loss: 0.1473 - val_accuracy: 0.7974\n",
            "Epoch 83/100\n",
            "35/35 [==============================] - 0s 5ms/step - loss: 0.1601 - accuracy: 0.8521 - val_loss: 0.1464 - val_accuracy: 0.7960\n",
            "Epoch 84/100\n",
            "35/35 [==============================] - 0s 5ms/step - loss: 0.1588 - accuracy: 0.8516 - val_loss: 0.1456 - val_accuracy: 0.7950\n",
            "Epoch 85/100\n",
            "35/35 [==============================] - 0s 5ms/step - loss: 0.1576 - accuracy: 0.8507 - val_loss: 0.1447 - val_accuracy: 0.7934\n",
            "Epoch 86/100\n",
            "35/35 [==============================] - 0s 5ms/step - loss: 0.1563 - accuracy: 0.8505 - val_loss: 0.1439 - val_accuracy: 0.7922\n",
            "Epoch 87/100\n",
            "35/35 [==============================] - 0s 5ms/step - loss: 0.1551 - accuracy: 0.8503 - val_loss: 0.1430 - val_accuracy: 0.7916\n",
            "Epoch 88/100\n",
            "35/35 [==============================] - 0s 5ms/step - loss: 0.1540 - accuracy: 0.8498 - val_loss: 0.1422 - val_accuracy: 0.7901\n",
            "Epoch 89/100\n",
            "35/35 [==============================] - 0s 5ms/step - loss: 0.1528 - accuracy: 0.8498 - val_loss: 0.1414 - val_accuracy: 0.7877\n",
            "Epoch 90/100\n",
            "35/35 [==============================] - 0s 5ms/step - loss: 0.1517 - accuracy: 0.8490 - val_loss: 0.1407 - val_accuracy: 0.7872\n",
            "Epoch 91/100\n",
            "35/35 [==============================] - 0s 5ms/step - loss: 0.1505 - accuracy: 0.8484 - val_loss: 0.1399 - val_accuracy: 0.7860\n",
            "Epoch 92/100\n",
            "35/35 [==============================] - 0s 7ms/step - loss: 0.1494 - accuracy: 0.8481 - val_loss: 0.1392 - val_accuracy: 0.7842\n",
            "Epoch 93/100\n",
            "35/35 [==============================] - 0s 5ms/step - loss: 0.1484 - accuracy: 0.8479 - val_loss: 0.1384 - val_accuracy: 0.7824\n",
            "Epoch 94/100\n",
            "35/35 [==============================] - 0s 5ms/step - loss: 0.1473 - accuracy: 0.8475 - val_loss: 0.1377 - val_accuracy: 0.7801\n",
            "Epoch 95/100\n",
            "35/35 [==============================] - 0s 5ms/step - loss: 0.1463 - accuracy: 0.8467 - val_loss: 0.1370 - val_accuracy: 0.7788\n",
            "Epoch 96/100\n",
            "35/35 [==============================] - 0s 5ms/step - loss: 0.1453 - accuracy: 0.8468 - val_loss: 0.1364 - val_accuracy: 0.7779\n",
            "Epoch 97/100\n",
            "35/35 [==============================] - 0s 5ms/step - loss: 0.1443 - accuracy: 0.8465 - val_loss: 0.1357 - val_accuracy: 0.7762\n",
            "Epoch 98/100\n",
            "35/35 [==============================] - 0s 5ms/step - loss: 0.1433 - accuracy: 0.8459 - val_loss: 0.1351 - val_accuracy: 0.7744\n",
            "Epoch 99/100\n",
            "35/35 [==============================] - 0s 5ms/step - loss: 0.1424 - accuracy: 0.8447 - val_loss: 0.1344 - val_accuracy: 0.7732\n",
            "Epoch 100/100\n",
            "35/35 [==============================] - 0s 5ms/step - loss: 0.1415 - accuracy: 0.8445 - val_loss: 0.1338 - val_accuracy: 0.7724\n"
          ]
        },
        {
          "output_type": "execute_result",
          "data": {
            "text/plain": [
              "<keras.src.callbacks.History at 0x7e7638f9d9f0>"
            ]
          },
          "metadata": {},
          "execution_count": 41
        }
      ]
    },
    {
      "cell_type": "code",
      "source": [
        "# Evaluar en conjunto de prueba\n",
        "_, test_acc = modelo_final.evaluate(X_prueba_final, y_prueba_final, verbose=0)\n",
        "print(\"Accuracy en conjunto de prueba:\", test_acc)"
      ],
      "metadata": {
        "colab": {
          "base_uri": "https://localhost:8080/"
        },
        "id": "_adNTjlERgks",
        "outputId": "ddbb6036-7388-4d57-ee79-00a19cad830f"
      },
      "execution_count": 42,
      "outputs": [
        {
          "output_type": "stream",
          "name": "stdout",
          "text": [
            "Accuracy en conjunto de prueba: 0.7724366188049316\n"
          ]
        }
      ]
    },
    {
      "cell_type": "code",
      "source": [
        "# Calcular otras métricas\n",
        "y_pred = modelo_final.predict(X_prueba_final)\n",
        "y_pred_classes = np.argmax(y_pred, axis=1)"
      ],
      "metadata": {
        "colab": {
          "base_uri": "https://localhost:8080/"
        },
        "id": "GbrF-iwhRl0i",
        "outputId": "ccce320e-e3b2-48f9-f09a-b192628857cb"
      },
      "execution_count": 43,
      "outputs": [
        {
          "output_type": "stream",
          "name": "stdout",
          "text": [
            "274/274 [==============================] - 0s 1ms/step\n"
          ]
        }
      ]
    },
    {
      "cell_type": "code",
      "source": [
        "# Convertir y_prueba_final de representación one-hot a clases numéricas\n",
        "y_prueba_final_clases = np.argmax(y_prueba_final.values, axis=1)\n",
        "\n",
        "# Calcular las métricas utilizando las clases numéricas\n",
        "precision = precision_score(y_prueba_final_clases, y_pred_classes, average='weighted')\n",
        "recall = recall_score(y_prueba_final_clases, y_pred_classes, average='weighted')\n",
        "f1 = f1_score(y_prueba_final_clases, y_pred_classes, average='weighted')"
      ],
      "metadata": {
        "id": "IFGExT5jRqey"
      },
      "execution_count": 44,
      "outputs": []
    },
    {
      "cell_type": "code",
      "source": [
        "print(\"Precision:\", precision)\n",
        "print(\"Recall:\", recall)\n",
        "print(\"F1 Score:\", f1)"
      ],
      "metadata": {
        "colab": {
          "base_uri": "https://localhost:8080/"
        },
        "id": "7ky0o2zhSN8R",
        "outputId": "82ad60c7-a9a4-42be-cb5d-bdbb7bf895a4"
      },
      "execution_count": 45,
      "outputs": [
        {
          "output_type": "stream",
          "name": "stdout",
          "text": [
            "Precision: 0.8451149376381033\n",
            "Recall: 0.7724366293674355\n",
            "F1 Score: 0.7909604509701612\n"
          ]
        }
      ]
    }
  ]
}