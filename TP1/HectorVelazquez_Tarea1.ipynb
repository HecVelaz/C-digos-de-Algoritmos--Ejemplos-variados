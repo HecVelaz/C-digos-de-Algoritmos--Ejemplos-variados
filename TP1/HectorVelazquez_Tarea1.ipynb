{
  "nbformat": 4,
  "nbformat_minor": 0,
  "metadata": {
    "colab": {
      "provenance": [],
      "authorship_tag": "ABX9TyP44ONc5iHXegy1XEOX4ccc",
      "include_colab_link": true
    },
    "kernelspec": {
      "name": "python3",
      "display_name": "Python 3"
    },
    "language_info": {
      "name": "python"
    }
  },
  "cells": [
    {
      "cell_type": "markdown",
      "metadata": {
        "id": "view-in-github",
        "colab_type": "text"
      },
      "source": [
        "<a href=\"https://colab.research.google.com/github/HecVelaz/Codigos-de-Algoritmos--Ejemplos-variados/blob/main/TP1/HectorVelazquez_Tarea1.ipynb\" target=\"_parent\"><img src=\"https://colab.research.google.com/assets/colab-badge.svg\" alt=\"Open In Colab\"/></a>"
      ]
    },
    {
      "cell_type": "markdown",
      "source": [
        "**Nombre: Héctor Dejesús Velázquez Ojeda**\n",
        "**Ci.:5011166**"
      ],
      "metadata": {
        "id": "_VXryAXARCyu"
      }
    },
    {
      "cell_type": "markdown",
      "source": [
        "En Japón, el número 4 se interpreta como la muerte. La secuencia viva A contiene todos\n",
        "los números naturales que no contienen el dígito 4.\n",
        "Ej A = [1,2,3,5,6,7,8,9,10,11,12,13,15,16, ... ]\n",
        "Por ejemplo, el número 1235 forma parte de la secuencia A, pero los números 4321 y\n",
        "443 no forman parte de la secuencia A.\n",
        "Se te solicita construir un programa para buscar rápidamente un número en una posición\n",
        "específica k en la secuencia. Por ejemplo, si se quiere encontrar el número en la posición\n",
        "k = 4 (partiendo del índice 1) la respuesta sería a[k] = 5."
      ],
      "metadata": {
        "id": "NMjSHk8Hqr4P"
      }
    },
    {
      "cell_type": "markdown",
      "source": [
        "Se introducirá un número \"n\" que corresponde a la cantidad de casos\n",
        "y luego \"k\" que sería la posición en A para saber que número imprimirá\n",
        "ejemplo n=7 , la lista A tendrá 7 elementos.\n",
        "En el archivo de prueba.txt se tiene:  \n",
        "\n",
        "Archivo prueba.txt  \n",
        "\n",
        "*n=7*  \n",
        "*k=6,3,5,22,10,100,12345*\n",
        "\n",
        "Si el archivo prueba.txt no aparece , agregar el archivo y copiar los datos de arriba."
      ],
      "metadata": {
        "id": "gAppLO6LCvSc"
      }
    },
    {
      "cell_type": "code",
      "execution_count": null,
      "metadata": {
        "id": "RMHjJ41ZqkhU",
        "colab": {
          "base_uri": "https://localhost:8080/"
        },
        "outputId": "d57c9e9b-5b4e-460e-9b0c-e2c2aa7dfa92"
      },
      "outputs": [
        {
          "output_type": "stream",
          "name": "stdout",
          "text": [
            "El archivo 'prueba.txt' no se encontró.\n"
          ]
        }
      ],
      "source": [
        "def Secuencia(n):\n",
        "    A = []\n",
        "    for i in range(1, n+1):\n",
        "        if \"4\" not in str(i):\n",
        "            A.append(i)\n",
        "    return A\n",
        "\n",
        "def buscar_numero(k, A):\n",
        "    for i in range(len(A)):\n",
        "        if i == k - 1:\n",
        "            return A[i]\n",
        "\n",
        "entradas = []\n",
        "salidas = []\n",
        "\n",
        "try:\n",
        "    with open('prueba.txt', 'r') as file:\n",
        "        n_line = file.readline().strip()\n",
        "\n",
        "#===================VALIDANDO ENTRADAS DEL TXT==================================#\n",
        "        if not n_line.startswith('n='):\n",
        "            raise ValueError(\"Formato incorrecto para el número de casos de prueba (n).\")\n",
        "        casos_prueba = int(n_line.split('=')[1])\n",
        "\n",
        "        if not 1 <= casos_prueba <= 100:\n",
        "            raise ValueError(\"Número de casos de prueba (n) fuera de rango.\")\n",
        "\n",
        "        k_line = file.readline().strip()\n",
        "        if not k_line.startswith('k='):\n",
        "            raise ValueError(\"Formato incorrecto para la lista de valores (k).\")\n",
        "\n",
        "        k_values = list(map(int, k_line.split('=')[1].split(',')))\n",
        "\n",
        "        if len(k_values) != casos_prueba:\n",
        "            raise ValueError(\"Debe haber la misma cantidad de casos y valores de k.\")\n",
        "\n",
        "        for k in k_values:\n",
        "            if not 1 <= k <= 100000:\n",
        "                raise ValueError(\"Valor de k fuera de rango.\")\n",
        "            ##AGREGAMOS DATOS DE ENTRADA\n",
        "            entradas.append(k)\n",
        "#===============================================================================#\n",
        "            A = Secuencia(100000)\n",
        "            numero = buscar_numero(k, A)\n",
        "            ##AGREGAMOS DATOS A LA SALIDA\n",
        "            salidas.append(numero)\n",
        "\n",
        "    print(\"====Entradas====\")\n",
        "    for entrada in entradas:\n",
        "        print(entrada)\n",
        "\n",
        "    print(\"====Salidas====\")\n",
        "    for salida in salidas:\n",
        "        print(salida)\n",
        "\n",
        "except FileNotFoundError:\n",
        "    print(\"El archivo 'prueba.txt' no se encontró.\")\n",
        "    exit(1)\n",
        "except ValueError as e:\n",
        "    print(str(e))\n",
        "    exit(1)\n"
      ]
    }
  ]
}