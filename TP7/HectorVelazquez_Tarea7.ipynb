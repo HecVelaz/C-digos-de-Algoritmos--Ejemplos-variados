{
  "nbformat": 4,
  "nbformat_minor": 0,
  "metadata": {
    "colab": {
      "provenance": [],
      "authorship_tag": "ABX9TyOn616vbYumv1WCScRZe+Mf",
      "include_colab_link": true
    },
    "kernelspec": {
      "name": "python3",
      "display_name": "Python 3"
    },
    "language_info": {
      "name": "python"
    }
  },
  "cells": [
    {
      "cell_type": "markdown",
      "metadata": {
        "id": "view-in-github",
        "colab_type": "text"
      },
      "source": [
        "<a href=\"https://colab.research.google.com/github/HecVelaz/Codigos-de-Algoritmos--Ejemplos-variados/blob/main/TP7/HectorVelazquez_Tarea7.ipynb\" target=\"_parent\"><img src=\"https://colab.research.google.com/assets/colab-badge.svg\" alt=\"Open In Colab\"/></a>"
      ]
    },
    {
      "cell_type": "markdown",
      "source": [
        "Nombre: Hector Velazquez"
      ],
      "metadata": {
        "id": "Pbdu7Q15Kpe1"
      }
    },
    {
      "cell_type": "code",
      "execution_count": 3,
      "metadata": {
        "colab": {
          "base_uri": "https://localhost:8080/"
        },
        "id": "OCydvfbcJ_WB",
        "outputId": "f359b85d-d681-41ae-b019-bee8fb2559a7"
      },
      "outputs": [
        {
          "output_type": "stream",
          "name": "stdout",
          "text": [
            "Requirement already satisfied: networkx in /usr/local/lib/python3.10/dist-packages (3.3)\n"
          ]
        }
      ],
      "source": [
        "pip install networkx #instalacion para el uso de la biblioteca networkx"
      ]
    },
    {
      "cell_type": "code",
      "source": [
        "import networkx as nx\n",
        "import matplotlib.pyplot as plt #utilizado para graficar"
      ],
      "metadata": {
        "id": "J-o6PAcZLAZk"
      },
      "execution_count": 4,
      "outputs": []
    },
    {
      "cell_type": "code",
      "source": [
        "class Grafo:\n",
        "  def __init__(self):\n",
        "    self.vertices={} #diccionario que almacena vertices\n",
        "\n",
        "  def add_arista(self,u,v):#funcion para agregar arista, agrega 2 vertices como vecinos entre si\n",
        "    if u not in self.vertices:#si u no esta en el dicc se crea una lista\n",
        "      self.vertices[u] = []\n",
        "    if v not in self.vertices:\n",
        "      self.vertices[v] = [] #lo mismo con vertices, se crea una lista nueva\n",
        "      #v y u vecinos y viceversa (Grafo no dirigido)\n",
        "    self.vertices[u].append(v)\n",
        "    self.vertices[v].append(u)\n",
        "\n",
        "  def DFS(self,v,visitados,arbol_actual):#metodo dfs para recorrido en el arbol\n",
        "    visitados.add(v)#vertice v visitado\n",
        "    arbol_actual.append(v)#se agrega v al arbol\n",
        "    for vecino in self.vertices[v]:#itera por los vecinos del vertice v en el grafo\n",
        "      if vecino not in visitados:\n",
        "    #si el vecino no se visitó se llama recursivamente a la funcion Dfs con el vecino como punto de partida\n",
        "        self.DFS(vecino,visitados,arbol_actual)\n",
        "\n",
        "  def contar_arboles(self):\n",
        "    visitados=set()#conjunto para guardar vertices visitados\n",
        "    n_arboles= 0#ini con 0\n",
        "    for v in self.vertices:#recorremos todos los vertices del grafo\n",
        "      if v not in visitados:#para cada vertice no visitado, se crea un arbol nuevo\n",
        "        arbol_actual=[]#lista arbol actual\n",
        "        self.DFS(v, visitados,arbol_actual)#llamamos a la funcion recorrido\n",
        "        n_arboles=n_arboles+1#se incrementa el nro de arboles\n",
        "    return n_arboles#retorna num de arboles\n",
        "\n",
        "\n"
      ],
      "metadata": {
        "id": "_j27nc6iLDQu"
      },
      "execution_count": 5,
      "outputs": []
    },
    {
      "cell_type": "code",
      "source": [
        "# Definir una lista para almacenar las aristas\n",
        "aristas = []  # para graficar el bosque con los árboles de entrada\n",
        "\n",
        "# Solicitar al usuario que ingrese el número de nodos\n",
        "while True:\n",
        "    entrada_nodos = input(\"Entrada:\\n\")\n",
        "    try:\n",
        "        n_nodos = int(entrada_nodos)\n",
        "        if n_nodos <= 0:\n",
        "            print(\"El número de nodos debe ser mayor que 0. Inténtelo de nuevo.\")\n",
        "            continue\n",
        "        break\n",
        "    except ValueError:\n",
        "        print(\"Entrada inválida. Por favor, ingrese un número entero positivo.\")\n",
        "\n",
        "# Solicitar al usuario que ingrese las aristas del bosque\n",
        "# Para validación de la entrada cantidad de nodos a introducir\n",
        "nodos_ingresados = 0\n",
        "while nodos_ingresados < n_nodos:\n",
        "    entrada_arista = input().split()\n",
        "    if entrada_arista[0] == '-1':\n",
        "        if nodos_ingresados != n_nodos:\n",
        "            print(f\"Se esperaban {n_nodos} nodos. Terminando la entrada.\")\n",
        "        break\n",
        "    if len(entrada_arista) != 2:\n",
        "        print(\"Se esperaban dos números separados por un espacio. Inténtelo de nuevo.\")\n",
        "        continue\n",
        "    u, v = map(int, entrada_arista)\n",
        "    aristas.append((u, v))#se agregan los datos ingresados a la lista aristas para poder graficarlos\n",
        "    nodos_ingresados = len(set(sum(aristas, ())))\n",
        "    if nodos_ingresados > n_nodos:\n",
        "        print(f\"Se han ingresado más de {n_nodos} nodos. Inténtelo de nuevo.\")\n",
        "        aristas.pop()  # Eliminar la última arista ingresada\n",
        "        continue\n",
        "# Verificar si se han ingresado la cantidad correcta de nodos\n",
        "if nodos_ingresados != n_nodos:\n",
        "    exit()\n",
        "\n",
        "print('-1')\n",
        "\n",
        "# Crear el bosque con las aristas proporcionadas\n",
        "bosque = Grafo()\n",
        "for u, v in aristas:\n",
        "    bosque.add_arista(u, v)\n",
        "\n",
        "# Calcular y mostrar el número de árboles en el bosque\n",
        "n_arboles = bosque.contar_arboles()\n",
        "print('Salida:\\n')\n",
        "print(n_arboles)\n",
        "\n",
        "##Grafico del bosque de entrada con la salida de arboles\n",
        "\n",
        "G = nx.Graph()\n",
        "G.add_edges_from(aristas)\n",
        "nx.draw(G, with_labels=True, node_size=1000, font_size=15, node_color='red', font_color='white')\n",
        "plt.title(\"Bosque con \"+ str(n_arboles) +\" arboles\")\n",
        "plt.show()\n"
      ],
      "metadata": {
        "colab": {
          "base_uri": "https://localhost:8080/",
          "height": 695
        },
        "id": "Lw0UDE1Jcrem",
        "outputId": "7552af3a-6003-4cd2-8d4b-3566cf43b52f"
      },
      "execution_count": 6,
      "outputs": [
        {
          "output_type": "stream",
          "name": "stdout",
          "text": [
            "Entrada:\n",
            "5\n",
            "1 2\n",
            "1 3\n",
            "4 5\n",
            "-1\n",
            "Salida:\n",
            "\n",
            "2\n"
          ]
        },
        {
          "output_type": "display_data",
          "data": {
            "text/plain": [
              "<Figure size 640x480 with 1 Axes>"
            ],
            "image/png": "[encoded data removed]"
          },
          "metadata": {}
        }
      ]
    }
  ]
}