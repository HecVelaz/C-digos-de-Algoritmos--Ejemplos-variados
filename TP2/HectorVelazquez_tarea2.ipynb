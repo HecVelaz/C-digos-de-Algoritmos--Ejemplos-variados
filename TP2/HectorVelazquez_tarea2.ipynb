{
  "cells": [
    {
      "cell_type": "markdown",
      "metadata": {
        "id": "view-in-github",
        "colab_type": "text"
      },
      "source": [
        "<a href=\"https://colab.research.google.com/github/HecVelaz/Codigos-de-Algoritmos--Ejemplos-variados/blob/main/TP2/HectorVelazquez_tarea2.ipynb\" target=\"_parent\"><img src=\"https://colab.research.google.com/assets/colab-badge.svg\" alt=\"Open In Colab\"/></a>"
      ]
    },
    {
      "cell_type": "markdown",
      "metadata": {
        "id": "_Zm3gt5n4Uyk"
      },
      "source": [
        "**Nombre:Héctor Velázquez**  \n",
        "**Ci.:5011166**"
      ]
    },
    {
      "cell_type": "markdown",
      "metadata": {
        "id": "AbNPRyxE-hfM"
      },
      "source": [
        "**Ejericio de pila y cola**"
      ]
    },
    {
      "cell_type": "code",
      "execution_count": null,
      "metadata": {
        "id": "1UOIbMx9x4xq"
      },
      "outputs": [],
      "source": [
        "class Fila:\n",
        "    #Constructor\n",
        "    def __init__(self):\n",
        "        self.elementos = []\n",
        "\n",
        "    #Insertar un elemento\n",
        "    def insertarcola(self,dato):\n",
        "        self.elementos.append(dato)\n",
        "\n",
        "    #Está vacía?\n",
        "    def esta_Vaciacola(self):\n",
        "        return len(self.elementos)==0\n",
        "\n",
        "    #Sacar un elemento\n",
        "    def quitarcola(self):\n",
        "        if self.esta_Vaciacola():\n",
        "            print(\"La lista esta vacia!! Retorna None...\")\n",
        "            return None\n",
        "        dato = self.elementos[0]\n",
        "        del self.elementos[0] #se desplaza el resto a la izquierda\n",
        "        return dato\n",
        "\n",
        "    #Limpiar la fila\n",
        "    def limpiarcola(self):\n",
        "        del self.elementos[:]\n",
        "\n",
        "    #Frente de la fila\n",
        "    def frentecola(self):\n",
        "        if self.esta_Vaciacola():\n",
        "            print(\"La lista esta vacia!! Retorna None...\")\n",
        "            return None\n",
        "        return self.elementos[0]\n",
        "\n",
        "    #Tamaño de la fila\n",
        "    def tamanhocola(self):\n",
        "        return len(self.elementos)\n",
        "\n",
        "    #Mostrar elementos de la pila\n",
        "    def mostrarElementoscola(self):\n",
        "        print(\"Los elementos de la fila son:\")\n",
        "        print(self.elementos)\n",
        "    def cantidad_pares(self):\n",
        "        count = 0\n",
        "        for num in self.elementos:\n",
        "            if num % 2 == 0:\n",
        "                count += 1\n",
        "        return count\n",
        "    # Eliminar un elemento en la parte delantera de la cola\n",
        "    def eliminar(self):\n",
        "        if self.esta_Vaciacola():\n",
        "            print(\"La cola está vacía. No se puede eliminar ningún elemento.\")\n",
        "            return None\n",
        "        dato = self.elementos.pop(0)\n",
        "        return dato\n",
        "    def es_primo(self, num):\n",
        "        if num <= 1:\n",
        "            return False\n",
        "        for i in range(2, int(num**0.5) + 1):\n",
        "            if num % i == 0:\n",
        "                return False\n",
        "        return True\n",
        "    def cantidad_primos(self):\n",
        "        count = 0\n",
        "        for num in self.elementos:\n",
        "            if self.es_primo(num):\n",
        "                count += 1\n",
        "        return count\n",
        "#########para el ejercicio 7\n",
        "    def mostrarElementoscola7(self):\n",
        "      print(self.elementos)"
      ]
    },
    {
      "cell_type": "code",
      "execution_count": null,
      "metadata": {
        "id": "IT4cTbFB1VuQ"
      },
      "outputs": [],
      "source": [
        "class Pila:\n",
        "    #Constructor\n",
        "    def __init__(self):\n",
        "        self.elementos = []\n",
        "\n",
        "    #Insertar un elemento\n",
        "    def insertar(self,dato):\n",
        "        self.elementos.append(dato)\n",
        "\n",
        "    #Está vacía?\n",
        "    def esta_Vacia(self):\n",
        "        return len(self.elementos)==0\n",
        "\n",
        "    #Sacar un elemento\n",
        "    def quitar(self):\n",
        "        if self.esta_Vacia():\n",
        "            print(\"La lista esta vacia!! Retorna None...\")\n",
        "            return None\n",
        "        return self.elementos.pop()\n",
        "\n",
        "    #Limpiar la pila\n",
        "    def limpiar(self):\n",
        "        del self.elementos[:]\n",
        "\n",
        "    #Cima de la pila\n",
        "    def cima(self):\n",
        "        if self.esta_Vacia():\n",
        "            print(\"La lista esta vacia!! Retorna None...\")\n",
        "            return None\n",
        "        return self.elementos[-1]\n",
        "\n",
        "    #Tamaño de la pila\n",
        "    def tamanho(self):\n",
        "        return len(self.elementos)\n",
        "\n",
        "    #Mostrar elementos de la pila\n",
        "    def mostrarElementos(self):\n",
        "        print(\"Los elementos de la pila son:\")\n",
        "        print(self.elementos)"
      ]
    },
    {
      "cell_type": "markdown",
      "metadata": {
        "id": "EVv-22W32XYt"
      },
      "source": [
        "**EJERCICIO 1**  \n",
        "Escribe un programa que implemente una cola simple de números enteros. El programa debe permitir al usuario realizar las siguientes operaciones:  Encolar un elemento en la cola.  Desencolar un elemento de la cola.  Mostrar el contenido de la cola."
      ]
    },
    {
      "cell_type": "code",
      "execution_count": null,
      "metadata": {
        "id": "uXA16Tl32Yzn",
        "colab": {
          "base_uri": "https://localhost:8080/"
        },
        "outputId": "c8685fce-1022-4ab8-ece0-3f4c124b117a"
      },
      "outputs": [
        {
          "output_type": "stream",
          "name": "stdout",
          "text": [
            "\n",
            ":\n",
            "1. encolar(insertar) un elemento\n",
            "2. Desencolar un elemento\n",
            "3. Mostrar contenido de la cola\n",
            "4. Salir\n",
            "Seleccione una opción: 4\n",
            "Saliendo del programa...\n"
          ]
        }
      ],
      "source": [
        "def Opciones():\n",
        "    print(\"\\n:\")\n",
        "    print(\"1. encolar(insertar) un elemento\")\n",
        "    print(\"2. Desencolar un elemento\")\n",
        "    print(\"3. Mostrar contenido de la cola\")\n",
        "    print(\"4. Salir\")\n",
        "    opcion = input(\"Seleccione una opción: \")\n",
        "    return opcion\n",
        "\n",
        "cola = Fila()\n",
        "while True:\n",
        "    opcion = Opciones()\n",
        "    if opcion == \"1\":\n",
        "        dato = int(input(\"Ingrese el número: \"))\n",
        "        cola.insertarcola(dato)\n",
        "        print(\"Elemento encolado correctamente.\")\n",
        "    elif opcion == \"2\":\n",
        "        elemento_desencolado = cola.quitarcola()\n",
        "        if elemento_desencolado is not None:\n",
        "            print(\"Elemento desencolado:\", elemento_desencolado)\n",
        "    elif opcion == \"3\":\n",
        "        cola.mostrarElementoscola()\n",
        "    elif opcion == \"4\":\n",
        "        print(\"Saliendo del programa...\")\n",
        "        break\n",
        "    else:\n",
        "        print(\"Opción inválida. Por favor, seleccione una opción válida.\")\n"
      ]
    },
    {
      "cell_type": "markdown",
      "metadata": {
        "id": "7YWX0sWP9ys9"
      },
      "source": [
        "**EJERCICIO 2**  \n",
        "Diseña un programa que utilice una cola para almacenar números pares. El programa\n",
        "debe permitir al usuario realizar las siguientes operaciones:\n",
        " Agregar un número par a la cola.\n",
        " Eliminar el número par en la parte delantera de la cola.\n",
        " Mostrar la cantidad total de números pares en la cola."
      ]
    },
    {
      "cell_type": "code",
      "execution_count": null,
      "metadata": {
        "id": "HhtjSGTs90LT",
        "colab": {
          "base_uri": "https://localhost:8080/"
        },
        "outputId": "b683e018-ba5c-4272-c385-dbcf0ff1b3e9"
      },
      "outputs": [
        {
          "output_type": "stream",
          "name": "stdout",
          "text": [
            "\n",
            ":\n",
            "1. Agregar un número par a la cola\n",
            "2. Eliminar el número par en la parte delantera de la cola\n",
            "3. Mostrar la cantidad total de números pares en la cola\n",
            "4. Mostrar elementos en la cola\n",
            "5. Salir\n",
            "Seleccione una opción: 5\n",
            "Saliendo del programa...\n"
          ]
        }
      ],
      "source": [
        "def MENU():\n",
        "  print(\"\\n:\")\n",
        "  print(\"1. Agregar un número par a la cola\")\n",
        "  print(\"2. Eliminar el número par en la parte delantera de la cola\")\n",
        "  print(\"3. Mostrar la cantidad total de números pares en la cola\")\n",
        "  print(\"4. Mostrar elementos en la cola\")\n",
        "  print(\"5. Salir\")\n",
        "  opcion = input(\"Seleccione una opción: \")\n",
        "  return opcion\n",
        "\n",
        "cola=Fila()\n",
        "while True:\n",
        "    option = MENU()\n",
        "    if option ==\"1\":\n",
        "      num = int(input(\"Ingrese un número par para agregar a la cola: \"))\n",
        "      if num % 2 == 0:\n",
        "            cola.insertarcola(num)\n",
        "            print(\"Número par agregado correctamente a la cola.\")\n",
        "      else:\n",
        "            print(\"El número ingresado no es par. Por favor, ingrese un número par.\")\n",
        "    elif option == \"2\":\n",
        "        elemento_eliminado = cola.eliminar()\n",
        "        if elemento_eliminado is not None:\n",
        "            print(\"Número par eliminado de la cola:\", elemento_eliminado)\n",
        "    elif option == \"3\":\n",
        "        count = cola.cantidad_pares()\n",
        "        print(\"Cantidad total de números pares en la cola:\", count)\n",
        "    elif option ==\"4\":\n",
        "        cola.mostrarElementoscola()\n",
        "    elif option == \"5\":\n",
        "        print(\"Saliendo del programa...\")\n",
        "        break\n",
        "    else:\n",
        "        print(\"Opción inválida. Por favor, seleccione una opción válida.\")\n",
        "\n"
      ]
    },
    {
      "cell_type": "markdown",
      "metadata": {
        "id": "euMC9aeDDx1W"
      },
      "source": [
        "**EJERCICIO 3**  \n",
        "Diseña un programa que utilice una cola para almacenar números primos. El programa\n",
        "debe permitir al usuario realizar las siguientes operaciones:\n",
        " Agregar un número primo a la cola.\n",
        " Eliminar el número primo en la parte delantera de la cola.\n",
        " Mostrar la cantidad total de números primos en la cola.\n",
        "El programa debe verificar que los números ingresados sean primos y, en caso contrario,\n",
        "rechazarlos. Puedes utilizar una función para verificar si un número es primo."
      ]
    },
    {
      "cell_type": "code",
      "execution_count": null,
      "metadata": {
        "id": "NS3dfEP8D5As"
      },
      "outputs": [],
      "source": [
        "def MENU():\n",
        "  print(\"\\n:\")\n",
        "  print(\"1. Agregar un número primo a la cola\")\n",
        "  print(\"2. Eliminar el número primo en la parte delantera de la cola\")\n",
        "  print(\"3. Mostrar la cantidad total de números primos en la cola\")\n",
        "  print(\"4. Mostrar elementos en la cola\")\n",
        "  print(\"5. Salir\")\n",
        "  opcion = input(\"Seleccione una opción: \")\n",
        "  return opcion\n",
        "def primo(numero):\n",
        "    if numero <= 1: #si el numero es menor a uno no es primo\n",
        "        return False\n",
        "    for i in range(2, int(numero**0.5) + 1):\n",
        "        if numero % i == 0:\n",
        "            return False\n",
        "    return True\n",
        "cola=Fila()\n",
        "while True:\n",
        "    option = MENU()\n",
        "    if option == \"1\":\n",
        "      num= int (input(\"Agregar el numero primo a la cola:\"))\n",
        "      if primo(num):\n",
        "        cola. insertarcola(num)\n",
        "        print(\"Nro primo agregado correctamente\")\n",
        "      else:\n",
        "        print(\"El nro no es primo\")\n",
        "    elif option ==\"2\":\n",
        "        elemento_eliminado = cola.eliminar()\n",
        "        if elemento_eliminado is not None:\n",
        "            print(\"Número primo eliminado de la cola:\", elemento_eliminado)\n",
        "    elif option ==\"3\":\n",
        "      primos= cola.cantidad_primos()\n",
        "      print(\"La cantidad de numero primos es: \",primos )\n",
        "    elif option ==\"4\":\n",
        "      cola.mostrarElementoscola()\n",
        "    elif option == \"5\":\n",
        "        print(\"Saliendo del programa...\")\n",
        "        break\n",
        "    else:\n",
        "        print(\"Opción inválida. Por favor, seleccione una opción válida.\")\n",
        "\n",
        "\n"
      ]
    },
    {
      "cell_type": "markdown",
      "metadata": {
        "id": "uc5YIT3zZrsH"
      },
      "source": [
        "**EJERCICIO 4**  \n",
        "Escribe un programa que implemente una Pila de cadenas. El programa debe permitir al\n",
        "usuario realizar las siguientes operaciones:\n",
        " Añadir un elemento en la Pila.\n",
        " Sacar un elemento de la Pila.\n",
        " Mostrar el contenido de la Pila."
      ]
    },
    {
      "cell_type": "code",
      "execution_count": null,
      "metadata": {
        "id": "GLSc8l3gZ6Qp",
        "colab": {
          "base_uri": "https://localhost:8080/"
        },
        "outputId": "7a49368f-8782-4913-9ff5-b87a5f2a696a"
      },
      "outputs": [
        {
          "output_type": "stream",
          "name": "stdout",
          "text": [
            "\n",
            "\n",
            "1. Anadir un elemento a la pila\n",
            "2. Sacar un elemento de la pila\n",
            "3. Mostrar el contenido de la pila\n",
            "4. Salir\n",
            "seleccionar una opcion: 4\n",
            "Saliendo del programa...\n"
          ]
        }
      ],
      "source": [
        "def menu():\n",
        "  print(\"\\n\")\n",
        "  print(\"1. Anadir un elemento a la pila\")\n",
        "  print(\"2. Sacar un elemento de la pila\")\n",
        "  print(\"3. Mostrar el contenido de la pila\")\n",
        "  print(\"4. Salir\")\n",
        "  opcion= input(\"seleccionar una opcion: \")\n",
        "  return opcion\n",
        "pila=Pila()\n",
        "while True:\n",
        "    opcion = menu()\n",
        "    if opcion == \"1\":\n",
        "      num = int(input(\"insetar el numero: \"))\n",
        "      pila.insertar(num)\n",
        "      print(\"Nro insertado correctamente\")\n",
        "    elif opcion == \"2\":\n",
        "      pila.quitar()\n",
        "      print(\"Se quito un nro correctamente de la pila\")\n",
        "    elif opcion==\"3\":\n",
        "      pila.mostrarElementos()\n",
        "    elif opcion == \"4\":\n",
        "        print(\"Saliendo del programa...\")\n",
        "        break\n",
        "    else:\n",
        "        print(\"Opción inválida. Por favor, seleccione una opción válida.\")"
      ]
    },
    {
      "cell_type": "markdown",
      "metadata": {
        "id": "g9bojW-Gd6Ww"
      },
      "source": [
        "**Ejercicio 5**  \n",
        "Dada una cadena de caracteres (con letras minúsculas), para cada carácter se debe\n",
        "encontrar el primer carácter no repetido hasta ese momento. Si no existe, se debe mostrar\n",
        "un -1 en esa posición.  \n",
        "Ejemplo  \n",
        "Entrada: a a b c  \n",
        "Salida: a -1 b b"
      ]
    },
    {
      "cell_type": "code",
      "source": [
        "def encontrar_primer_no_repetido(cadena):\n",
        "    unicos = Fila()\n",
        "    repetidos = Fila()\n",
        "    salida = []\n",
        "    for letra in cadena.split(): # dividimos la cadena de letras a,b,c\n",
        "        if letra in unicos.elementos:\n",
        "            unicos.elementos.remove(letra) # si la letra ingresada esta en la lista unicos , se remueve de la lista\n",
        "            repetidos.insertarcola(letra) #   la letra lo pasamos a repetidos\n",
        "        elif letra not in repetidos.elementos:  #si la letra NO esta en repetidos\n",
        "            unicos.insertarcola(letra)    #lo agregamos en la lista unicos\n",
        "\n",
        "        if not unicos.esta_Vaciacola():   #si la lista unicos no esta vacia\n",
        "            salida.append(unicos.frentecola()) # #agregar en salida  los items que estan enfrente en la lista unicos\n",
        "        else:\n",
        "            salida.append('-1')# sino -1\n",
        "\n",
        "    return ' '.join(salida) # agrupamos las letras nuevamente\n",
        "#entrada\n",
        "entrada = \"a a b c \"\n",
        "print(\"Entrada:\", entrada)\n",
        "print(\"Salida:\", encontrar_primer_no_repetido(entrada))\n"
      ],
      "metadata": {
        "colab": {
          "base_uri": "https://localhost:8080/"
        },
        "id": "ZRjvHsVwdz65",
        "outputId": "2ec83873-d065-466e-d8d4-2c9fd66ed663"
      },
      "execution_count": null,
      "outputs": [
        {
          "output_type": "stream",
          "name": "stdout",
          "text": [
            "Entrada: a a b c \n",
            "Salida: a -1 b b\n"
          ]
        }
      ]
    },
    {
      "cell_type": "code",
      "source": [
        "entrada = \"a a b c b c\" # el ultimo debe ser -1 porque no existe un primer caracter repetido\n",
        "print(\"Entrada:\", entrada)\n",
        "print(\"Salida:\", encontrar_primer_no_repetido(entrada))"
      ],
      "metadata": {
        "colab": {
          "base_uri": "https://localhost:8080/"
        },
        "id": "JA6b_AMghGFk",
        "outputId": "75c72ea3-0041-481e-ef6b-83b7da810fc8"
      },
      "execution_count": null,
      "outputs": [
        {
          "output_type": "stream",
          "name": "stdout",
          "text": [
            "Entrada: a a b c b c\n",
            "Salida: a -1 b b c -1\n"
          ]
        }
      ]
    },
    {
      "cell_type": "markdown",
      "metadata": {
        "id": "KFduOhhDeBlt"
      },
      "source": [
        "**Ejercicio 6**  \n",
        "Se tiene una cadena de texto en la cual se quiere determinar si la frase que es\n",
        "palíndroma.\n",
        "Añadir cada carácter de la cadena a la pila y a la vez a la cola.\n",
        "Extraer carácter a carácter simultáneamente de la pila y la cola. Su comparación determina\n",
        "si es palíndromo o no."
      ]
    },
    {
      "cell_type": "code",
      "execution_count": null,
      "metadata": {
        "id": "em3iTOXueQiJ"
      },
      "outputs": [],
      "source": [
        "def es_palindromo(cadena):\n",
        "  pila = []\n",
        "  cola = []\n",
        "  for caracter in cadena: #se agrega a la pila y a la cola\n",
        "    pila.append(caracter)\n",
        "    cola.append(caracter)\n",
        "    #aqui extraemos los elementos y los comparamos se extrae primer elemento de\n",
        "    #la cola y el último elemento de la fila y se compara\n",
        "    #si son distintos return True sino False\n",
        "  while pila:\n",
        "    caracter_pila = pila.pop()\n",
        "    caracter_cola = cola.pop(0)\n",
        "    if caracter_pila != caracter_cola: # si son distintos ya no es palindroma\n",
        "      return False\n",
        "  return True\n",
        "#insertar la frase\n",
        "cadena = input(\"Ingrese una frase: \")\n",
        "if es_palindromo(cadena):\n",
        "  print(f\"La frase '{cadena}' es palíndroma\") #cadena imprimira Si o No de acuerdo al return\n",
        "else:\n",
        "  print(f\"La frase '{cadena}' no es palíndroma\")\n"
      ]
    },
    {
      "cell_type": "markdown",
      "metadata": {
        "id": "wspVyIKK9jYF"
      },
      "source": [
        "**Ejercicio 7**  \n",
        "Se le ha solicitado que implemente un programa para ayudar a gestionar el tráfico aéreo\n",
        "en el Aeropuerto Silvio Petirossi. El programa simulará el trabajo de una torre de control\n",
        "que opera en un aeropuerto con una sola pista de aterrizaje.\n",
        "Usando un par de objetos Cola, modelar el trabajo de una torre de control de un aeropuerto\n",
        "con una pista de aterrizaje. Los aviones que están esperando para aterrizar tienen prioridad\n",
        "sobre los que están esperando para despegar. La clase debe funcionar conforme al\n",
        "siguiente ejemplo:"
      ]
    },
    {
      "cell_type": "code",
      "execution_count": null,
      "metadata": {
        "id": "N8gZD0Hc9pYi",
        "colab": {
          "base_uri": "https://localhost:8080/"
        },
        "outputId": "d62fbc73-b400-463d-dfc3-795d7286bcf7"
      },
      "outputs": [
        {
          "output_type": "stream",
          "name": "stdout",
          "text": [
            "Vuelos esperando para despegar:\n",
            "['KLM1267']\n",
            "Vuelos esperando para aterrizar:\n",
            "['AR156', 'AR32']\n"
          ]
        }
      ],
      "source": [
        "class TorreDeControl(): #creando un clase para el control\n",
        "  def __init__(self):    #constructor\n",
        "    self.partidas=Fila()\n",
        "    self.arribos=Fila()\n",
        "  #funcion nueva_partida para aviones que necesitan despegar\n",
        "  def nueva_partida(self,vuelo):\n",
        "    self.partidas.insertarcola(vuelo)\n",
        "  #funcion nuevo_arribo para aviones que necesitan aterrizar\n",
        "  def nueva_arribo(self,vuelo):\n",
        "    self.arribos.insertarcola(vuelo)\n",
        "  #Funcion para ver el estado de control\n",
        "  def ver_estado(self):\n",
        "    print(\"Vuelos esperando para despegar:\")\n",
        "    self.partidas.mostrarElementoscola7()\n",
        "    print(\"Vuelos esperando para aterrizar:\")\n",
        "    self.arribos.mostrarElementoscola7()\n",
        "\n",
        "  def asignar_pista(self):\n",
        "    if not self.arribos.esta_Vaciacola():\n",
        "      print(\"El vuelo\",self.arribos.quitarcola(),\" aterrizo con exito \")\n",
        "    elif not self.partidas.esta_Vaciacola():\n",
        "      print(\"El vuelo\", self.partidas.quitarcola(),\" despego con exito \")\n",
        "    else:\n",
        "      print(\"No hay vuelos en espera\")\n",
        "    ###inicializando prueba\n",
        "torre = TorreDeControl()\n",
        "torre.nueva_arribo('AR156')\n",
        "torre.nueva_partida('KLM1267')\n",
        "torre.nueva_arribo('AR32')\n",
        "torre.ver_estado()"
      ]
    },
    {
      "cell_type": "code",
      "source": [
        "torre.asignar_pista() #aterriza el primero"
      ],
      "metadata": {
        "colab": {
          "base_uri": "https://localhost:8080/"
        },
        "id": "BXw9e5kzYRVr",
        "outputId": "ca88364d-1c64-4338-8476-148d928dd4d2"
      },
      "execution_count": null,
      "outputs": [
        {
          "output_type": "stream",
          "name": "stdout",
          "text": [
            "El vuelo AR156  aterrizo con exito \n"
          ]
        }
      ]
    },
    {
      "cell_type": "code",
      "source": [
        "torre.asignar_pista()# aterriza el segundo"
      ],
      "metadata": {
        "colab": {
          "base_uri": "https://localhost:8080/"
        },
        "id": "KzRfpCX-aM_Z",
        "outputId": "d54628fa-e759-4fbc-aeff-06f0fbc37465"
      },
      "execution_count": null,
      "outputs": [
        {
          "output_type": "stream",
          "name": "stdout",
          "text": [
            "El vuelo AR32  aterrizo con exito \n"
          ]
        }
      ]
    },
    {
      "cell_type": "code",
      "source": [
        "torre.asignar_pista()#despegó el primero de la lista de partidas"
      ],
      "metadata": {
        "colab": {
          "base_uri": "https://localhost:8080/"
        },
        "id": "lh1r-IzwaUFC",
        "outputId": "5a651961-5670-4b98-85c4-5d461d60ff4a"
      },
      "execution_count": null,
      "outputs": [
        {
          "output_type": "stream",
          "name": "stdout",
          "text": [
            "El vuelo KLM1267  despego con exito \n"
          ]
        }
      ]
    },
    {
      "cell_type": "code",
      "source": [
        "torre.asignar_pista()# lista de partidas y arribos estaVacia"
      ],
      "metadata": {
        "colab": {
          "base_uri": "https://localhost:8080/"
        },
        "id": "yoZHV8hVamAZ",
        "outputId": "6d5da574-0430-437f-e0bf-57641a7479a5"
      },
      "execution_count": null,
      "outputs": [
        {
          "output_type": "stream",
          "name": "stdout",
          "text": [
            "No hay vuelos en espera\n"
          ]
        }
      ]
    }
  ],
  "metadata": {
    "colab": {
      "provenance": [],
      "include_colab_link": true
    },
    "kernelspec": {
      "display_name": "Python 3",
      "name": "python3"
    },
    "language_info": {
      "name": "python"
    }
  },
  "nbformat": 4,
  "nbformat_minor": 0
}