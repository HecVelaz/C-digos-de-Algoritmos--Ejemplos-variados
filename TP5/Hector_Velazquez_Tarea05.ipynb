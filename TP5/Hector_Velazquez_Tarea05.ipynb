{
  "nbformat": 4,
  "nbformat_minor": 0,
  "metadata": {
    "colab": {
      "provenance": [],
      "authorship_tag": "ABX9TyOzSNhwixFlUrdhPdsJQnZQ",
      "include_colab_link": true
    },
    "kernelspec": {
      "name": "python3",
      "display_name": "Python 3"
    },
    "language_info": {
      "name": "python"
    }
  },
  "cells": [
    {
      "cell_type": "markdown",
      "metadata": {
        "id": "view-in-github",
        "colab_type": "text"
      },
      "source": [
        "<a href=\"https://colab.research.google.com/github/HecVelaz/Codigos-de-Algoritmos--Ejemplos-variados/blob/main/TP5/Hector_Velazquez_Tarea05.ipynb\" target=\"_parent\"><img src=\"https://colab.research.google.com/assets/colab-badge.svg\" alt=\"Open In Colab\"/></a>"
      ]
    },
    {
      "cell_type": "markdown",
      "source": [
        "**Dado un árbol binario, determinar si este es un reflejo de sí mismo, es decir, simétrico.**  \n",
        "Construir un programa que dada una instancia de la clase ArbolBin, retorne True si este árbol binario es\n",
        "simétrico, False en caso contrario."
      ],
      "metadata": {
        "id": "AFKZvezNDSRF"
      }
    },
    {
      "cell_type": "code",
      "execution_count": null,
      "metadata": {
        "id": "mzSag6qaCOmX"
      },
      "outputs": [],
      "source": []
    }
  ]
}