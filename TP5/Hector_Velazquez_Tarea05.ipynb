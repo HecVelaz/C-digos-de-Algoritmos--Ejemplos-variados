{
  "nbformat": 4,
  "nbformat_minor": 0,
  "metadata": {
    "colab": {
      "provenance": [],
      "include_colab_link": true
    },
    "kernelspec": {
      "name": "python3",
      "display_name": "Python 3"
    },
    "language_info": {
      "name": "python"
    }
  },
  "cells": [
    {
      "cell_type": "markdown",
      "metadata": {
        "id": "view-in-github",
        "colab_type": "text"
      },
      "source": [
        "<a href=\"https://colab.research.google.com/github/HecVelaz/Codigos-de-Algoritmos--Ejemplos-variados/blob/main/TP5/Hector_Velazquez_Tarea05.ipynb\" target=\"_parent\"><img src=\"https://colab.research.google.com/assets/colab-badge.svg\" alt=\"Open In Colab\"/></a>"
      ]
    },
    {
      "cell_type": "markdown",
      "source": [
        "**Nombre: Héctor Velázquez Ojeda**  \n",
        "\n",
        "**Dado un árbol binario, determinar si este es un reflejo de sí mismo, es decir, simétrico.**  \n",
        "Construir un programa que dada una instancia de la clase ArbolBin, retorne True si este árbol binario es\n",
        "simétrico, False en caso contrario."
      ],
      "metadata": {
        "id": "AFKZvezNDSRF"
      }
    },
    {
      "cell_type": "code",
      "execution_count": null,
      "metadata": {
        "id": "mzSag6qaCOmX"
      },
      "outputs": [],
      "source": [
        "class nodo:\n",
        "    def __init__(self,x):\n",
        "        self.padre = None\n",
        "        self.hijo_izq = None\n",
        "        self.hijo_der = None\n",
        "        self.clave = x\n",
        "    def __str__(self):\n",
        "        cadena= \"nodo\"+ str(self.clave)+\"--->\"\n",
        "        if self.padre != None:\n",
        "          cadena +=\"\\tpadre: \"+str(self.padre.clave)\n",
        "        else:\n",
        "          cadena += \"\\tpadre: Ninguno\"\n",
        "        if self.hijo_izq != None:\n",
        "          cadena += \"\\thi_izq: \"+str(self.hijo_izq.clave)\n",
        "        else:\n",
        "          cadena += \"\\th_izq: Ninguno\"\n",
        "        if self.hijo_der != None:\n",
        "          cadena += \"\\th_der: \" + srt(self.hijo_der.clave)\n",
        "        else:\n",
        "          cadena += \"\\th_der: Ninguno\"\n",
        "        cadena +=\"\\n\"\n",
        "        return cadena"
      ]
    },
    {
      "cell_type": "code",
      "source": [
        "\n",
        "class ArbolBin:\n",
        "    def __init__(self):\n",
        "        self.raiz = None\n",
        "\n",
        "    def mostrarArbolBin(self, sangria=4):\n",
        "        if self.raiz == None:\n",
        "            print(\"El arbol está vacío\")\n",
        "            return\n",
        "        print(\"El arbol es:\")\n",
        "        self.mostrarArbolBinRec(self.raiz, \"\", sangria)\n",
        "\n",
        "    @staticmethod\n",
        "    def mostrarArbolBinRec(nodo, cadena, sangria):\n",
        "        print(str(nodo.clave))\n",
        "        if nodo.hijo_izq != None:\n",
        "            if nodo.hijo_der != None:\n",
        "                print(cadena + \"├\" + \"─\" * sangria, end=\"\")\n",
        "            else:\n",
        "                print(cadena + \"└\" + \"─\" * sangria, end=\"\")\n",
        "            ArbolBin.mostrarArbolBinRec(nodo.hijo_izq, cadena + \"|\" + \" \" * (sangria), sangria)\n",
        "        if nodo.hijo_der != None:\n",
        "            print(cadena + \"└\" + \"─\" * sangria, end=\"\")\n",
        "            ArbolBin.mostrarArbolBinRec(nodo.hijo_der, cadena + \"|\" + \" \" * (sangria), sangria)\n",
        "            ##Funcion que retorna True si es simetrico y False si no lo es\n",
        "    def simetrico(self):\n",
        "      def recursivo_sim(nodo1,nodo2):\n",
        "        if nodo1 is None and nodo2 is None:#si ambos nodos son None es simetrico\n",
        "          return True\n",
        "        if nodo1 is None or nodo2 is None:\n",
        "          return False\n",
        "          #Ver si los nodos son identicos y sus subarboles\n",
        "        return(nodo1.clave == nodo2.clave) and recursivo_sim(nodo1.hijo_izq, nodo2.hijo_der) and recursivo_sim(nodo1.hijo_der, nodo2.hijo_izq)\n",
        "     #recursivo_sim desde la raiz\n",
        "      if self.raiz is None:\n",
        "        #arbol vacio simetrico\n",
        "        return True\n",
        "      else:\n",
        "        return recursivo_sim(self.raiz.hijo_izq, self.raiz.hijo_der)\n",
        "\n",
        "\n",
        "\n",
        "\n"
      ],
      "metadata": {
        "id": "mZ5GwMYV24Uh"
      },
      "execution_count": null,
      "outputs": []
    },
    {
      "cell_type": "code",
      "source": [
        "arbol1 = ArbolBin()\n",
        "nodo1 = nodo(1)\n",
        "arbol1.raiz = nodo1\n",
        "\n",
        "nodo2_1 = nodo(2)\n",
        "nodo1.hijo_izq = nodo2_1\n",
        "nodo2_1.padre = nodo1\n",
        "\n",
        "nodo2_2 = nodo(2)\n",
        "nodo1.hijo_der = nodo2_2\n",
        "nodo2_2.padre = nodo1\n",
        "\n",
        "nodo3 = nodo(3)\n",
        "nodo2_1.hijo_izq = nodo3\n",
        "nodo3.padre = nodo2_1\n",
        "\n",
        "nodo4 = nodo(4)\n",
        "nodo2_1.hijo_der = nodo4\n",
        "nodo4.padre = nodo2_1\n",
        "\n",
        "nodo4_2 = nodo(4)\n",
        "nodo2_2.hijo_izq = nodo4_2\n",
        "nodo4_2.padre = nodo2_2\n",
        "\n",
        "nodo3_2 = nodo(3)\n",
        "nodo2_2.hijo_der = nodo3_2\n",
        "nodo3_2.padre = nodo2_2\n",
        "\n",
        "# Mostramos el árbol binario\n",
        "arbol1.mostrarArbolBin()\n",
        "print(\"\\t\")\n",
        "arbol1.simetrico()"
      ],
      "metadata": {
        "colab": {
          "base_uri": "https://localhost:8080/"
        },
        "id": "-M7Kvt6_Lm4-",
        "outputId": "56315bdd-bc6b-4f97-b270-d8c00404e726"
      },
      "execution_count": null,
      "outputs": [
        {
          "output_type": "stream",
          "name": "stdout",
          "text": [
            "El arbol es:\n",
            "1\n",
            "├────2\n",
            "|    ├────3\n",
            "|    └────4\n",
            "└────2\n",
            "|    ├────4\n",
            "|    └────3\n",
            "\t\n"
          ]
        },
        {
          "output_type": "execute_result",
          "data": {
            "text/plain": [
              "True"
            ]
          },
          "metadata": {},
          "execution_count": 87
        }
      ]
    },
    {
      "cell_type": "code",
      "source": [
        "# Creamos el árbol y los nodos\n",
        "arbol2 = ArbolBin()\n",
        "nodo5 = nodo(5)\n",
        "arbol2.raiz = nodo5\n",
        "\n",
        "nodo100 = nodo(100)\n",
        "nodo5.hijo_izq = nodo100\n",
        "nodo100.padre = nodo5\n",
        "\n",
        "nodo20 = nodo(20)\n",
        "nodo100.hijo_izq = nodo20\n",
        "nodo20.padre = nodo100\n",
        "\n",
        "nodo10 = nodo(10)\n",
        "nodo100.hijo_der = nodo10\n",
        "nodo10.padre = nodo100\n",
        "\n",
        "nodo7 = nodo(7)\n",
        "nodo20.hijo_izq = nodo7\n",
        "nodo7.padre = nodo20\n",
        "\n",
        "nodo4 = nodo(4)\n",
        "nodo20.hijo_der = nodo4\n",
        "nodo4.padre = nodo20\n",
        "\n",
        "nodo3 = nodo(3)\n",
        "nodo5.hijo_der = nodo3\n",
        "nodo3.padre = nodo5\n",
        "\n",
        "nodo8 = nodo(8)\n",
        "nodo3.hijo_der = nodo8\n",
        "nodo8.padre = nodo3\n",
        "\n",
        "nodo9 = nodo(9)\n",
        "nodo8.hijo_der = nodo9\n",
        "nodo9.padre = nodo8\n",
        "\n",
        "# Mostramos el árbol binario\n",
        "arbol2.mostrarArbolBin()\n",
        "print(\"\\t\")\n",
        "arbol2.simetrico()"
      ],
      "metadata": {
        "colab": {
          "base_uri": "https://localhost:8080/"
        },
        "id": "GnHpr5LmL0RE",
        "outputId": "760ea903-7925-4c7e-c601-7019bce77586"
      },
      "execution_count": null,
      "outputs": [
        {
          "output_type": "stream",
          "name": "stdout",
          "text": [
            "El arbol es:\n",
            "5\n",
            "├────100\n",
            "|    ├────20\n",
            "|    |    ├────7\n",
            "|    |    └────4\n",
            "|    └────10\n",
            "└────3\n",
            "|    └────8\n",
            "|    |    └────9\n",
            "\t\n"
          ]
        },
        {
          "output_type": "execute_result",
          "data": {
            "text/plain": [
              "False"
            ]
          },
          "metadata": {},
          "execution_count": 86
        }
      ]
    }
  ]
}