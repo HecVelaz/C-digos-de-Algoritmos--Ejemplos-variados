{
  "nbformat": 4,
  "nbformat_minor": 0,
  "metadata": {
    "colab": {
      "provenance": [],
      "authorship_tag": "ABX9TyMDMU6NWQkQgojgAL7Q7G3F",
      "include_colab_link": true
    },
    "kernelspec": {
      "name": "python3",
      "display_name": "Python 3"
    },
    "language_info": {
      "name": "python"
    }
  },
  "cells": [
    {
      "cell_type": "markdown",
      "metadata": {
        "id": "view-in-github",
        "colab_type": "text"
      },
      "source": [
        "<a href=\"https://colab.research.google.com/github/HecVelaz/Codigos-de-Algoritmos--Ejemplos-variados/blob/main/TP8/HectoVelazquez_Tarea8.ipynb\" target=\"_parent\"><img src=\"https://colab.research.google.com/assets/colab-badge.svg\" alt=\"Open In Colab\"/></a>"
      ]
    },
    {
      "cell_type": "markdown",
      "source": [
        "Nombre: Hector Velazquez  \n",
        "Tarea8"
      ],
      "metadata": {
        "id": "xOmHrG2c-ncB"
      }
    },
    {
      "cell_type": "code",
      "source": [
        "pip install networkx #instalacion para el uso de la biblioteca networkx"
      ],
      "metadata": {
        "colab": {
          "base_uri": "https://localhost:8080/"
        },
        "id": "7-aa_o3e-8MB",
        "outputId": "206b1d30-5d4e-40ee-c208-6b78f61bf42b"
      },
      "execution_count": 1,
      "outputs": [
        {
          "output_type": "stream",
          "name": "stdout",
          "text": [
            "Requirement already satisfied: networkx in /usr/local/lib/python3.10/dist-packages (3.3)\n"
          ]
        }
      ]
    },
    {
      "cell_type": "code",
      "source": [
        "import networkx as nx\n",
        "import matplotlib.pyplot as plt #utilizado para graficos"
      ],
      "metadata": {
        "id": "z4zdqTidJ8O1"
      },
      "execution_count": 2,
      "outputs": []
    },
    {
      "cell_type": "code",
      "source": [
        "class Grafo:\n",
        "  def __init__(self):\n",
        "    self.vertices= {}# diccionario que contiene vertices\n",
        "\n",
        "\n",
        "  def add_arista(self , u , v , peso):#funcion para añadir aristas\n",
        "    if u not in self.vertices:\n",
        "      self.vertices[u] = [] # si u no esta en vertices se agrega lista vacia\n",
        "    if v not in self.vertices:\n",
        "      self.vertices[v] = []  #si v no esta en vertices se agrega lista vacia\n",
        "    self.vertices[u].append((v,peso)) #se agrega la tulpa (v,peso) a la lista de vecinos u en dicc vertices\n",
        "    self.vertices[v].append((u,peso)) #se agrega la tulpa (u,peso) a la lista de vecinos v en dicc vertices\n",
        "\n",
        "  #algoritmo de prim\n",
        "  def Prim(self,ini):#self: hace referencia a la instancia actual de la / ini : nodo actual\n",
        "    visitados = set()#conjunto vacio para seguir nodos ya han sido visitados\n",
        "    cola_prio = [(0,ini)]#tupla que tiene el peso inicial 0 y el nodo inicial, se usa para la arista de menor peso en cada iteracion\n",
        "    costo_total = 0#registro del costo total del árbol de expansión mínimo.\n",
        "    #mientra cola_prio NO este vacio\n",
        "    while cola_prio:\n",
        "          peso, nodo = cola_prio.pop(0)  # Utilizamos pop(0) para obtener el elemento de menor peso\n",
        "          if nodo not in visitados:#verificacion de que un nodo no haya sido visitado previamente\n",
        "            visitados.add(nodo) #se agrega el nodo actual al conjunto de visitados\n",
        "            costo_total =costo_total + peso#actualizacion del costo total\n",
        "            for vecino, peso_vecino in self.vertices[nodo]:#iteracion sobre los vecinos del nodo actual y sus pesos\n",
        "              if vecino not in visitados:#si vecino no se visito\n",
        "                cola_prio.append((peso_vecino, vecino)) ##se agrega el vecino a cola prio junto con el peso , se agrega una arista al conjunto\n",
        "                cola_prio.sort()  # Ordenamos la cola de prioridad después de agregar un nuevo nodo\n",
        "    return costo_total\n",
        "\n",
        "#funcion para graficar el grafo\n",
        "  def dibujar_grafo(self):\n",
        "    G = nx.Graph()\n",
        "    for nodo, vecinos in self.vertices.items():\n",
        "      for vecino, peso in vecinos:\n",
        "        G.add_edge(nodo, vecino, weight=peso)\n",
        "    pos = nx.spring_layout(G)\n",
        "    nx.draw(G, pos, with_labels=True, node_size=700, font_size=15, node_color='red', font_color='black')\n",
        "    nx.draw_networkx_edge_labels(G, pos, font_color='blue', font_size=12)\n",
        "    plt.title(\"Grafo\")\n",
        "    plt.show()\n",
        "\n"
      ],
      "metadata": {
        "id": "BfTjZi_x_Ajd"
      },
      "execution_count": 6,
      "outputs": []
    },
    {
      "cell_type": "code",
      "source": [
        "# Leer los nodos y las aristas del grafo\n",
        "print(\"Entrada:\")\n",
        "nodos = input().split()\n",
        "grafo = Grafo()\n",
        "#entrada solo y único para 3 aristas\n",
        "# Leer las aristas y sus pesos\n",
        "for _ in range(3):  # Permitir exactamente tres conexiones\n",
        "    u, v, peso = input().split()\n",
        "    grafo.add_arista(u, v, int(peso))\n",
        "\n",
        "# Calcular el costo total del MST utilizando el algoritmo de Prim\n",
        "inicio = nodos[0]  # Utilizar el primer nodo como nodo inicial\n",
        "costo_total_mst = grafo.Prim(inicio)\n",
        "\n",
        "# Imprimir el costo total del MST\n",
        "print(\"Salida:\")\n",
        "print(costo_total_mst)\n"
      ],
      "metadata": {
        "colab": {
          "base_uri": "https://localhost:8080/"
        },
        "id": "mMgpbzu7BmIv",
        "outputId": "32ef00cc-7898-4e48-f7c1-7eacde6b17df"
      },
      "execution_count": 12,
      "outputs": [
        {
          "output_type": "stream",
          "name": "stdout",
          "text": [
            "Entrada:\n",
            "a b c \n",
            "a b 5\n",
            "b c 3\n",
            "a c 1\n",
            "Salida:\n",
            "4\n"
          ]
        }
      ]
    },
    {
      "cell_type": "code",
      "source": [
        "grafo.dibujar_grafo()\n"
      ],
      "metadata": {
        "colab": {
          "base_uri": "https://localhost:8080/",
          "height": 539
        },
        "id": "QrK9UaV5HK7g",
        "outputId": "6e877681-3117-43a2-f479-0d363edbe8da"
      },
      "execution_count": 13,
      "outputs": [
        {
          "output_type": "display_data",
          "data": {
            "text/plain": [
              "<Figure size 640x480 with 1 Axes>"
            ],
            "image/png": "[encoded data removed]"
          },
          "metadata": {}
        }
      ]
    }
  ]
}