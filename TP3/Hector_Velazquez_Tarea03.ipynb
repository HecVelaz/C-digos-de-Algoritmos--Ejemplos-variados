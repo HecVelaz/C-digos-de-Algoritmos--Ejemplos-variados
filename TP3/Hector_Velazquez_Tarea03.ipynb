{
  "nbformat": 4,
  "nbformat_minor": 0,
  "metadata": {
    "colab": {
      "provenance": [],
      "authorship_tag": "ABX9TyOY2zlh/pnicF81zKEuDzZg",
      "include_colab_link": true
    },
    "kernelspec": {
      "name": "python3",
      "display_name": "Python 3"
    },
    "language_info": {
      "name": "python"
    }
  },
  "cells": [
    {
      "cell_type": "markdown",
      "metadata": {
        "id": "view-in-github",
        "colab_type": "text"
      },
      "source": [
        "<a href=\"https://colab.research.google.com/github/HecVelaz/Codigos-de-Algoritmos--Ejemplos-variados/blob/main/TP3/Hector_Velazquez_Tarea03.ipynb\" target=\"_parent\"><img src=\"https://colab.research.google.com/assets/colab-badge.svg\" alt=\"Open In Colab\"/></a>"
      ]
    },
    {
      "cell_type": "markdown",
      "source": [
        "1-Buscar un elemento en una lista u otro contenedor es una operación que se realiza con\n",
        "frecuencia y es necesaria al resolver problemas del mundo real. Implementar una función\n",
        "recursiva en Python que a partir de una lista desordenada pueda encontrar un elemento\n",
        "de forma secuencial, debe retornar True en caso que dicho elemento se encuentre en la\n",
        "lista, False en caso contrario."
      ],
      "metadata": {
        "id": "5VjbCU4Oj0RB"
      }
    },
    {
      "cell_type": "code",
      "source": [
        "n = int(input(\"Ingrese la dimensión de la lista: \"))\n",
        "lista = []\n",
        "for i in range(n):\n",
        "    elemento = input(\"Introduzca el elemento de la lista:\\n\")\n",
        "    lista.append(elemento)\n",
        "print(\"Lista:\", lista)\n",
        "a = input(\"Ingrese el elemento a buscar en la lista:\\n\")\n",
        "\n",
        "def buscarElemento(elemento, lista, i=0):\n",
        "    if i == len(lista):#caso base\n",
        "        return False\n",
        "\n",
        "    if lista[i] == elemento:\n",
        "        return True\n",
        "    # Llamada recursiva para buscar en el resto de la lista\n",
        "    return buscarElemento(elemento, lista, i + 1)\n",
        "\n",
        "if buscarElemento(a, lista): #si es true o false\n",
        "    print(f\"El elemento '{a}' está en la lista.\")\n",
        "else:\n",
        "    print(f\"El elemento '{a}' no está en la lista.\")\n",
        "\n"
      ],
      "metadata": {
        "colab": {
          "base_uri": "https://localhost:8080/"
        },
        "id": "e5_w-KYGjy4L",
        "outputId": "3cfe7126-9b5f-4a4a-ded4-d573d4bd2626"
      },
      "execution_count": null,
      "outputs": [
        {
          "output_type": "stream",
          "name": "stdout",
          "text": [
            "Ingrese la dimensión de la lista: 1\n",
            "Introduzca el elemento de la lista:\n",
            "1\n",
            "Lista: ['1']\n",
            "Ingrese el elemento a buscar en la lista:\n",
            "2\n",
            "El elemento '2' no está en la lista.\n"
          ]
        }
      ]
    },
    {
      "cell_type": "markdown",
      "source": [
        "Si la lista de elementos (números en nuestro caso) no está ordenada, la búsqueda\n",
        "secuencial es la única opción para buscar un elemento. Sin embargo, si los números están\n",
        "ordenados (ya sea en orden ascendente o descendente), entonces tenemos un algoritmo\n",
        "mucho más eficiente llamado búsqueda binaria. Implementar un algoritmos de búsqueda\n",
        "binaria de forma recursiva en Python que retorne debe retornar True en caso que el\n",
        "elemento solicitado se encuentre en la lista, False en caso contrario."
      ],
      "metadata": {
        "id": "YlfLmy3T20Xx"
      }
    },
    {
      "cell_type": "code",
      "source": [
        "lista=[2, 3, 5, 6, 9, 10, 11, 14, 15]\n",
        "Elemento= 9\n",
        "\n",
        "def binario(lista,elemento):\n",
        "  return binario_recursivo(lista,elemento,0,len(lista)-1)\n",
        "\n",
        "\n",
        "def binario_recursivo(lista,elemento,i,k):\n",
        "  if i<=k:\n",
        "    m=(i+k)//2        #tomamos parte entera\n",
        "    if lista[m]==elemento:\n",
        "      return True\n",
        "    elif lista[m]<elemento:\n",
        "      return binario_recursivo(lista,elemento, m+1, k) #recorrido parte derecha\n",
        "    else:\n",
        "      return binario_recursivo(lista,elemento, i, m-1) #recorrido parte izquierda desde el primero hasta la mitad\n",
        "  else:\n",
        "      return False\n",
        "\n",
        "if binario(lista,Elemento):#si es true o false\n",
        "  print(f\"El elemento '{Elemento}' está en la lista.\")\n",
        "else:\n",
        "  print(f\"El elemento '{Elemento}' no está en la lista.\")\n"
      ],
      "metadata": {
        "colab": {
          "base_uri": "https://localhost:8080/"
        },
        "id": "0HBDGaKE21Vi",
        "outputId": "1ada7072-fca5-49bc-b64d-c3cbae4a0037"
      },
      "execution_count": null,
      "outputs": [
        {
          "output_type": "stream",
          "name": "stdout",
          "text": [
            "El elemento '16' no está en la lista.\n"
          ]
        }
      ]
    },
    {
      "cell_type": "markdown",
      "source": [
        "Dada una lista de números, implementa una función recursiva en Python que determine el\n",
        "máximo elemento de la lista. La función debería tomar la lista como parámetro y devolver\n",
        "el valor del máximo elemento."
      ],
      "metadata": {
        "id": "zN51-pW1EevB"
      }
    },
    {
      "cell_type": "code",
      "source": [
        "lista=[1,5,6,2,5,100,4]\n",
        "##utilizando la funcion max()\n",
        "def Maximo(lista):\n",
        "  #caso base , si la long de la lista es 1 ,retornar el único valor de la lista\n",
        "  if len(lista)== 1:\n",
        "    return lista[0]\n",
        "  else:\n",
        "    mayor=lista[0]\n",
        "    for elemento in lista[1:]:\n",
        "      if elemento > mayor:\n",
        "        mayor = elemento\n",
        "    return mayor\n",
        "Maximo_prueba=Maximo(lista)\n",
        "print(f\"El valor máximo de la lista es : {Maximo_prueba}\")\n",
        "#=======verificación========#\n",
        "a=max(lista)\n",
        "print(a)"
      ],
      "metadata": {
        "id": "wDQZ0MIXEfqw",
        "colab": {
          "base_uri": "https://localhost:8080/"
        },
        "outputId": "69582da4-951f-4e99-9ca2-1c968667f205"
      },
      "execution_count": null,
      "outputs": [
        {
          "output_type": "stream",
          "name": "stdout",
          "text": [
            "El valor máximo de la lista es : 100\n",
            "100\n"
          ]
        }
      ]
    },
    {
      "cell_type": "markdown",
      "source": [
        "Escribe una función recursiva en Python que se llame soloNumeros(), esta debe retornar\n",
        "una lista de elementos que solo sean números. Ejemplo: soloNumeros([10, ”HOLA”, 30,\n",
        "False, ‘a’, 50]) debe retornar [10, 30, 50]."
      ],
      "metadata": {
        "id": "6QJAZ8aVInnI"
      }
    },
    {
      "cell_type": "code",
      "source": [
        "lista=[10, \"HOLA\", 30, False, 'a', 50,100]\n",
        "def soloNumero(lista): #retorna true si es un numero int o float\n",
        " if not lista: # si existe elemento o tambien  si no esta vacio return []\n",
        "  return []\n",
        " else:\n",
        "  if type(lista[0]) in (int, float): # si es int o float\n",
        "    return [lista[0]] + soloNumero(lista[1:]) # se llama recursivamente a la funcion soloNumero\n",
        "  else:\n",
        "    return soloNumero(lista[1:])\n",
        "print(\"La lista filtrada con numeros es: \\n\")\n",
        "#aplicando la funcion a nuestra lista\n",
        "print(soloNumero(lista))\n",
        "\n"
      ],
      "metadata": {
        "id": "YKLJKIbLIog9",
        "colab": {
          "base_uri": "https://localhost:8080/"
        },
        "outputId": "0d8b67a4-4011-4138-f74a-9c72b019f6cd"
      },
      "execution_count": null,
      "outputs": [
        {
          "output_type": "stream",
          "name": "stdout",
          "text": [
            "La lista filtrada con numeros es: \n",
            "\n",
            "[10, 30, 50, 100]\n"
          ]
        }
      ]
    },
    {
      "cell_type": "markdown",
      "source": [
        "Implemente una función recursiva en Python que se llame reversa() invierta el orden de\n",
        "los elementos en una lista.  \n",
        "Ejemplo: reversa (10, 40,3, 12) debe retornar [12, 3, 40, 10]."
      ],
      "metadata": {
        "id": "4o3DmZC4Io6T"
      }
    },
    {
      "cell_type": "code",
      "source": [
        "reversa=[10,40,3,12]\n",
        "\n",
        "def reverso_recursivo(lista):\n",
        "  if not lista: # si la lista esta vacia\n",
        "    return []\n",
        "  else: #si la lista tie\n",
        "    return [lista[-1]] + reverso_recursivo(lista[:-1])#contruye la lista tomando el ultimo item de la lista\n",
        "    # y llama recursivamente a la funcion para aplicar lo mismo nuevamente .\n",
        "\n",
        "print(reverso_recursivo(reversa))\n",
        "#a=[1,2 ,3 ,4]\n",
        "#print(a[-1])"
      ],
      "metadata": {
        "id": "Gpjl3eQ0Iy_d",
        "colab": {
          "base_uri": "https://localhost:8080/"
        },
        "outputId": "e39f974c-63d1-4d4d-9284-d10fc538e266"
      },
      "execution_count": null,
      "outputs": [
        {
          "output_type": "stream",
          "name": "stdout",
          "text": [
            "[12, 3, 40, 10]\n"
          ]
        }
      ]
    }
  ]
}