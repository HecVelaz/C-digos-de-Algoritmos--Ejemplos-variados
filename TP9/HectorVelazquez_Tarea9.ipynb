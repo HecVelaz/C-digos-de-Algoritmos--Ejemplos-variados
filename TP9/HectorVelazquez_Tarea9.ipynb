{
  "nbformat": 4,
  "nbformat_minor": 0,
  "metadata": {
    "colab": {
      "provenance": [],
      "authorship_tag": "ABX9TyONyZZMJp6Hw6B8pLxm4IiD",
      "include_colab_link": true
    },
    "kernelspec": {
      "name": "python3",
      "display_name": "Python 3"
    },
    "language_info": {
      "name": "python"
    }
  },
  "cells": [
    {
      "cell_type": "markdown",
      "metadata": {
        "id": "view-in-github",
        "colab_type": "text"
      },
      "source": [
        "<a href=\"https://colab.research.google.com/github/HecVelaz/Codigos-de-Algoritmos--Ejemplos-variados/blob/main/TP9/HectorVelazquez_Tarea9.ipynb\" target=\"_parent\"><img src=\"https://colab.research.google.com/assets/colab-badge.svg\" alt=\"Open In Colab\"/></a>"
      ]
    },
    {
      "cell_type": "code",
      "execution_count": null,
      "metadata": {
        "colab": {
          "base_uri": "https://localhost:8080/"
        },
        "id": "PjylSmCVj0o_",
        "outputId": "ceddc5eb-ffbd-42f0-e54f-6b04f0924cff"
      },
      "outputs": [
        {
          "output_type": "stream",
          "name": "stdout",
          "text": [
            "Requirement already satisfied: networkx in /usr/local/lib/python3.10/dist-packages (3.3)\n"
          ]
        }
      ],
      "source": [
        "pip install networkx #instalacion para el uso de la biblioteca networkx\n"
      ]
    },
    {
      "cell_type": "code",
      "source": [
        "import networkx as nx\n",
        "import matplotlib.pyplot as plt #utilizado para graficos"
      ],
      "metadata": {
        "id": "ANNFGSzYkT42"
      },
      "execution_count": null,
      "outputs": []
    },
    {
      "cell_type": "code",
      "source": [
        "class Grafo:\n",
        "    def __init__(self):\n",
        "        self.vertices = {}\n",
        "\n",
        "    def add_arista(self, u, v, peso):#agrega arista\n",
        "        if u not in self.vertices:#si u no esta en vertices, se añade con lista vacia\n",
        "            self.vertices[u] = []#si u no esta en el dicc , se agrega con una lista vacia\n",
        "        if v not in self.vertices:\n",
        "            self.vertices[v] = []#si v no esta en el dicc , se agrega con una lista vacia\n",
        "        self.vertices[u].append((v, peso))#se agrega arista a la lista adyacente a u\n",
        "\n",
        "    def bellmanford(self, fuente):\n",
        "        #dist almacena la disancia mas corta desde el vertice fuente a cada vertice\n",
        "        #v nro de vertices en vertices\n",
        "        dist = {v: float('inf') for v in self.vertices} #dis=infinito , dist al vertice fuente es 0\n",
        "        dist[fuente] = 0\n",
        "        for _ in range(len(self.vertices) - 1):\n",
        "            for u in self.vertices: #para cada vertice u  y cada arista (u,v,peso)\n",
        "                for v, peso in self.vertices[u]:\n",
        "                    if dist[u] != float('inf') and dist[u] + peso < dist[v]:#si u +peso < distancia conocida a v actualizar v\n",
        "                        dist[v] = dist[u] + peso\n",
        "        return dist\n",
        "\n",
        "    def encontrar_inalcanzable(self, nodos, fuente, aristas):\n",
        "        grafo = Grafo()#nueva instancia grado\n",
        "        for arista in aristas: #iteracion arista en aristas\n",
        "            u, v, peso = arista\n",
        "            grafo.add_arista(u, v, int(peso)) # se agrega\n",
        "\n",
        "        distancias = grafo.bellmanford(fuente) #se llama al metodo\n",
        "        #verifica si los nodos son o no alcanzables\n",
        "        for nodo in nodos:\n",
        "            if nodo not in distancias or distancias[nodo] == float('inf'):\n",
        "                return nodo\n",
        "        return '0'\n",
        "\n",
        "    def graficargrafo(self,nodos, aristas):\n",
        "      # Crear una instancia de un grafo dirigido\n",
        "       G = nx.DiGraph()\n",
        "    # Agregar nodos al grafo\n",
        "       G.add_nodes_from(nodos)\n",
        "    # Agregar aristas con sus pesos al grafo\n",
        "       for u, v, peso in aristas:\n",
        "         G.add_edge(u, v, weight=int(peso))\n",
        "    # Definir la disposición del grafo\n",
        "       pos = nx.shell_layout(G)\n",
        "    # Definir etiquetas de las aristas con sus pesos\n",
        "       edge_labels = {(u, v): peso for u, v, peso in aristas}\n",
        "    # Dibujar el grafo con etiquetas de nodos y aristas\n",
        "       nx.draw(G, pos, with_labels=True, node_size=700, node_color='lightblue', font_size=12, font_weight='bold', arrowsize=20)\n",
        "       nx.draw_networkx_edge_labels(G, pos, edge_labels=edge_labels, font_size=10)\n",
        "    # Añadir un título al gráfico\n",
        "       plt.title(\"Grafo con sus conexiones y pesos\")\n",
        "    # Mostrar el gráfico\n",
        "       plt.show()\n"
      ],
      "metadata": {
        "id": "vAGt9KlhkZzj"
      },
      "execution_count": null,
      "outputs": []
    },
    {
      "cell_type": "code",
      "source": [
        "\n",
        "# Lectura de entrada\n",
        "print(\"ENTRADA:\")\n",
        "nodos = input().strip().split()\n",
        "fuente = input().strip()\n",
        "aristas = []\n",
        "\n",
        " #para la parada de carga de datos , se aprieta la tecla enter directo sin datos\n",
        "while True:\n",
        "    entrada = input().strip()\n",
        "    if entrada == \"\":\n",
        "        break\n",
        "    u, v, peso = entrada.split()\n",
        "    aristas.append((u, v, peso))\n",
        "\n",
        "# Encontrar nodo inalcanzable\n",
        "resultado = encontrar_inalcanzable(nodos, fuente, aristas)\n",
        "print(\"SALIDA:\")\n",
        "print(resultado)\n"
      ],
      "metadata": {
        "colab": {
          "base_uri": "https://localhost:8080/"
        },
        "id": "-pBR1U8_lb23",
        "outputId": "2c8c49d2-98b0-42e6-d6f8-4b25ae898ce5"
      },
      "execution_count": null,
      "outputs": [
        {
          "output_type": "stream",
          "name": "stdout",
          "text": [
            "ENTRADA:\n",
            "s t x y \n",
            "s \n",
            "s t 6 \n",
            "t x -2\n",
            "y s 2\n",
            "y x 7\n",
            "\n",
            "SALIDA:\n",
            "y\n"
          ]
        }
      ]
    },
    {
      "cell_type": "code",
      "source": [
        "# Crear una instancia de la clase Grafo\n",
        "grafo = Grafo()\n",
        "# Llamar al método graficargrafo en esa instancia\n",
        "grafo.graficargrafo(nodos, aristas)\n"
      ],
      "metadata": {
        "colab": {
          "base_uri": "https://localhost:8080/",
          "height": 539
        },
        "id": "IWNO4OsPpAkO",
        "outputId": "d096a767-7695-4124-dfef-0509f4c8f421"
      },
      "execution_count": null,
      "outputs": [
        {
          "output_type": "display_data",
          "data": {
            "text/plain": [
              "<Figure size 640x480 with 1 Axes>"
            ],
            "image/png": "[encoded data removed]"
          },
          "metadata": {}
        }
      ]
    },
    {
      "cell_type": "markdown",
      "source": [
        "Ejemplo cuando se tiene nodos alcanzables desde una fuente.  \n",
        "La salida debe ser 0"
      ],
      "metadata": {
        "id": "eX7wONFKxQhM"
      }
    },
    {
      "cell_type": "code",
      "source": [
        "# Lectura de entrada\n",
        "print(\"ENTRADA:\")\n",
        "nodos = input().strip().split()\n",
        "fuente = input().strip()\n",
        "aristas = []\n",
        "\n",
        "\n",
        "while True:\n",
        "    entrada = input().strip()\n",
        "    if entrada == \"\": #para la parada de carga de datos , se aprieta la tecla enter directo sin datos\n",
        "        break\n",
        "    u, v, peso = entrada.split()\n",
        "    aristas.append((u, v, peso))\n",
        "\n",
        "# Encontrar nodo inalcanzable\n",
        "resultado = encontrar_inalcanzable(nodos, fuente, aristas)\n",
        "print(\"SALIDA:\")\n",
        "print(resultado)\n"
      ],
      "metadata": {
        "colab": {
          "base_uri": "https://localhost:8080/"
        },
        "id": "SjtPQMuWqUen",
        "outputId": "20f9b548-5d7b-4fc5-f0b9-2fef930094d4"
      },
      "execution_count": null,
      "outputs": [
        {
          "output_type": "stream",
          "name": "stdout",
          "text": [
            "ENTRADA:\n",
            "x y z \n",
            "x \n",
            "x y 3\n",
            "x z 2\n",
            "y z 4\n",
            "\n",
            "SALIDA:\n",
            "0\n"
          ]
        }
      ]
    },
    {
      "cell_type": "code",
      "source": [
        "# Crear una instancia de la clase Grafo\n",
        "grafo = Grafo()\n",
        "# Llamar al método graficargrafo en esa instancia\n",
        "grafo.graficargrafo(nodos, aristas)"
      ],
      "metadata": {
        "colab": {
          "base_uri": "https://localhost:8080/",
          "height": 539
        },
        "id": "5nk962Q6xWkQ",
        "outputId": "134e3f80-a87c-4729-8ffe-99bdc7e780df"
      },
      "execution_count": null,
      "outputs": [
        {
          "output_type": "display_data",
          "data": {
            "text/plain": [
              "<Figure size 640x480 with 1 Axes>"
            ],
            "image/png": "[encoded data removed]"
          },
          "metadata": {}
        }
      ]
    }
  ]
}